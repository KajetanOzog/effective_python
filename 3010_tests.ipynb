{
 "cells": [
  {
   "cell_type": "markdown",
   "metadata": {},
   "source": [
    "podpisz się: ... # [ 0.5pkt ]"
   ]
  },
  {
   "cell_type": "code",
   "execution_count": 29,
   "metadata": {},
   "outputs": [],
   "source": [
    "# imports if any needed"
   ]
  },
  {
   "cell_type": "markdown",
   "metadata": {},
   "source": [
    "a. funkcja w pythonie przyjmująca listę stringów i klucz zwracająca tylko te słowa które są anagranami [ 1pkt; bonus: 0.5pkt za 1linijke ]"
   ]
  },
  {
   "cell_type": "code",
   "execution_count": 30,
   "metadata": {},
   "outputs": [],
   "source": [
    "def find_anagrams(words, target):\n",
    "    return [word for word in words if sorted(word) == sorted(target)]"
   ]
  },
  {
   "cell_type": "markdown",
   "metadata": {},
   "source": [
    "b. funkcja przyjmująca cel i listę liczb całkowitych zwracająca długość najdłuższej podlisty z sumą równą celowi. [ 2pkt ]"
   ]
  },
  {
   "cell_type": "code",
   "execution_count": 31,
   "metadata": {},
   "outputs": [],
   "source": [
    "def max_length_subarray(nums, target):\n",
    "    sum_dict = {0: -1}\n",
    "    max_length = 0\n",
    "    current_sum = 0\n",
    "    for i, num in enumerate(nums):\n",
    "        current_sum += num\n",
    "        if current_sum - target in sum_dict:\n",
    "            max_length = max(max_length, i - sum_dict[current_sum - target])\n",
    "        if current_sum not in sum_dict:\n",
    "            sum_dict[current_sum] = i\n",
    "    return max_length"
   ]
  },
  {
   "cell_type": "markdown",
   "metadata": {},
   "source": [
    "c. działamy na interwałach: chcemy połączyć przedziały tak, żeby . Przykład: dla [[1, 3], [2, 6], [8, 10], [10, 18]] wypluć [[1, 6], [8, 18]]. Powodzenia! [ 2pkt ]"
   ]
  },
  {
   "cell_type": "code",
   "execution_count": 32,
   "metadata": {},
   "outputs": [],
   "source": [
    "def merge_intervals(intervals):\n",
    "    if not intervals:\n",
    "        return []\n",
    "    intervals.sort(key=lambda x: x[0])\n",
    "    merged = [intervals[0]]\n",
    "    for i in range(1, len(intervals)):\n",
    "        if intervals[i][0] <= merged[-1][1]:\n",
    "            merged[-1][1] = max(merged[-1][1], intervals[i][1])\n",
    "        else:\n",
    "            merged.append(intervals[i])\n",
    "    return merged"
   ]
  },
  {
   "cell_type": "code",
   "execution_count": 33,
   "metadata": {},
   "outputs": [],
   "source": [
    "import unittest"
   ]
  },
  {
   "cell_type": "code",
   "execution_count": 34,
   "metadata": {},
   "outputs": [],
   "source": [
    "class TestFindAnagrams(unittest.TestCase):\n",
    "    def test_basic_anagrams(self):\n",
    "        words = [\"listen\", \"silent\", \"enlist\", \"google\", \"inlets\"]\n",
    "        target = \"listen\"\n",
    "        expected = [\"listen\", \"silent\", \"enlist\", \"inlets\"]\n",
    "        self.assertEqual(find_anagrams(words, target), expected)\n",
    "\n",
    "    def test_no_anagrams(self):\n",
    "        words = [\"apple\", \"banana\", \"carrot\"]\n",
    "        target = \"orange\"\n",
    "        expected = []\n",
    "        self.assertEqual(find_anagrams(words, target), expected)\n",
    "\n",
    "    def test_empty_word_list(self):\n",
    "        words = []\n",
    "        target = \"test\"\n",
    "        expected = []\n",
    "        self.assertEqual(find_anagrams(words, target), expected)\n",
    "\n",
    "    def test_empty_target(self):\n",
    "        words = [\"a\", \"b\", \"c\"]\n",
    "        target = \"\"\n",
    "        expected = []\n",
    "        self.assertEqual(find_anagrams(words, target), expected)\n",
    "\n",
    "    def test_anagrams_with_different_lengths(self):\n",
    "        words = [\"a\", \"ab\", \"ba\", \"abc\", \"cab\", \"bac\"]\n",
    "        target = \"ab\"\n",
    "        expected = [\"ab\", \"ba\"]\n",
    "        self.assertEqual(find_anagrams(words, target), expected)"
   ]
  },
  {
   "cell_type": "code",
   "execution_count": 35,
   "metadata": {},
   "outputs": [],
   "source": [
    "class TestMaxLengthSubarray(unittest.TestCase):\n",
    "    def test_empty_list(self):\n",
    "        self.assertEqual(max_length_subarray([], 0), 0)\n",
    "\n",
    "    def test_single_element(self):\n",
    "        self.assertEqual(max_length_subarray([5], 5), 1)\n",
    "        self.assertEqual(max_length_subarray([5], 10), 0)\n",
    "\n",
    "    def test_multiple_elements_no_subarray(self):\n",
    "        self.assertEqual(max_length_subarray([1, 2, 3, 4, 5], 11), 0)\n",
    "\n",
    "    def test_multiple_elements_single_subarray(self):\n",
    "        self.assertEqual(max_length_subarray([1, 2, 3, 4, 5], 15), 5)\n",
    "        self.assertEqual(max_length_subarray([1, 2, 3, 4, 5], 3), 2)\n",
    "\n",
    "    def test_multiple_elements_multiple_subarrays(self):\n",
    "        self.assertEqual(max_length_subarray([1, -1, 5, -2, 3], 3), 4)\n",
    "        self.assertEqual(max_length_subarray([1, -1, 5, -2, 3], 6), 5)\n",
    "\n",
    "    def test_negative_numbers(self):\n",
    "        self.assertEqual(max_length_subarray([-1, -2, -3, -4, -5], -3), 2)\n",
    "        self.assertEqual(max_length_subarray([-1, -2, -3, -4, -5], -10), 4)\n",
    "\n",
    "    def test_zero_target(self):\n",
    "        self.assertEqual(max_length_subarray([-1, 1, 1, 5, -2, -3], 0), 3)\n",
    "        self.assertEqual(max_length_subarray([1, -1, 5, -2, -3], 0), 5)\n",
    "\n",
    "    def test_duplicate_numbers(self):\n",
    "        self.assertEqual(max_length_subarray([1, 2, 3, 2, 1], 6), 3)\n",
    "        self.assertEqual(max_length_subarray([1, 2, 3, 2, 1], 4), 0)\n",
    "\n",
    "    def test_large_input(self):\n",
    "        self.assertEqual(max_length_subarray(list(range(1, 10001)), 50005000), 10000)"
   ]
  },
  {
   "cell_type": "code",
   "execution_count": 36,
   "metadata": {},
   "outputs": [],
   "source": [
    "class TestMergeIntervals(unittest.TestCase):\n",
    "    def test_no_intervals(self):\n",
    "        self.assertEqual(merge_intervals([]), [])\n",
    "\n",
    "    def test_single_interval(self):\n",
    "        self.assertEqual(merge_intervals([[1, 3]]), [[1, 3]])\n",
    "\n",
    "    def test_non_overlapping_intervals(self):\n",
    "        self.assertEqual(merge_intervals([[1, 2], [3, 4]]), [[1, 2], [3, 4]])\n",
    "\n",
    "    def test_overlapping_intervals(self):\n",
    "        self.assertEqual(merge_intervals([[1, 3], [2, 6], [8, 10], [15, 18]]), [[1, 6], [8, 10], [15, 18]])\n",
    "\n",
    "    def test_contained_intervals(self):\n",
    "        self.assertEqual(merge_intervals([[1, 10], [2, 6], [8, 10], [15, 18]]), [[1, 10], [15, 18]])\n",
    "\n",
    "    def test_adjacent_intervals(self):\n",
    "        self.assertEqual(merge_intervals([[1, 2], [2, 3], [3, 4]]), [[1, 4]])\n",
    "\n",
    "    def test_unsorted_intervals(self):\n",
    "        self.assertEqual(merge_intervals([[3, 4], [1, 2], [2, 3]]), [[1, 4]])\n",
    "        self.assertEqual(merge_intervals([[1, 10], [15, 18], [2, 6], [8, 10]]), [[1, 10], [15, 18]])\n",
    "\n",
    "    def test_intervals_with_same_start(self):\n",
    "        self.assertEqual(merge_intervals([[1, 4], [1, 5]]), [[1, 5]])\n",
    "\n",
    "    def test_intervals_with_same_end(self):\n",
    "        self.assertEqual(merge_intervals([[1, 4], [2, 4]]), [[1, 4]])\n",
    "\n",
    "    def test_large_intervals(self):\n",
    "        self.assertEqual(merge_intervals([[1, 100], [50, 150], [200, 300]]), [[1, 150], [200, 300]])"
   ]
  },
  {
   "cell_type": "code",
   "execution_count": 37,
   "metadata": {},
   "outputs": [
    {
     "name": "stderr",
     "output_type": "stream",
     "text": [
      "test_anagrams_with_different_lengths (__main__.TestFindAnagrams.test_anagrams_with_different_lengths) ... c:\\Users\\mateu\\miniconda3\\envs\\standard\\Lib\\site-packages\\jupyter_client\\session.py:203: DeprecationWarning: datetime.datetime.utcnow() is deprecated and scheduled for removal in a future version. Use timezone-aware objects to represent datetimes in UTC: datetime.datetime.now(datetime.UTC).\n",
      "  return datetime.utcnow().replace(tzinfo=utc)\n",
      "ok\n",
      "test_basic_anagrams (__main__.TestFindAnagrams.test_basic_anagrams) ... ok\n",
      "test_empty_target (__main__.TestFindAnagrams.test_empty_target) ... ok\n",
      "test_empty_word_list (__main__.TestFindAnagrams.test_empty_word_list) ... ok\n",
      "test_no_anagrams (__main__.TestFindAnagrams.test_no_anagrams) ... ok\n",
      "test_duplicate_numbers (__main__.TestMaxLengthSubarray.test_duplicate_numbers) ... ok\n",
      "test_empty_list (__main__.TestMaxLengthSubarray.test_empty_list) ... ok\n",
      "test_large_input (__main__.TestMaxLengthSubarray.test_large_input) ... ok\n",
      "test_multiple_elements_multiple_subarrays (__main__.TestMaxLengthSubarray.test_multiple_elements_multiple_subarrays) ... ok\n",
      "test_multiple_elements_no_subarray (__main__.TestMaxLengthSubarray.test_multiple_elements_no_subarray) ... ok\n",
      "test_multiple_elements_single_subarray (__main__.TestMaxLengthSubarray.test_multiple_elements_single_subarray) ... ok\n",
      "test_negative_numbers (__main__.TestMaxLengthSubarray.test_negative_numbers) ... ok\n",
      "test_single_element (__main__.TestMaxLengthSubarray.test_single_element) ... ok\n",
      "test_zero_target (__main__.TestMaxLengthSubarray.test_zero_target) ... ok\n",
      "test_adjacent_intervals (__main__.TestMergeIntervals.test_adjacent_intervals) ... ok\n",
      "test_contained_intervals (__main__.TestMergeIntervals.test_contained_intervals) ... ok\n",
      "test_intervals_with_same_end (__main__.TestMergeIntervals.test_intervals_with_same_end) ... ok\n",
      "test_intervals_with_same_start (__main__.TestMergeIntervals.test_intervals_with_same_start) ... ok\n",
      "test_large_intervals (__main__.TestMergeIntervals.test_large_intervals) ... ok\n",
      "test_no_intervals (__main__.TestMergeIntervals.test_no_intervals) ... ok\n",
      "test_non_overlapping_intervals (__main__.TestMergeIntervals.test_non_overlapping_intervals) ... ok\n",
      "test_overlapping_intervals (__main__.TestMergeIntervals.test_overlapping_intervals) ... ok\n",
      "test_single_interval (__main__.TestMergeIntervals.test_single_interval) ... ok\n",
      "test_unsorted_intervals (__main__.TestMergeIntervals.test_unsorted_intervals) ... ok\n",
      "\n",
      "----------------------------------------------------------------------\n",
      "Ran 24 tests in 0.046s\n",
      "\n",
      "OK\n"
     ]
    }
   ],
   "source": [
    "res = unittest.main(argv=[''], verbosity=3, exit=False)"
   ]
  },
  {
   "cell_type": "code",
   "execution_count": null,
   "metadata": {},
   "outputs": [],
   "source": []
  }
 ],
 "metadata": {
  "kernelspec": {
   "display_name": "standard",
   "language": "python",
   "name": "python3"
  },
  "language_info": {
   "codemirror_mode": {
    "name": "ipython",
    "version": 3
   },
   "file_extension": ".py",
   "mimetype": "text/x-python",
   "name": "python",
   "nbconvert_exporter": "python",
   "pygments_lexer": "ipython3",
   "version": "3.12.3"
  }
 },
 "nbformat": 4,
 "nbformat_minor": 2
}
