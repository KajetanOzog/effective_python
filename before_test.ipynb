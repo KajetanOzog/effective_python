{
 "cells": [
  {
   "cell_type": "code",
   "execution_count": 16,
   "metadata": {},
   "outputs": [
    {
     "name": "stdout",
     "output_type": "stream",
     "text": [
      "set()\n",
      "{3}\n",
      "{3, -4}\n",
      "{3, -4}\n",
      "{0, 3, -4}\n",
      "[(1, 3)]\n"
     ]
    }
   ],
   "source": [
    "def find_pairs(nums, target):\n",
    "    \"\"\"example [1,8,3,4,2], 4 -> [(1,3)]\"\"\"\n",
    "    targetMinus  = set()\n",
    "    result = []\n",
    "    for n in nums:\n",
    "        print(targetMinus)\n",
    "        if n in targetMinus:\n",
    "            result.append((target - n, n))\n",
    "        else:\n",
    "            targetMinus.add(target - n)\n",
    "    return result\n",
    "\n",
    "print(find_pairs([1,8,3,4,2], 4))"
   ]
  }
 ],
 "metadata": {
  "kernelspec": {
   "display_name": "EF_Python",
   "language": "python",
   "name": "python3"
  },
  "language_info": {
   "codemirror_mode": {
    "name": "ipython",
    "version": 3
   },
   "file_extension": ".py",
   "mimetype": "text/x-python",
   "name": "python",
   "nbconvert_exporter": "python",
   "pygments_lexer": "ipython3",
   "version": "3.12.7"
  }
 },
 "nbformat": 4,
 "nbformat_minor": 2
}
