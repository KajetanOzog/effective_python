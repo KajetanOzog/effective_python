{
 "cells": [
  {
   "cell_type": "markdown",
   "id": "a5238435",
   "metadata": {},
   "source": [
    "## rich\n",
    "Rich is a Python library for enhancing terminal output with rich text and beautiful formatting."
   ]
  },
  {
   "cell_type": "code",
   "execution_count": 3,
   "id": "12f41f50",
   "metadata": {},
   "outputs": [],
   "source": [
    "from rich.console import Console\n",
    "from rich.table import Table"
   ]
  },
  {
   "cell_type": "code",
   "execution_count": 2,
   "id": "4b17fc4c",
   "metadata": {},
   "outputs": [
    {
     "name": "stdout",
     "output_type": "stream",
     "text": [
      "Collecting rich\n",
      "  Obtaining dependency information for rich from https://files.pythonhosted.org/packages/9a/e2/10e9819cf4a20bd8ea2f5dabafc2e6bf4a78d6a0965daeb60a4b34d1c11f/rich-13.9.3-py3-none-any.whl.metadata\n",
      "  Downloading rich-13.9.3-py3-none-any.whl.metadata (18 kB)\n",
      "Collecting markdown-it-py>=2.2.0 (from rich)\n",
      "  Obtaining dependency information for markdown-it-py>=2.2.0 from https://files.pythonhosted.org/packages/42/d7/1ec15b46af6af88f19b8e5ffea08fa375d433c998b8a7639e76935c14f1f/markdown_it_py-3.0.0-py3-none-any.whl.metadata\n",
      "  Using cached markdown_it_py-3.0.0-py3-none-any.whl.metadata (6.9 kB)\n",
      "Requirement already satisfied: pygments<3.0.0,>=2.13.0 in e:\\git_venv\\effective_python\\lib\\site-packages (from rich) (2.17.2)\n",
      "Collecting typing-extensions<5.0,>=4.0.0 (from rich)\n",
      "  Obtaining dependency information for typing-extensions<5.0,>=4.0.0 from https://files.pythonhosted.org/packages/26/9f/ad63fc0248c5379346306f8668cda6e2e2e9c95e01216d2b8ffd9ff037d0/typing_extensions-4.12.2-py3-none-any.whl.metadata\n",
      "  Using cached typing_extensions-4.12.2-py3-none-any.whl.metadata (3.0 kB)\n",
      "Collecting mdurl~=0.1 (from markdown-it-py>=2.2.0->rich)\n",
      "  Obtaining dependency information for mdurl~=0.1 from https://files.pythonhosted.org/packages/b3/38/89ba8ad64ae25be8de66a6d463314cf1eb366222074cfda9ee839c56a4b4/mdurl-0.1.2-py3-none-any.whl.metadata\n",
      "  Using cached mdurl-0.1.2-py3-none-any.whl.metadata (1.6 kB)\n",
      "Downloading rich-13.9.3-py3-none-any.whl (242 kB)\n",
      "   ---------------------------------------- 242.2/242.2 kB 1.1 MB/s eta 0:00:00\n",
      "Using cached markdown_it_py-3.0.0-py3-none-any.whl (87 kB)\n",
      "Using cached typing_extensions-4.12.2-py3-none-any.whl (37 kB)\n",
      "Using cached mdurl-0.1.2-py3-none-any.whl (10.0 kB)\n",
      "Installing collected packages: typing-extensions, mdurl, markdown-it-py, rich\n",
      "Successfully installed markdown-it-py-3.0.0 mdurl-0.1.2 rich-13.9.3 typing-extensions-4.12.2\n"
     ]
    },
    {
     "name": "stderr",
     "output_type": "stream",
     "text": [
      "\n",
      "[notice] A new release of pip is available: 23.2.1 -> 24.2\n",
      "[notice] To update, run: python.exe -m pip install --upgrade pip\n"
     ]
    }
   ],
   "source": [
    "!pip install rich"
   ]
  },
  {
   "cell_type": "code",
   "execution_count": 4,
   "id": "9451a21c",
   "metadata": {},
   "outputs": [
    {
     "data": {
      "text/html": [
       "<pre style=\"white-space:pre;overflow-x:auto;line-height:normal;font-family:Menlo,'DejaVu Sans Mono',consolas,'Courier New',monospace\"><span style=\"font-style: italic\">                          Star Wars Movies                           </span>\n",
       "┏━━━━━━━━━━━━━━┳━━━━━━━━━━━━━━━━━━━━━━━━━━━━━━━━━━━┳━━━━━━━━━━━━━━━━┓\n",
       "┃<span style=\"font-weight: bold\">     Released </span>┃<span style=\"font-weight: bold\"> Title                             </span>┃<span style=\"font-weight: bold\">     Box Office </span>┃\n",
       "┡━━━━━━━━━━━━━━╇━━━━━━━━━━━━━━━━━━━━━━━━━━━━━━━━━━━╇━━━━━━━━━━━━━━━━┩\n",
       "│<span style=\"color: #008080; text-decoration-color: #008080\"> Dec 20, 2019 </span>│<span style=\"color: #800080; text-decoration-color: #800080\"> Star Wars: The Rise of Skywalker  </span>│<span style=\"color: #008000; text-decoration-color: #008000\">   $952,110,690 </span>│\n",
       "│<span style=\"color: #008080; text-decoration-color: #008080\"> May 25, 2018 </span>│<span style=\"color: #800080; text-decoration-color: #800080\"> Solo: A Star Wars Story           </span>│<span style=\"color: #008000; text-decoration-color: #008000\">   $393,151,347 </span>│\n",
       "│<span style=\"color: #008080; text-decoration-color: #008080\"> Dec 15, 2017 </span>│<span style=\"color: #800080; text-decoration-color: #800080\"> Star Wars Ep. V111: The Last Jedi </span>│<span style=\"color: #008000; text-decoration-color: #008000\"> $1,332,539,889 </span>│\n",
       "│<span style=\"color: #008080; text-decoration-color: #008080\"> Dec 16, 2016 </span>│<span style=\"color: #800080; text-decoration-color: #800080\"> Rogue One: A Star Wars Story      </span>│<span style=\"color: #008000; text-decoration-color: #008000\"> $1,332,439,889 </span>│\n",
       "└──────────────┴───────────────────────────────────┴────────────────┘\n",
       "</pre>\n"
      ],
      "text/plain": [
       "\u001b[3m                          Star Wars Movies                           \u001b[0m\n",
       "┏━━━━━━━━━━━━━━┳━━━━━━━━━━━━━━━━━━━━━━━━━━━━━━━━━━━┳━━━━━━━━━━━━━━━━┓\n",
       "┃\u001b[1m \u001b[0m\u001b[1m    Released\u001b[0m\u001b[1m \u001b[0m┃\u001b[1m \u001b[0m\u001b[1mTitle                            \u001b[0m\u001b[1m \u001b[0m┃\u001b[1m \u001b[0m\u001b[1m    Box Office\u001b[0m\u001b[1m \u001b[0m┃\n",
       "┡━━━━━━━━━━━━━━╇━━━━━━━━━━━━━━━━━━━━━━━━━━━━━━━━━━━╇━━━━━━━━━━━━━━━━┩\n",
       "│\u001b[36m \u001b[0m\u001b[36mDec 20, 2019\u001b[0m\u001b[36m \u001b[0m│\u001b[35m \u001b[0m\u001b[35mStar Wars: The Rise of Skywalker \u001b[0m\u001b[35m \u001b[0m│\u001b[32m \u001b[0m\u001b[32m  $952,110,690\u001b[0m\u001b[32m \u001b[0m│\n",
       "│\u001b[36m \u001b[0m\u001b[36mMay 25, 2018\u001b[0m\u001b[36m \u001b[0m│\u001b[35m \u001b[0m\u001b[35mSolo: A Star Wars Story          \u001b[0m\u001b[35m \u001b[0m│\u001b[32m \u001b[0m\u001b[32m  $393,151,347\u001b[0m\u001b[32m \u001b[0m│\n",
       "│\u001b[36m \u001b[0m\u001b[36mDec 15, 2017\u001b[0m\u001b[36m \u001b[0m│\u001b[35m \u001b[0m\u001b[35mStar Wars Ep. V111: The Last Jedi\u001b[0m\u001b[35m \u001b[0m│\u001b[32m \u001b[0m\u001b[32m$1,332,539,889\u001b[0m\u001b[32m \u001b[0m│\n",
       "│\u001b[36m \u001b[0m\u001b[36mDec 16, 2016\u001b[0m\u001b[36m \u001b[0m│\u001b[35m \u001b[0m\u001b[35mRogue One: A Star Wars Story     \u001b[0m\u001b[35m \u001b[0m│\u001b[32m \u001b[0m\u001b[32m$1,332,439,889\u001b[0m\u001b[32m \u001b[0m│\n",
       "└──────────────┴───────────────────────────────────┴────────────────┘\n"
      ]
     },
     "metadata": {},
     "output_type": "display_data"
    }
   ],
   "source": [
    "table = Table(title=\"Star Wars Movies\")\n",
    "table.add_column(\"Released\", justify=\"right\", style=\"cyan\", no_wrap=True)\n",
    "table.add_column(\"Title\", style=\"magenta\")\n",
    "table.add_column(\"Box Office\", justify=\"right\", style=\"green\")\n",
    "table.add_row(\"Dec 20, 2019\", \"Star Wars: The Rise of Skywalker\", \"$952,110,690\")\n",
    "table.add_row(\"May 25, 2018\", \"Solo: A Star Wars Story\", \"$393,151,347\")\n",
    "table.add_row(\"Dec 15, 2017\", \"Star Wars Ep. V111: The Last Jedi\", \"$1,332,539,889\")\n",
    "table.add_row(\"Dec 16, 2016\", \"Rogue One: A Star Wars Story\", \"$1,332,439,889\")\n",
    "console = Console()\n",
    "console.print(table)"
   ]
  },
  {
   "cell_type": "markdown",
   "id": "5874fc42",
   "metadata": {},
   "source": [
    "## tqdm\n",
    "This instantly make your loops show as a progress bar meter. You can use this in your code where you require monitoring progress."
   ]
  },
  {
   "cell_type": "code",
   "execution_count": 6,
   "id": "c5dd4809",
   "metadata": {},
   "outputs": [
    {
     "name": "stdout",
     "output_type": "stream",
     "text": [
      "Collecting tqdm\n",
      "  Obtaining dependency information for tqdm from https://files.pythonhosted.org/packages/48/5d/acf5905c36149bbaec41ccf7f2b68814647347b72075ac0b1fe3022fdc73/tqdm-4.66.5-py3-none-any.whl.metadata\n",
      "  Downloading tqdm-4.66.5-py3-none-any.whl.metadata (57 kB)\n",
      "     ---------------------------------------- 57.6/57.6 kB 1.5 MB/s eta 0:00:00\n",
      "Requirement already satisfied: colorama in e:\\git_venv\\effective_python\\lib\\site-packages (from tqdm) (0.4.6)\n",
      "Downloading tqdm-4.66.5-py3-none-any.whl (78 kB)\n",
      "   ---------------------------------------- 78.4/78.4 kB 4.3 MB/s eta 0:00:00\n",
      "Installing collected packages: tqdm\n",
      "Successfully installed tqdm-4.66.5\n"
     ]
    },
    {
     "name": "stderr",
     "output_type": "stream",
     "text": [
      "\n",
      "[notice] A new release of pip is available: 23.2.1 -> 24.2\n",
      "[notice] To update, run: python.exe -m pip install --upgrade pip\n"
     ]
    }
   ],
   "source": [
    "!pip install tqdm"
   ]
  },
  {
   "cell_type": "code",
   "execution_count": 7,
   "id": "dba83ebd",
   "metadata": {},
   "outputs": [
    {
     "name": "stderr",
     "output_type": "stream",
     "text": [
      "100%|███████████████████████████████████████████████████████████████████████████████████████████████████████████████████████████████████████████████████████████████████████████| 500000000/500000000 [01:05<00:00, 7602611.58it/s]\n"
     ]
    }
   ],
   "source": [
    "from tqdm import tqdm\n",
    "\n",
    "for i in tqdm(range(500000000)):\n",
    "    pass"
   ]
  },
  {
   "cell_type": "markdown",
   "id": "32a15206",
   "metadata": {},
   "source": [
    "## Ellipsis\n",
    "The ellipsis (three dots) is a build-in constant used to represent an infinitive or something unspecified."
   ]
  },
  {
   "cell_type": "code",
   "execution_count": 17,
   "id": "79c53950",
   "metadata": {},
   "outputs": [
    {
     "name": "stdout",
     "output_type": "stream",
     "text": [
      "Ellipsis\n",
      "Ellipsis\n"
     ]
    }
   ],
   "source": [
    "print(...) # Ellipsis literal\n",
    "\n",
    "print(Ellipsis) # Ellipsis object "
   ]
  },
  {
   "cell_type": "code",
   "execution_count": 9,
   "id": "0da5e15a",
   "metadata": {},
   "outputs": [],
   "source": [
    "class MyClass: ...\n",
    "\n",
    "def my_method():\n",
    "  ..."
   ]
  },
  {
   "cell_type": "markdown",
   "id": "429bffb7",
   "metadata": {},
   "source": [
    "## Merge dictionaries\n",
    "There are some interesting ways to merge dictionaries. Here, I will show two of them:"
   ]
  },
  {
   "cell_type": "code",
   "execution_count": 10,
   "id": "a1bb4119",
   "metadata": {},
   "outputs": [
    {
     "name": "stdout",
     "output_type": "stream",
     "text": [
      "{'v1': 22, 'v2': 44, 'v3': 55}\n"
     ]
    }
   ],
   "source": [
    "d1 = {\"v1\": 22, \"v2\": 33}\n",
    "d2 = {\"v2\": 44, \"v3\": 55}\n",
    "\n",
    "d3 = {**d1, **d2}\n",
    "print(d3)"
   ]
  },
  {
   "cell_type": "code",
   "execution_count": 11,
   "id": "389d1529",
   "metadata": {},
   "outputs": [
    {
     "name": "stdout",
     "output_type": "stream",
     "text": [
      "{'v1': 22, 'v2': 44, 'v3': 55}\n",
      "{'v1': 22, 'v2': 44, 'v3': 55}\n"
     ]
    }
   ],
   "source": [
    "d1 = {\"v1\": 22, \"v2\": 33}\n",
    "d2 = {\"v2\": 44, \"v3\": 55}\n",
    "\n",
    "print(d1 | d2)\n",
    "\n",
    "d1 |= d2\n",
    "print(d1)"
   ]
  },
  {
   "cell_type": "markdown",
   "id": "2ab63891",
   "metadata": {},
   "source": [
    "## Match\n",
    "Since Python 3.10, we can use match to execute the switch case statement, as these statements are known in other languages. We can say goodbye to long if-elif chains."
   ]
  },
  {
   "cell_type": "code",
   "execution_count": 19,
   "id": "00bd181c",
   "metadata": {},
   "outputs": [
    {
     "name": "stdout",
     "output_type": "stream",
     "text": [
      "12\n",
      "Exit\n"
     ]
    }
   ],
   "source": [
    "option = input()\n",
    "\n",
    "match option:\n",
    "  case \"M\":\n",
    "    print(\"Menu List\")\n",
    "  case \"1\" | \"2\":\n",
    "    print(\"Menu Option\")\n",
    "  case _:\n",
    "    print(\"Exit\")"
   ]
  },
  {
   "cell_type": "markdown",
   "id": "b7f4e5ef",
   "metadata": {},
   "source": [
    "## Walrus Operator\n",
    "The walrus operator (:=) is an assignment expression introduced in Python 3.8. It allows you to assign values to variables as part of an expression. Before its introduction, assignment was only allowed in standalone statements, but the walrus operator enables assignment within expressions like loops, conditions, and function calls."
   ]
  },
  {
   "cell_type": "code",
   "execution_count": null,
   "id": "3b8b7a37",
   "metadata": {},
   "outputs": [],
   "source": [
    "while True:\n",
    "    user_input = input(\"Enter a valid string (non-empty): \")\n",
    "    if len(user_input) > 0:\n",
    "        break\n",
    "print(f\"Valid input received: {user_input}\")"
   ]
  },
  {
   "cell_type": "code",
   "execution_count": 22,
   "id": "4878ea24",
   "metadata": {},
   "outputs": [
    {
     "name": "stdout",
     "output_type": "stream",
     "text": [
      "Enter a valid string (non-empty): \n",
      "Valid input received: \n"
     ]
    }
   ],
   "source": [
    "while (user_input := input(\"Enter a valid string (non-empty): \")) and len(user_input) == 0:\n",
    "    print(\"Invalid input, try again.\")\n",
    "print(f\"Valid input received: {user_input}\")"
   ]
  },
  {
   "cell_type": "markdown",
   "id": "141831e8",
   "metadata": {},
   "source": [
    "## Memory Slots\n",
    "In Python, the `__slots__` feature is used to reduce memory usage by limiting the attributes an object can have. Normally, Python uses a dynamic dictionary (`__dict__`) to store attributes of an object, which allows for flexibility but consumes more memory.\n",
    "\n",
    "By defining `__slots__`, you explicitly declare a fixed set of attributes, eliminating the use of a `__dict__` and reducing the memory footprint."
   ]
  },
  {
   "cell_type": "code",
   "execution_count": 26,
   "id": "189af1fd",
   "metadata": {},
   "outputs": [],
   "source": [
    "class User:\n",
    "    __slots__ = ['name', 'email']  # Declare fixed attributes\n",
    "    \n",
    "    def __init__(self, name, email):\n",
    "        self.name = name\n",
    "        self.email = email\n",
    "\n",
    "# Creating a million users with `__slots__`\n",
    "users = [User(f\"User{i}\", \"@com\") for i in range(1000000)]"
   ]
  },
  {
   "cell_type": "markdown",
   "id": "875af307",
   "metadata": {},
   "source": [
    "## Suppress\n",
    "Suppress is a Python context manager used to suppress specified exceptions you want to ignore during execution. Instead of wrapping your code with multiple `try-except` blocks, you can use suppress to selectively ignore certain errors. It provides cleaner and more readable code when you know some exceptions are safe to ignore."
   ]
  },
  {
   "cell_type": "code",
   "execution_count": null,
   "id": "2c09e4a0",
   "metadata": {},
   "outputs": [],
   "source": [
    "try:\n",
    "    os.remove(\"non_existent_file.txt\")\n",
    "except FileNotFoundError:\n",
    "    pass"
   ]
  },
  {
   "cell_type": "code",
   "execution_count": 27,
   "id": "72fa81ac",
   "metadata": {},
   "outputs": [],
   "source": [
    "from contextlib import suppress\n",
    "import os\n",
    "\n",
    "# Suppress the FileNotFoundError if the file doesn't exist\n",
    "with suppress(FileNotFoundError):\n",
    "    os.remove(\"non_existent_file.txt\")"
   ]
  },
  {
   "cell_type": "code",
   "execution_count": null,
   "id": "1d891c25",
   "metadata": {},
   "outputs": [],
   "source": []
  }
 ],
 "metadata": {
  "kernelspec": {
   "display_name": "Python 3 (ipykernel)",
   "language": "python",
   "name": "python3"
  },
  "language_info": {
   "codemirror_mode": {
    "name": "ipython",
    "version": 3
   },
   "file_extension": ".py",
   "mimetype": "text/x-python",
   "name": "python",
   "nbconvert_exporter": "python",
   "pygments_lexer": "ipython3",
   "version": "3.10.11"
  }
 },
 "nbformat": 4,
 "nbformat_minor": 5
}
