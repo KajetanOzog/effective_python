{
 "cells": [
  {
   "cell_type": "markdown",
   "metadata": {
    "slideshow": {
     "slide_type": "slide"
    }
   },
   "source": [
    "# Efektywne programowanie w języku Python \n",
    "\n",
    "## wykład 2"
   ]
  },
  {
   "cell_type": "code",
   "execution_count": null,
   "metadata": {},
   "outputs": [],
   "source": []
  },
  {
   "cell_type": "markdown",
   "metadata": {
    "slideshow": {
     "slide_type": "slide"
    }
   },
   "source": [
    "## Do you know that?"
   ]
  },
  {
   "cell_type": "markdown",
   "metadata": {
    "slideshow": {
     "slide_type": "subslide"
    }
   },
   "source": [
    "### Explicit line joining"
   ]
  },
  {
   "cell_type": "code",
   "execution_count": null,
   "metadata": {
    "slideshow": {
     "slide_type": "fragment"
    }
   },
   "outputs": [],
   "source": [
    "if 1900 < year < 2100 and 1 <= month <= 12 \\\n",
    "   and 1 <= day <= 31 and 0 <= hour < 24 \\\n",
    "   and 0 <= minute < 60 and 0 <= second < 60:   # Looks like a valid date\n",
    "        return 1"
   ]
  },
  {
   "cell_type": "markdown",
   "metadata": {
    "slideshow": {
     "slide_type": "fragment"
    }
   },
   "source": [
    "Two or more physical lines may be joined into logical lines using backslash characters (\\), as follows: when a physical line ends in a backslash that is not part of a string literal or comment, it is joined with the following forming a single logical line, deleting the backslash and the following end-of-line character."
   ]
  },
  {
   "cell_type": "markdown",
   "metadata": {
    "slideshow": {
     "slide_type": "subslide"
    }
   },
   "source": [
    "###  String literal concatenation"
   ]
  },
  {
   "cell_type": "code",
   "execution_count": null,
   "metadata": {
    "slideshow": {
     "slide_type": "fragment"
    }
   },
   "outputs": [],
   "source": [
    "re.compile(\"[A-Za-z_]\"       # letter or underscore\n",
    "           \"[A-Za-z0-9_]*\"   # letter, digit or underscore\n",
    "          )"
   ]
  },
  {
   "cell_type": "markdown",
   "metadata": {
    "slideshow": {
     "slide_type": "fragment"
    }
   },
   "source": [
    "Multiple adjacent string or bytes literals (delimited by whitespace), possibly using different quoting conventions, are allowed, and their meaning is the same as their concatenation. Thus, \"hello\" 'world' is equivalent to \"helloworld\"."
   ]
  },
  {
   "cell_type": "markdown",
   "metadata": {
    "slideshow": {
     "slide_type": "fragment"
    }
   },
   "source": [
    "Note that this feature is defined at the syntactical level, but implemented at compile time. The ‘+’ operator must be used to concatenate string expressions at run time."
   ]
  },
  {
   "cell_type": "markdown",
   "metadata": {
    "slideshow": {
     "slide_type": "subslide"
    }
   },
   "source": [
    "### We can use semicolons!!!"
   ]
  },
  {
   "cell_type": "code",
   "execution_count": null,
   "metadata": {
    "slideshow": {
     "slide_type": "fragment"
    }
   },
   "outputs": [],
   "source": [
    "x, y, z = 3, 1, 2"
   ]
  },
  {
   "cell_type": "code",
   "execution_count": null,
   "metadata": {
    "slideshow": {
     "slide_type": "fragment"
    }
   },
   "outputs": [],
   "source": [
    "if x < y < z: print(x); print(y); print(z)"
   ]
  },
  {
   "cell_type": "markdown",
   "metadata": {
    "slideshow": {
     "slide_type": "slide"
    }
   },
   "source": [
    "## What is truth?"
   ]
  },
  {
   "cell_type": "code",
   "execution_count": null,
   "metadata": {
    "slideshow": {
     "slide_type": "fragment"
    }
   },
   "outputs": [],
   "source": [
    "# 'Falsy'\n",
    "bool(None)\n",
    "bool(False)\n",
    "bool(0)\n",
    "bool(0.0)\n",
    "bool('')"
   ]
  },
  {
   "cell_type": "code",
   "execution_count": null,
   "metadata": {
    "slideshow": {
     "slide_type": "subslide"
    }
   },
   "outputs": [],
   "source": [
    "# Empty data structures are 'falsy'\n",
    "bool([]) # => False"
   ]
  },
  {
   "cell_type": "code",
   "execution_count": null,
   "metadata": {
    "slideshow": {
     "slide_type": "fragment"
    }
   },
   "outputs": [],
   "source": [
    "# How should we check for an empty list?\n",
    "data = []\n",
    "if data:\n",
    "    process(data):\n",
    "else:\n",
    "    print(\"There's no data!\")"
   ]
  },
  {
   "cell_type": "markdown",
   "metadata": {
    "slideshow": {
     "slide_type": "fragment"
    }
   },
   "source": [
    "> goto opt02 :) part 1"
   ]
  },
  {
   "cell_type": "code",
   "execution_count": null,
   "metadata": {
    "slideshow": {
     "slide_type": "subslide"
    }
   },
   "outputs": [],
   "source": [
    "#You should not use \n",
    "if expr == True:\n",
    "    pass\n",
    "\n",
    "# or\n",
    "if len(data) == 0:\n",
    "    pass"
   ]
  },
  {
   "cell_type": "markdown",
   "metadata": {
    "slideshow": {
     "slide_type": "slide"
    }
   },
   "source": [
    "## Range"
   ]
  },
  {
   "cell_type": "code",
   "execution_count": 4,
   "metadata": {
    "slideshow": {
     "slide_type": "fragment"
    }
   },
   "outputs": [
    {
     "data": {
      "text/plain": [
       "range(1, 3)"
      ]
     },
     "execution_count": 4,
     "metadata": {},
     "output_type": "execute_result"
    }
   ],
   "source": [
    "range(3)\n",
    "# generates 0, 1, 2\n",
    "\n",
    "range(5, 10)\n",
    "# generates 5, 6, 7, 8, 9\n",
    "\n",
    "range(2, 12, 3)\n",
    "# generates 2, 5, 8, 11\n",
    "\n",
    "range(-7, -30, -5)\n",
    "# generates -7, -12, -17, -22, -27\n",
    "\n",
    "range(1, 3)"
   ]
  },
  {
   "cell_type": "code",
   "execution_count": 1,
   "metadata": {
    "slideshow": {
     "slide_type": "subslide"
    }
   },
   "outputs": [
    {
     "name": "stdout",
     "output_type": "stream",
     "text": [
      "<class 'range'>\n",
      "range(0, 10)\n"
     ]
    }
   ],
   "source": [
    "v = range(10)\n",
    "print(type(v))\n",
    "print(v)"
   ]
  },
  {
   "cell_type": "markdown",
   "metadata": {
    "slideshow": {
     "slide_type": "fragment"
    }
   },
   "source": [
    "co tutaj dostaniemy?"
   ]
  },
  {
   "cell_type": "code",
   "execution_count": 2,
   "metadata": {
    "slideshow": {
     "slide_type": "fragment"
    }
   },
   "outputs": [
    {
     "name": "stdout",
     "output_type": "stream",
     "text": [
      "Help on class range in module builtins:\n",
      "\n",
      "class range(object)\n",
      " |  range(stop) -> range object\n",
      " |  range(start, stop[, step]) -> range object\n",
      " |  \n",
      " |  Return an object that produces a sequence of integers from start (inclusive)\n",
      " |  to stop (exclusive) by step.  range(i, j) produces i, i+1, i+2, ..., j-1.\n",
      " |  start defaults to 0, and stop is omitted!  range(4) produces 0, 1, 2, 3.\n",
      " |  These are exactly the valid indices for a list of 4 elements.\n",
      " |  When step is given, it specifies the increment (or decrement).\n",
      " |  \n",
      " |  Methods defined here:\n",
      " |  \n",
      " |  __bool__(self, /)\n",
      " |      self != 0\n",
      " |  \n",
      " |  __contains__(self, key, /)\n",
      " |      Return key in self.\n",
      " |  \n",
      " |  __eq__(self, value, /)\n",
      " |      Return self==value.\n",
      " |  \n",
      " |  __ge__(self, value, /)\n",
      " |      Return self>=value.\n",
      " |  \n",
      " |  __getattribute__(self, name, /)\n",
      " |      Return getattr(self, name).\n",
      " |  \n",
      " |  __getitem__(self, key, /)\n",
      " |      Return self[key].\n",
      " |  \n",
      " |  __gt__(self, value, /)\n",
      " |      Return self>value.\n",
      " |  \n",
      " |  __hash__(self, /)\n",
      " |      Return hash(self).\n",
      " |  \n",
      " |  __iter__(self, /)\n",
      " |      Implement iter(self).\n",
      " |  \n",
      " |  __le__(self, value, /)\n",
      " |      Return self<=value.\n",
      " |  \n",
      " |  __len__(self, /)\n",
      " |      Return len(self).\n",
      " |  \n",
      " |  __lt__(self, value, /)\n",
      " |      Return self<value.\n",
      " |  \n",
      " |  __ne__(self, value, /)\n",
      " |      Return self!=value.\n",
      " |  \n",
      " |  __new__(*args, **kwargs) from builtins.type\n",
      " |      Create and return a new object.  See help(type) for accurate signature.\n",
      " |  \n",
      " |  __reduce__(...)\n",
      " |      helper for pickle\n",
      " |  \n",
      " |  __repr__(self, /)\n",
      " |      Return repr(self).\n",
      " |  \n",
      " |  __reversed__(...)\n",
      " |      Return a reverse iterator.\n",
      " |  \n",
      " |  count(...)\n",
      " |      rangeobject.count(value) -> integer -- return number of occurrences of value\n",
      " |  \n",
      " |  index(...)\n",
      " |      rangeobject.index(value, [start, [stop]]) -> integer -- return index of value.\n",
      " |      Raise ValueError if the value is not present.\n",
      " |  \n",
      " |  ----------------------------------------------------------------------\n",
      " |  Data descriptors defined here:\n",
      " |  \n",
      " |  start\n",
      " |  \n",
      " |  step\n",
      " |  \n",
      " |  stop\n",
      "\n"
     ]
    }
   ],
   "source": [
    "help(range)"
   ]
  },
  {
   "cell_type": "markdown",
   "metadata": {
    "collapsed": true,
    "slideshow": {
     "slide_type": "slide"
    }
   },
   "source": [
    "## Data structures"
   ]
  },
  {
   "cell_type": "markdown",
   "metadata": {
    "slideshow": {
     "slide_type": "slide"
    }
   },
   "source": [
    "### 1. Lists"
   ]
  },
  {
   "cell_type": "markdown",
   "metadata": {
    "slideshow": {
     "slide_type": "fragment"
    }
   },
   "source": [
    "> Finite, ordered, mutable sequence of elements"
   ]
  },
  {
   "cell_type": "code",
   "execution_count": null,
   "metadata": {
    "slideshow": {
     "slide_type": "fragment"
    }
   },
   "outputs": [],
   "source": [
    "simple_list = [1, 2, 3]"
   ]
  },
  {
   "cell_type": "code",
   "execution_count": null,
   "metadata": {
    "slideshow": {
     "slide_type": "subslide"
    }
   },
   "outputs": [],
   "source": [
    "# Create a new list\n",
    "empty = []\n",
    "empty2 = list()\n",
    "letters = ['a', 'b', 'c', 'd']\n",
    "numbers = [2, 3, 5]"
   ]
  },
  {
   "cell_type": "code",
   "execution_count": null,
   "metadata": {
    "slideshow": {
     "slide_type": "fragment"
    }
   },
   "outputs": [],
   "source": [
    "# Lists can contain elements of different types\n",
    "mixed = [4, 5, \"seconds\"]"
   ]
  },
  {
   "cell_type": "code",
   "execution_count": null,
   "metadata": {
    "slideshow": {
     "slide_type": "fragment"
    }
   },
   "outputs": [],
   "source": [
    "# Append elements to the end of a list\n",
    "numbers.append(7) # numbers == [2, 3, 5, 7]\n",
    "numbers.append(11) # numbers == [2, 3, 5, 7, 11]"
   ]
  },
  {
   "cell_type": "code",
   "execution_count": null,
   "metadata": {
    "slideshow": {
     "slide_type": "fragment"
    }
   },
   "outputs": [],
   "source": [
    "# Access elements at a particular index\n",
    "numbers[0] # => 2\n",
    "numbers[-1] # => 11"
   ]
  },
  {
   "cell_type": "code",
   "execution_count": null,
   "metadata": {
    "slideshow": {
     "slide_type": "fragment"
    }
   },
   "outputs": [],
   "source": [
    "# You can also slice lists - the usual rules apply\n",
    "letters[:3] # => ['a', 'b', 'c']\n",
    "numbers[1:-1] # => [3, 5, 7]"
   ]
  },
  {
   "cell_type": "code",
   "execution_count": null,
   "metadata": {
    "slideshow": {
     "slide_type": "subslide"
    }
   },
   "outputs": [],
   "source": [
    "# Nested lists\n",
    "#\n",
    "# Lists really can contain anything - even other lists!\n",
    "x = [letters, numbers]\n",
    "x # => [['a', 'b', 'c', 'd'], [2, 3, 5, 7, 11]]\n",
    "x[0] # => ['a', 'b', 'c', 'd']\n",
    "x[0][1] # => 'b'\n",
    "x[1][2:] # => [5, 7, 11]"
   ]
  },
  {
   "cell_type": "markdown",
   "metadata": {
    "slideshow": {
     "slide_type": "subslide"
    }
   },
   "source": [
    "Methods reference"
   ]
  },
  {
   "cell_type": "code",
   "execution_count": null,
   "metadata": {
    "slideshow": {
     "slide_type": "subslide"
    }
   },
   "outputs": [],
   "source": [
    "# Extend list by appending elements from the iterable\n",
    "my_list.extend(iterable)\n",
    "# Insert object before index\n",
    "my_list.insert(index, object)\n",
    "# Remove first occurrence of value, or raise ValueError\n",
    "my_list.remove(value)\n",
    "# Remove all items\n",
    "my_list.clear()"
   ]
  },
  {
   "cell_type": "code",
   "execution_count": null,
   "metadata": {
    "slideshow": {
     "slide_type": "subslide"
    }
   },
   "outputs": [],
   "source": [
    "# Return number of occurrences of value\n",
    "my_list.count(value)\n",
    "# Return first index of value, or raise ValueError\n",
    "my_list.index(value, [start, [stop]])\n",
    "# Remove, return item at index (def. last) or IndexError\n",
    "my_list.pop([index])\n",
    "# Stable sort *in place*\n",
    "my_list.sort(key=None, reverse=False)\n",
    "# Reverse *in place*.\n",
    "my_list.reverse()"
   ]
  },
  {
   "cell_type": "code",
   "execution_count": null,
   "metadata": {
    "slideshow": {
     "slide_type": "subslide"
    }
   },
   "outputs": [],
   "source": [
    "# Length (len)\n",
    "len([]) # => 0\n",
    "len(\"python\") # => 6\n",
    "len([4,5,\"seconds\"]) # => 3"
   ]
  },
  {
   "cell_type": "code",
   "execution_count": null,
   "metadata": {
    "slideshow": {
     "slide_type": "fragment"
    }
   },
   "outputs": [],
   "source": [
    "# Membership (in)\n",
    "0 in [] # => False\n",
    "'y' in 'python' # => True\n",
    "'minutes' in [4, 5, 'seconds'] # => False"
   ]
  },
  {
   "cell_type": "markdown",
   "metadata": {
    "slideshow": {
     "slide_type": "slide"
    }
   },
   "source": [
    "### 2. Dictionary"
   ]
  },
  {
   "cell_type": "markdown",
   "metadata": {
    "slideshow": {
     "slide_type": "fragment"
    }
   },
   "source": [
    "> Mutable map from hashable values to arbitrary objects"
   ]
  },
  {
   "cell_type": "markdown",
   "metadata": {
    "slideshow": {
     "slide_type": "fragment"
    }
   },
   "source": [
    "Keys can be a variety of types, as long as they are hashable. Values can be a variety of types too."
   ]
  },
  {
   "cell_type": "code",
   "execution_count": 6,
   "metadata": {
    "slideshow": {
     "slide_type": "subslide"
    }
   },
   "outputs": [
    {
     "data": {
      "text/plain": [
       "True"
      ]
     },
     "execution_count": 6,
     "metadata": {},
     "output_type": "execute_result"
    }
   ],
   "source": [
    "empty = {}\n",
    "type(empty) # => dict\n",
    "empty == dict() # => True"
   ]
  },
  {
   "cell_type": "code",
   "execution_count": 9,
   "metadata": {
    "slideshow": {
     "slide_type": "fragment"
    }
   },
   "outputs": [
    {
     "data": {
      "text/plain": [
       "True"
      ]
     },
     "execution_count": 9,
     "metadata": {},
     "output_type": "execute_result"
    }
   ],
   "source": [
    "a = dict(one=1, two=2, three=3)\n",
    "b = {\"one\": 1, \"two\": 2, \"three\": 3}\n",
    "a == b # => True"
   ]
  },
  {
   "cell_type": "code",
   "execution_count": null,
   "metadata": {
    "slideshow": {
     "slide_type": "subslide"
    }
   },
   "outputs": [],
   "source": [
    "b = {\"one\": 1, \"two\": 2, \"three\": 3}\n",
    "\n",
    "# Get\n",
    "d['one'] # => 1\n",
    "d['five'] # raises KeyError\n",
    "\n",
    "# Set\n",
    "d['two'] = 22 # Modify an existing key\n",
    "d['four'] = 4 # Add a new key"
   ]
  },
  {
   "cell_type": "code",
   "execution_count": null,
   "metadata": {
    "slideshow": {
     "slide_type": "subslide"
    }
   },
   "outputs": [],
   "source": [
    "d = {\"CS\":[106, 107, 110], \"MATH\": [51, 113]}\n",
    "\n",
    "d[\"COMPSCI\"] # raises KeyError\n",
    "\n",
    "# Use get() method to avoid the KeyError\n",
    "d.get(\"CS\") # => [106, 107, 110]\n",
    "d.get(\"PHIL\") # => None (not a KeyError!)\n",
    "\n",
    "english_classes = d.get(\"ENGLISH\", [])\n",
    "num_english = len(english_classes)"
   ]
  },
  {
   "cell_type": "code",
   "execution_count": null,
   "metadata": {
    "slideshow": {
     "slide_type": "subslide"
    }
   },
   "outputs": [],
   "source": [
    "d = {\"one\": 1, \"two\": 2, \"three\": 3}\n",
    "\n",
    "#Raises KeyError if invalid key\n",
    "del d[\"one\"]\n",
    "\n",
    "#Remove and return d['three'] or default value if not in the map\n",
    "d.pop(\"three\", default) # => 3\n",
    "\n",
    "# Remove and return an arbitrary (key, value) pair. Useful for destructive iteration\n",
    "d.popitem() # => (\"two\", 2)"
   ]
  },
  {
   "cell_type": "code",
   "execution_count": null,
   "metadata": {
    "slideshow": {
     "slide_type": "subslide"
    }
   },
   "outputs": [],
   "source": [
    "d = {\"one\": 1, \"two\": 2, \"three\": 3}\n",
    "\n",
    "# These dictionary views are dynamic, reflecting changes in the underlying dictionary!\n",
    "d.keys()\n",
    "d.values()\n",
    "d.items()\n",
    "\n",
    "('one', 1) in d.items()"
   ]
  },
  {
   "cell_type": "code",
   "execution_count": null,
   "metadata": {
    "slideshow": {
     "slide_type": "subslide"
    }
   },
   "outputs": [],
   "source": [
    "len(d)\n",
    "\n",
    "key in d # equiv. to `key in d.keys()`\n",
    "\n",
    "value in d.values()\n",
    "\n",
    "d.copy()\n",
    "d.clear()\n",
    "\n",
    "for key in d: # equiv. to `for key in d.keys():`\n",
    "    print(key)\n",
    "    \n",
    "    \n",
    "for k, v in d.items()\n",
    "    print(k, ': ', v)"
   ]
  },
  {
   "cell_type": "markdown",
   "metadata": {
    "collapsed": true,
    "slideshow": {
     "slide_type": "slide"
    }
   },
   "source": [
    "### 3. Tuples"
   ]
  },
  {
   "cell_type": "markdown",
   "metadata": {
    "slideshow": {
     "slide_type": "fragment"
    }
   },
   "source": [
    "> Immutable Sequences\n",
    ">\n",
    "> To:\n",
    "> 1. Store collections of heterogeneous data\n",
    "> 2. \"Freeze\" sequence to ensure hashability\n",
    "> 3. Enforce immutability for fixed-size collections"
   ]
  },
  {
   "cell_type": "code",
   "execution_count": null,
   "metadata": {
    "slideshow": {
     "slide_type": "subslide"
    }
   },
   "outputs": [],
   "source": [
    "fish = (1, 2, \"red\", \"blue\")\n",
    "fish[0] # => 1\n",
    "fish[0] = 7 # Raises a TypeError"
   ]
  },
  {
   "cell_type": "code",
   "execution_count": null,
   "metadata": {
    "slideshow": {
     "slide_type": "fragment"
    }
   },
   "outputs": [],
   "source": [
    "len(fish) # => 4\n",
    "fish[:2] # => (1, 2)\n",
    "\"red\" in fish # => True"
   ]
  },
  {
   "cell_type": "markdown",
   "metadata": {
    "slideshow": {
     "slide_type": "subslide"
    }
   },
   "source": [
    "#### Argument Packing and Unpacking"
   ]
  },
  {
   "cell_type": "code",
   "execution_count": null,
   "metadata": {
    "slideshow": {
     "slide_type": "fragment"
    }
   },
   "outputs": [],
   "source": [
    "# Comma-separated Rvalues are converted to a tuple\n",
    "t = 12345, 54321, 'hello!'\n",
    "print(t) # (12345, 54321, 'hello!')\n",
    "type(t) # => tuple"
   ]
  },
  {
   "cell_type": "code",
   "execution_count": null,
   "metadata": {
    "slideshow": {
     "slide_type": "fragment"
    }
   },
   "outputs": [],
   "source": [
    "# Comma-separated Lvalues are unpacked automatically\n",
    "x, y, z = t\n",
    "x # => 12345\n",
    "y # => 54321\n",
    "z # => 'hello!'"
   ]
  },
  {
   "cell_type": "code",
   "execution_count": null,
   "metadata": {
    "slideshow": {
     "slide_type": "subslide"
    }
   },
   "outputs": [],
   "source": [
    "for index, color in enumerate(['red','green','blue']):\n",
    "    print(index, color)\n",
    "    \n",
    "# =>\n",
    "# 0 red\n",
    "# 1 green\n",
    "# 2 blue\n",
    "\n",
    "# SOOOOoooooo:\n",
    "#This also means you should almost never use\n",
    "for i in range(len(sequence)):\n",
    "    pass"
   ]
  },
  {
   "cell_type": "markdown",
   "metadata": {
    "slideshow": {
     "slide_type": "subslide"
    }
   },
   "source": [
    "> Tuples contain (immutable) references to underlying objects!"
   ]
  },
  {
   "cell_type": "code",
   "execution_count": null,
   "metadata": {
    "slideshow": {
     "slide_type": "fragment"
    }
   },
   "outputs": [],
   "source": [
    "v = ([1, 2, 3], ['a', 'b', 'c'])\n",
    "v[0].append(4)\n",
    "v # => ([1, 2, 3, 4], ['a', 'b', 'c'])"
   ]
  },
  {
   "cell_type": "markdown",
   "metadata": {
    "slideshow": {
     "slide_type": "subslide"
    }
   },
   "source": [
    "A special problem is the construction of tuples containing 0 or 1 items: the syntax has some extra quirks to accommodate these. Empty tuples are constructed by an empty pair of parentheses; a tuple with one item is constructed by following a value with a comma (it is not sufficient to enclose a single value in parentheses). Ugly, but effective. For example:"
   ]
  },
  {
   "cell_type": "code",
   "execution_count": 5,
   "metadata": {},
   "outputs": [
    {
     "name": "stdout",
     "output_type": "stream",
     "text": [
      "('po',) 1 <class 'tuple'>\n"
     ]
    }
   ],
   "source": [
    "r = 'po',\n",
    "print(r, len(r), type(r))"
   ]
  },
  {
   "cell_type": "code",
   "execution_count": null,
   "metadata": {
    "slideshow": {
     "slide_type": "fragment"
    }
   },
   "outputs": [],
   "source": [
    ">>> empty = ()\n",
    ">>> singleton = 'hello',    # <-- note trailing comma\n",
    ">>> len(empty)\n",
    "0\n",
    ">>> len(singleton)\n",
    "1\n",
    ">>> singleton\n",
    "('hello',)"
   ]
  },
  {
   "cell_type": "markdown",
   "metadata": {
    "slideshow": {
     "slide_type": "slide"
    }
   },
   "source": [
    "### 4. Sets"
   ]
  },
  {
   "cell_type": "markdown",
   "metadata": {
    "slideshow": {
     "slide_type": "fragment"
    }
   },
   "source": [
    "> Unordered collection of distinct hashable elements\n",
    ">\n",
    "> To:\n",
    "> 1. Fast membership testing: O(1) vs. O(n)\n",
    "> 2. Eliminate duplicate entries\n",
    "> 3. Easy set operations (intersection, union, etc.)"
   ]
  },
  {
   "cell_type": "code",
   "execution_count": 6,
   "metadata": {
    "slideshow": {
     "slide_type": "fragment"
    }
   },
   "outputs": [],
   "source": [
    "s = {1, 2, 3}"
   ]
  },
  {
   "cell_type": "code",
   "execution_count": null,
   "metadata": {
    "slideshow": {
     "slide_type": "subslide"
    }
   },
   "outputs": [],
   "source": [
    "empty_set = set()\n",
    "set_from_list = set([1, 2, 1, 4, 3]) # => {1, 3, 4, 2}\n",
    "\n",
    "basket = {\"apple\", \"orange\", \"apple\", \"pear\", \"banana\"}\n",
    "len(basket) # => 4\n",
    "\n",
    "\"orange\" in basket # => True\n",
    "\"crabgrass\" in basket # => False\n",
    "\n",
    "for fruit in basket:\n",
    "    print(fruit, end='/')\n",
    "# => pear/banana/apple/orange/"
   ]
  },
  {
   "cell_type": "code",
   "execution_count": null,
   "metadata": {
    "slideshow": {
     "slide_type": "subslide"
    }
   },
   "outputs": [],
   "source": [
    "a = set(\"mississippi\") # {'i', 'm', 'p', 's'}\n",
    "\n",
    "a.add('r')\n",
    "a.remove('m') # raises KeyError if 'm' is not present\n",
    "a.discard('x') # same as remove, except no error\n",
    "\n",
    "a.pop() # => 's' (or 'i' or 'p')\n",
    "\n",
    "a.clear()\n",
    "\n",
    "len(a) # => 0"
   ]
  },
  {
   "cell_type": "code",
   "execution_count": null,
   "metadata": {
    "slideshow": {
     "slide_type": "subslide"
    }
   },
   "outputs": [],
   "source": [
    "a = set(\"abracadabra\") # {'a', 'r', 'b', 'c', 'd'}\n",
    "b = set(\"alacazam\") # {'a', 'm', 'c', 'l', 'z'}\n",
    "\n",
    "# Set difference\n",
    "a - b # => {'r', 'd', 'b'}\n",
    "\n",
    "# Union\n",
    "a | b # => {'a', 'c', 'r', 'd', 'b', 'm', 'z', 'l'}\n",
    "\n",
    "# Intersection\n",
    "a & b # => {'a', 'c'}\n",
    "\n",
    "# Symmetric Difference\n",
    "a ^ b # => {'r', 'd', 'b', 'm', 'z', 'l'}"
   ]
  },
  {
   "cell_type": "markdown",
   "metadata": {
    "slideshow": {
     "slide_type": "subslide"
    }
   },
   "source": [
    "> goto opt02 :) part 2"
   ]
  },
  {
   "cell_type": "markdown",
   "metadata": {
    "slideshow": {
     "slide_type": "slide"
    }
   },
   "source": [
    "### Loops"
   ]
  },
  {
   "cell_type": "markdown",
   "metadata": {
    "slideshow": {
     "slide_type": "subslide"
    }
   },
   "source": [
    "#### Items in Dictionary"
   ]
  },
  {
   "cell_type": "code",
   "execution_count": null,
   "metadata": {
    "slideshow": {
     "slide_type": "fragment"
    }
   },
   "outputs": [],
   "source": [
    "knights = {'gallahad': 'the pure', 'robin': 'the brave'}\n",
    "\n",
    "for k, v in knights.items():\n",
    "    print(k, v)\n",
    "\n",
    "# =>\n",
    "# gallahad the pure\n",
    "# robin the brave"
   ]
  },
  {
   "cell_type": "markdown",
   "metadata": {
    "slideshow": {
     "slide_type": "subslide"
    }
   },
   "source": [
    "#### zip"
   ]
  },
  {
   "cell_type": "code",
   "execution_count": 6,
   "metadata": {
    "slideshow": {
     "slide_type": "fragment"
    }
   },
   "outputs": [
    {
     "name": "stdout",
     "output_type": "stream",
     "text": [
      "What is your name? Lancelot.\n",
      "What is your quest? To seek the holy grail.\n",
      "What is your favorite color? Blue.\n"
     ]
    }
   ],
   "source": [
    "questions = ['name', 'quest', 'favorite color', 'BAD']\n",
    "answers = ['Lancelot', 'To seek the holy grail', 'Blue']\n",
    "\n",
    "for q, a in zip(questions, answers):\n",
    "    print('What is your {0}? {1}.'.format(q, a))\n",
    "\n",
    "# =>\n",
    "# What is your name? Lancelot.\n",
    "# What is your quest? To seek the holy grail.\n",
    "# What is your favorite color? Blue."
   ]
  },
  {
   "cell_type": "markdown",
   "metadata": {
    "slideshow": {
     "slide_type": "fragment"
    }
   },
   "source": [
    "The zip() function generates pairs of entries from its arguments."
   ]
  },
  {
   "cell_type": "code",
   "execution_count": 8,
   "metadata": {},
   "outputs": [
    {
     "name": "stdout",
     "output_type": "stream",
     "text": [
      "('Aston', 'Audi', 'McLaren')\n",
      "('GPS', 'Car Repair', 'Dolby sound kit')\n"
     ]
    }
   ],
   "source": [
    "# Unzip lists \n",
    "l1,l2 = zip(*[('Aston', 'GPS'),  \n",
    "              ('Audi', 'Car Repair'),  \n",
    "              ('McLaren', 'Dolby sound kit')  \n",
    "           ]) \n",
    "# Printing unzipped lists       \n",
    "print(l1) \n",
    "print(l2) "
   ]
  },
  {
   "cell_type": "markdown",
   "metadata": {
    "slideshow": {
     "slide_type": "subslide"
    }
   },
   "source": [
    "#### Reverse Iteration"
   ]
  },
  {
   "cell_type": "code",
   "execution_count": null,
   "metadata": {
    "slideshow": {
     "slide_type": "fragment"
    }
   },
   "outputs": [],
   "source": [
    "for i in reversed(range(1, 10, 2)):\n",
    "    print(i, end=', ')\n",
    "# =>\n",
    "# 9, 7, 5, 3, 1,"
   ]
  },
  {
   "cell_type": "markdown",
   "metadata": {
    "slideshow": {
     "slide_type": "subslide"
    }
   },
   "source": [
    "#### Sorted Iteration"
   ]
  },
  {
   "cell_type": "code",
   "execution_count": 13,
   "metadata": {
    "slideshow": {
     "slide_type": "fragment"
    }
   },
   "outputs": [
    {
     "name": "stdout",
     "output_type": "stream",
     "text": [
      "apple\n",
      "banana\n",
      "orange\n",
      "pear\n",
      "pear\n"
     ]
    }
   ],
   "source": [
    "basket = ['pear', 'banana', 'orange', 'pear', 'apple']\n",
    "\n",
    "for fruit in sorted(basket):\n",
    "    print(fruit)\n",
    "\n",
    "# =>\n",
    "# apple\n",
    "# banana\n",
    "# orange\n",
    "# pear\n",
    "# pear"
   ]
  },
  {
   "cell_type": "markdown",
   "metadata": {
    "slideshow": {
     "slide_type": "fragment"
    }
   },
   "source": [
    "To loop over a sequence in sorted order, use the sorted() function which returns a new sorted list while leaving the source unaltered."
   ]
  },
  {
   "cell_type": "markdown",
   "metadata": {
    "slideshow": {
     "slide_type": "slide"
    }
   },
   "source": [
    "### Comprehensions"
   ]
  },
  {
   "cell_type": "markdown",
   "metadata": {
    "slideshow": {
     "slide_type": "subslide"
    }
   },
   "source": [
    "**List comprehensions** provide a concise way to create lists. Common applications are to make new lists where each element is the result of some operations applied to each member of another sequence or iterable, or to create a subsequence of those elements that satisfy a certain condition."
   ]
  },
  {
   "cell_type": "code",
   "execution_count": null,
   "metadata": {
    "slideshow": {
     "slide_type": "fragment"
    }
   },
   "outputs": [],
   "source": [
    "squares = []\n",
    "for x in range(10):\n",
    "    squares.append(x**2)\n",
    "\n",
    "squares"
   ]
  },
  {
   "cell_type": "code",
   "execution_count": null,
   "metadata": {
    "slideshow": {
     "slide_type": "fragment"
    }
   },
   "outputs": [],
   "source": [
    "squares = [x**2 for x in range(10)]"
   ]
  },
  {
   "cell_type": "code",
   "execution_count": null,
   "metadata": {
    "slideshow": {
     "slide_type": "fragment"
    }
   },
   "outputs": [],
   "source": [
    "[f(xs) for xs in iter]\n",
    "# Loop over the specified iterable and apply some operation to generate new list elements"
   ]
  },
  {
   "cell_type": "code",
   "execution_count": null,
   "metadata": {
    "slideshow": {
     "slide_type": "fragment"
    }
   },
   "outputs": [],
   "source": [
    "[f(xs) for xs in iter if pred(xs)]\n",
    "# Only keep elements that satisfy a predicate condition"
   ]
  },
  {
   "cell_type": "code",
   "execution_count": 2,
   "metadata": {
    "slideshow": {
     "slide_type": "subslide"
    }
   },
   "outputs": [
    {
     "data": {
      "text/plain": [
       "[(1, 0),\n",
       " (2, 0),\n",
       " (2, 1),\n",
       " (3, 0),\n",
       " (3, 1),\n",
       " (3, 2),\n",
       " (4, 0),\n",
       " (4, 1),\n",
       " (4, 2),\n",
       " (4, 3)]"
      ]
     },
     "execution_count": 2,
     "metadata": {},
     "output_type": "execute_result"
    }
   ],
   "source": [
    "# [word.lower() for word in sentence]\n",
    "\n",
    "# [word for word in sentence if len(word) > 8]\n",
    "\n",
    "[(x, x ** 2, x ** 3) for x in range(10)]\n",
    "\n",
    "[(i,j) for i in range(5) for j in range(i)]"
   ]
  },
  {
   "cell_type": "code",
   "execution_count": 10,
   "metadata": {
    "slideshow": {
     "slide_type": "subslide"
    }
   },
   "outputs": [
    {
     "data": {
      "text/plain": [
       "[(3, 0), (3, 1), (3, 2), (4, 0), (4, 1), (4, 2), (4, 3)]"
      ]
     },
     "execution_count": 10,
     "metadata": {},
     "output_type": "execute_result"
    }
   ],
   "source": [
    "[(i,j) for i in range(5) if i >2 for j in range(i) ]"
   ]
  },
  {
   "cell_type": "code",
   "execution_count": 3,
   "metadata": {
    "slideshow": {
     "slide_type": "subslide"
    }
   },
   "outputs": [
    {
     "data": {
      "text/plain": [
       "[(1, 3), (1, 4), (2, 3), (2, 1), (2, 4), (3, 1), (3, 4)]"
      ]
     },
     "execution_count": 3,
     "metadata": {},
     "output_type": "execute_result"
    }
   ],
   "source": [
    "[(x, y) for x in [1,2,3] for y in [3,1,4] if x != y]"
   ]
  },
  {
   "cell_type": "markdown",
   "metadata": {
    "slideshow": {
     "slide_type": "fragment"
    }
   },
   "source": [
    "it’s equivalent to"
   ]
  },
  {
   "cell_type": "code",
   "execution_count": null,
   "metadata": {
    "slideshow": {
     "slide_type": "fragment"
    }
   },
   "outputs": [],
   "source": [
    "combs = []\n",
    "for x in [1,2,3]:\n",
    "    for y in [3,1,4]:\n",
    "        if x != y:\n",
    "            combs.append((x, y))\n",
    "combs"
   ]
  },
  {
   "cell_type": "code",
   "execution_count": null,
   "metadata": {
    "slideshow": {
     "slide_type": "subslide"
    }
   },
   "outputs": [],
   "source": [
    "# Dictionary Comprehensions\n",
    "{key_func(vars):val_func(vars) for vars in iterable}\n",
    "{v:k for k, v in d.items()}"
   ]
  },
  {
   "cell_type": "code",
   "execution_count": null,
   "metadata": {
    "slideshow": {
     "slide_type": "fragment"
    }
   },
   "outputs": [],
   "source": [
    "# Set Comprehensions\n",
    "{func(vars) for vars in iterable}\n",
    "{word for word in hamlet if is_palindrome(word.lower())}"
   ]
  },
  {
   "cell_type": "code",
   "execution_count": 15,
   "metadata": {
    "slideshow": {
     "slide_type": "subslide"
    }
   },
   "outputs": [
    {
     "data": {
      "text/plain": [
       "True"
      ]
     },
     "execution_count": 15,
     "metadata": {},
     "output_type": "execute_result"
    }
   ],
   "source": [
    "# (1, 2, 3)              < (1, 2, 4)                    # True\n",
    "# [1, 2, 3]              < [1, 2, 4]\n",
    "# 'ABC' < 'C' < 'Pascal' < 'Python'\n",
    "# (1, 2, 3, 4)           < (1, 2, 4)\n",
    "# (1, 2)                 < (1, 2, -1)\n",
    "# (1, 2, 3)             == (1.0, 2.0, 3.0)\n",
    "(1, 2, ('aa', 'ab'), 8)   < (1, 2, ('abc', 'a'), 4)"
   ]
  },
  {
   "cell_type": "markdown",
   "metadata": {
    "slideshow": {
     "slide_type": "fragment"
    }
   },
   "source": [
    "Sequence objects may be compared to other objects with the same sequence type. The comparison uses lexicographical ordering: first the first two items are compared, and if they differ this determines the outcome of the comparison; if not, the next two items are compared, and so on..."
   ]
  },
  {
   "cell_type": "markdown",
   "metadata": {},
   "source": [
    "https://martinheinz.dev/blog/80"
   ]
  },
  {
   "cell_type": "markdown",
   "metadata": {
    "slideshow": {
     "slide_type": "slide"
    }
   },
   "source": [
    "## Time complexity???"
   ]
  },
  {
   "cell_type": "markdown",
   "metadata": {
    "slideshow": {
     "slide_type": "fragment"
    }
   },
   "source": [
    "[https://wiki.python.org/moin/TimeComplexity](https://wiki.python.org/moin/TimeComplexity)"
   ]
  },
  {
   "cell_type": "markdown",
   "metadata": {
    "slideshow": {
     "slide_type": "slide"
    }
   },
   "source": [
    "Source\n",
    "1. [http://treyhunner.com/2015/12/python-list-comprehensions-now-in-color/](http://treyhunner.com/2015/12/python-list-comprehensions-now-in-color/)\n"
   ]
  },
  {
   "cell_type": "markdown",
   "metadata": {
    "slideshow": {
     "slide_type": "slide"
    }
   },
   "source": [
    "## Is it really fast??"
   ]
  },
  {
   "cell_type": "code",
   "execution_count": 2,
   "metadata": {},
   "outputs": [
    {
     "name": "stdout",
     "output_type": "stream",
     "text": [
      "Collecting numpy"
     ]
    },
    {
     "name": "stderr",
     "output_type": "stream",
     "text": [
      "\n",
      "[notice] A new release of pip is available: 23.2.1 -> 24.2\n",
      "[notice] To update, run: python.exe -m pip install --upgrade pip\n"
     ]
    },
    {
     "name": "stdout",
     "output_type": "stream",
     "text": [
      "\n",
      "  Obtaining dependency information for numpy from https://files.pythonhosted.org/packages/c2/3d/293cc5927f916a7bc6bf74da8f6defab63d1b13f0959d7e21878ad8a20d8/numpy-2.1.2-cp310-cp310-win_amd64.whl.metadata\n",
      "  Downloading numpy-2.1.2-cp310-cp310-win_amd64.whl.metadata (59 kB)\n",
      "     -------------------------------------- 59.7/59.7 kB 526.6 kB/s eta 0:00:00\n",
      "Downloading numpy-2.1.2-cp310-cp310-win_amd64.whl (12.9 MB)\n",
      "   ---------------------------------------- 12.9/12.9 MB 11.5 MB/s eta 0:00:00\n",
      "Installing collected packages: numpy\n",
      "Successfully installed numpy-2.1.2\n"
     ]
    }
   ],
   "source": [
    "!pip install numpy"
   ]
  },
  {
   "cell_type": "code",
   "execution_count": 4,
   "metadata": {},
   "outputs": [
    {
     "name": "stdout",
     "output_type": "stream",
     "text": [
      "Collecting matplotlib\n",
      "  Obtaining dependency information for matplotlib from https://files.pythonhosted.org/packages/09/6c/0fa50c001340a45cde44853c116d6551aea741e59a7261c38f473b53553b/matplotlib-3.9.2-cp310-cp310-win_amd64.whl.metadata\n",
      "  Downloading matplotlib-3.9.2-cp310-cp310-win_amd64.whl.metadata (11 kB)\n",
      "Collecting contourpy>=1.0.1 (from matplotlib)\n",
      "  Obtaining dependency information for contourpy>=1.0.1 from https://files.pythonhosted.org/packages/a9/97/3f89bba79ff6ff2b07a3cbc40aa693c360d5efa90d66e914f0ff03b95ec7/contourpy-1.3.0-cp310-cp310-win_amd64.whl.metadata\n",
      "  Downloading contourpy-1.3.0-cp310-cp310-win_amd64.whl.metadata (5.4 kB)\n",
      "Collecting cycler>=0.10 (from matplotlib)\n",
      "  Obtaining dependency information for cycler>=0.10 from https://files.pythonhosted.org/packages/e7/05/c19819d5e3d95294a6f5947fb9b9629efb316b96de511b418c53d245aae6/cycler-0.12.1-py3-none-any.whl.metadata\n",
      "  Using cached cycler-0.12.1-py3-none-any.whl.metadata (3.8 kB)\n",
      "Collecting fonttools>=4.22.0 (from matplotlib)\n",
      "  Obtaining dependency information for fonttools>=4.22.0 from https://files.pythonhosted.org/packages/71/73/545c817e34b8c34585291951722e1a5ae579380deb009576d9d244b13ab0/fonttools-4.54.1-cp310-cp310-win_amd64.whl.metadata\n",
      "  Downloading fonttools-4.54.1-cp310-cp310-win_amd64.whl.metadata (167 kB)\n",
      "     -------------------------------------- 167.0/167.0 kB 3.3 MB/s eta 0:00:00\n",
      "Collecting kiwisolver>=1.3.1 (from matplotlib)\n",
      "  Obtaining dependency information for kiwisolver>=1.3.1 from https://files.pythonhosted.org/packages/12/ca/d0f7b7ffbb0be1e7c2258b53554efec1fd652921f10d7d85045aff93ab61/kiwisolver-1.4.7-cp310-cp310-win_amd64.whl.metadata\n",
      "  Downloading kiwisolver-1.4.7-cp310-cp310-win_amd64.whl.metadata (6.4 kB)\n",
      "Requirement already satisfied: numpy>=1.23 in e:\\git_venv\\effective_python\\lib\\site-packages (from matplotlib) (2.1.2)\n",
      "Requirement already satisfied: packaging>=20.0 in e:\\git_venv\\effective_python\\lib\\site-packages (from matplotlib) (24.0)\n",
      "Collecting pillow>=8 (from matplotlib)\n",
      "  Obtaining dependency information for pillow>=8 from https://files.pythonhosted.org/packages/d5/4e/78f7c5202ea2a772a5ab05069c1b82503e6353cd79c7e474d4945f4b82c3/pillow-11.0.0-cp310-cp310-win_amd64.whl.metadata\n",
      "  Downloading pillow-11.0.0-cp310-cp310-win_amd64.whl.metadata (9.3 kB)\n",
      "Collecting pyparsing>=2.3.1 (from matplotlib)\n",
      "  Obtaining dependency information for pyparsing>=2.3.1 from https://files.pythonhosted.org/packages/be/ec/2eb3cd785efd67806c46c13a17339708ddc346cbb684eade7a6e6f79536a/pyparsing-3.2.0-py3-none-any.whl.metadata\n",
      "  Downloading pyparsing-3.2.0-py3-none-any.whl.metadata (5.0 kB)\n",
      "Requirement already satisfied: python-dateutil>=2.7 in e:\\git_venv\\effective_python\\lib\\site-packages (from matplotlib) (2.9.0.post0)\n",
      "Requirement already satisfied: six>=1.5 in e:\\git_venv\\effective_python\\lib\\site-packages (from python-dateutil>=2.7->matplotlib) (1.16.0)\n",
      "Downloading matplotlib-3.9.2-cp310-cp310-win_amd64.whl (7.8 MB)\n",
      "   ---------------------------------------- 7.8/7.8 MB 10.9 MB/s eta 0:00:00\n",
      "Downloading contourpy-1.3.0-cp310-cp310-win_amd64.whl (216 kB)\n",
      "   --------------------------------------- 216.0/216.0 kB 13.7 MB/s eta 0:00:00\n",
      "Using cached cycler-0.12.1-py3-none-any.whl (8.3 kB)\n",
      "Downloading fonttools-4.54.1-cp310-cp310-win_amd64.whl (2.2 MB)\n",
      "   ---------------------------------------- 2.2/2.2 MB 12.8 MB/s eta 0:00:00\n",
      "Downloading kiwisolver-1.4.7-cp310-cp310-win_amd64.whl (55 kB)\n",
      "   ---------------------------------------- 55.9/55.9 kB 2.9 MB/s eta 0:00:00\n",
      "Downloading pillow-11.0.0-cp310-cp310-win_amd64.whl (2.6 MB)\n",
      "   ---------------------------------------- 2.6/2.6 MB 12.6 MB/s eta 0:00:00\n",
      "Downloading pyparsing-3.2.0-py3-none-any.whl (106 kB)\n",
      "   ---------------------------------------- 106.9/106.9 kB ? eta 0:00:00\n",
      "Installing collected packages: pyparsing, pillow, kiwisolver, fonttools, cycler, contourpy, matplotlib\n",
      "Successfully installed contourpy-1.3.0 cycler-0.12.1 fonttools-4.54.1 kiwisolver-1.4.7 matplotlib-3.9.2 pillow-11.0.0 pyparsing-3.2.0\n"
     ]
    },
    {
     "name": "stderr",
     "output_type": "stream",
     "text": [
      "\n",
      "[notice] A new release of pip is available: 23.2.1 -> 24.2\n",
      "[notice] To update, run: python.exe -m pip install --upgrade pip\n"
     ]
    }
   ],
   "source": [
    "!pip install matplotlib"
   ]
  },
  {
   "cell_type": "code",
   "execution_count": 5,
   "metadata": {
    "slideshow": {
     "slide_type": "subslide"
    }
   },
   "outputs": [
    {
     "name": "stderr",
     "output_type": "stream",
     "text": [
      "Matplotlib is building the font cache; this may take a moment.\n"
     ]
    }
   ],
   "source": [
    "# https://codereview.stackexchange.com/questions/23441/are-these-list-comprehensions-written-the-fastest-possible-way\n",
    "import sys\n",
    "from datetime import datetime, timedelta\n",
    "import numpy\n",
    "from tqdm import tqdm\n",
    "import matplotlib.pyplot as pyplot\n",
    "pyplot.rcParams['figure.figsize'] = [10, 5]\n",
    "%matplotlib notebook\n",
    "\n",
    "def doingnothing(n):\n",
    "    for i in range(n):\n",
    "        pass\n",
    "    return []\n",
    "\n",
    "def numpysum(n): #NPY\n",
    "    a = numpy.arange(n) ** 2.\n",
    "    b = numpy.arange(n) ** 3.\n",
    "    c = a + b\n",
    "    return c\n",
    "\n",
    "def listexpression(n):  #LE\n",
    "    #return [x**2+x**3 for x in range(n)]\n",
    "    return [x*x+x*x*x for x in range(n)]\n",
    "\n",
    "def dictcomprehension(n):  #DC\n",
    "    # a = {x:x**2+x**3 for x in range(n)}\n",
    "    a = {x:x*x+x*x*x for x in range(n)}\n",
    "    # return [a[key] for key in a]\n",
    "    return list(a.values())\n",
    "\n",
    "def pythonsum(n): #PS\n",
    "#     a = list(range(n))\n",
    "#     b = list(range(n))\n",
    "    c = []\n",
    "    \n",
    "    for i in range(n):\n",
    "        c.append(i**2 + i**3)\n",
    "\n",
    "#     for i in range(len(a)):\n",
    "#             # a[i] = i ** 2.\n",
    "#             a[i] = i * i \n",
    "#             # b[i] = i ** 3.\n",
    "#             b[i] = i * i * i\n",
    "#             c.append(a[i] + b[i])\n",
    "    return c\n",
    "\n",
    "def runtimetest(size,verbose=True,it=5):\n",
    "    v = verbose\n",
    "    d = {'DoingNothing':None,\n",
    "         'NPY':None,\n",
    "         'LE':None,\n",
    "         'DC':None,\n",
    "         'PS':None}\n",
    "\n",
    "    val = []\n",
    "    for i in range(it):\n",
    "        start = datetime.now()\n",
    "        c = doingnothing(size)\n",
    "        val.append(datetime.now() - start)\n",
    "    d['DoingNothing'] = sum(val, timedelta(0)) / len(val)\n",
    "\n",
    "    val = []\n",
    "    for i in range(it):\n",
    "        start = datetime.now()\n",
    "        c = numpysum(size)\n",
    "        val.append(datetime.now() - start)\n",
    "    d['NPY'] = sum(val, timedelta(0)) / len(val)\n",
    "\n",
    "    val = []\n",
    "    for i in range(it):\n",
    "        start = datetime.now()\n",
    "        c = listexpression(size)\n",
    "        val.append(datetime.now() - start)\n",
    "    d['LE'] = sum(val, timedelta(0)) / len(val)\n",
    "\n",
    "    val = []\n",
    "    for i in range(it):\n",
    "        start = datetime.now()\n",
    "        c = dictcomprehension(size)\n",
    "        val.append(datetime.now() - start)\n",
    "    d['DC'] = sum(val, timedelta(0)) / len(val)\n",
    "    \n",
    "    val = []\n",
    "    for i in range(it):\n",
    "        start = datetime.now()\n",
    "        c = pythonsum(size)\n",
    "        val.append(datetime.now() - start)\n",
    "    d['PS'] = sum(val, timedelta(0)) / len(val)\n",
    "        \n",
    "    return d\n",
    "\n",
    "def view(results):\n",
    "    \"\"\"\n",
    "    result['header']=['DoingNothing','NPY','LE','DC','PS']\n",
    "    result[3000]=[0.0, 0.0, 0.002, 0.003, 0.003001] \n",
    "    \"\"\"\n",
    "    if 'header' in results.keys():\n",
    "        results.pop('header')\n",
    "\n",
    "    steps,DN,NPY,LE,DC,PS=[],[],[],[],[],[] #I love multiple assignment!\n",
    "#     import pprint\n",
    "#     pprint.pprint(results)\n",
    "    for step in sorted(results):\n",
    "        steps.append(step)\n",
    "        DN.append(results[step][0])\n",
    "        NPY.append(results[step][1])\n",
    "        LE.append(results[step][2])\n",
    "        DC.append(results[step][3])\n",
    "        PS.append(results[step][4])\n",
    "\n",
    "    pyplot.plot(steps,DN)\n",
    "    pyplot.plot(steps,NPY)\n",
    "    pyplot.plot(steps,LE)\n",
    "    pyplot.plot(steps,DC)\n",
    "    pyplot.plot(steps,PS)\n",
    "    pyplot.legend(['Empty Loop', 'Numpy.Arange', 'List Comprehension', 'Dict Comprehension', 'Python for Loop'], loc='upper left')\n",
    "    scale = 'linear'\n",
    "    pyplot.xscale(scale)\n",
    "    pyplot.yscale(scale)\n",
    "    pyplot.title('runtime test')\n",
    "    pyplot.xlabel('length of list')\n",
    "    pyplot.ylabel('runtime in seconds')\n",
    "\n",
    "    pyplot.show()\n",
    "\n",
    "def longruntimetest(length, it):\n",
    "    if length<10**4:\n",
    "        length=10**4\n",
    "\n",
    "    result = {}\n",
    "    result['header']=['DoingNothing','NPY','LE','DC','PS']\n",
    "    for step in tqdm(range(10**3, length+1,10**3)):\n",
    "#         print(step)\n",
    "        t=runtimetest(step,verbose=False, it=it)        \n",
    "        result[step]=[t['DoingNothing'],t['NPY'],t['LE'],t['DC'],t['PS']]\n",
    "        for i in range(len(result[step])):\n",
    "            result[step][i]=round(result[step][i].seconds\n",
    "                                  +result[step][i].microseconds/10**6,6)\n",
    "\n",
    "    return result\n"
   ]
  },
  {
   "cell_type": "code",
   "execution_count": 11,
   "metadata": {
    "slideshow": {
     "slide_type": "subslide"
    }
   },
   "outputs": [],
   "source": [
    "testsize=10**5"
   ]
  },
  {
   "cell_type": "code",
   "execution_count": 12,
   "metadata": {
    "scrolled": true,
    "slideshow": {
     "slide_type": "fragment"
    }
   },
   "outputs": [
    {
     "name": "stderr",
     "output_type": "stream",
     "text": [
      "100%|████████████████████████████████████████████████████████████████████████████████████████████████████████████████████████████████████████████████████████████████████████████████████████████| 100/100 [01:12<00:00,  1.38it/s]\n"
     ]
    }
   ],
   "source": [
    "result = longruntimetest(testsize, 20)"
   ]
  },
  {
   "cell_type": "code",
   "execution_count": 13,
   "metadata": {
    "scrolled": false
   },
   "outputs": [
    {
     "data": {
      "application/javascript": [
       "/* Put everything inside the global mpl namespace */\n",
       "/* global mpl */\n",
       "window.mpl = {};\n",
       "\n",
       "mpl.get_websocket_type = function () {\n",
       "    if (typeof WebSocket !== 'undefined') {\n",
       "        return WebSocket;\n",
       "    } else if (typeof MozWebSocket !== 'undefined') {\n",
       "        return MozWebSocket;\n",
       "    } else {\n",
       "        alert(\n",
       "            'Your browser does not have WebSocket support. ' +\n",
       "                'Please try Chrome, Safari or Firefox ≥ 6. ' +\n",
       "                'Firefox 4 and 5 are also supported but you ' +\n",
       "                'have to enable WebSockets in about:config.'\n",
       "        );\n",
       "    }\n",
       "};\n",
       "\n",
       "mpl.figure = function (figure_id, websocket, ondownload, parent_element) {\n",
       "    this.id = figure_id;\n",
       "\n",
       "    this.ws = websocket;\n",
       "\n",
       "    this.supports_binary = this.ws.binaryType !== undefined;\n",
       "\n",
       "    if (!this.supports_binary) {\n",
       "        var warnings = document.getElementById('mpl-warnings');\n",
       "        if (warnings) {\n",
       "            warnings.style.display = 'block';\n",
       "            warnings.textContent =\n",
       "                'This browser does not support binary websocket messages. ' +\n",
       "                'Performance may be slow.';\n",
       "        }\n",
       "    }\n",
       "\n",
       "    this.imageObj = new Image();\n",
       "\n",
       "    this.context = undefined;\n",
       "    this.message = undefined;\n",
       "    this.canvas = undefined;\n",
       "    this.rubberband_canvas = undefined;\n",
       "    this.rubberband_context = undefined;\n",
       "    this.format_dropdown = undefined;\n",
       "\n",
       "    this.image_mode = 'full';\n",
       "\n",
       "    this.root = document.createElement('div');\n",
       "    this.root.setAttribute('style', 'display: inline-block');\n",
       "    this._root_extra_style(this.root);\n",
       "\n",
       "    parent_element.appendChild(this.root);\n",
       "\n",
       "    this._init_header(this);\n",
       "    this._init_canvas(this);\n",
       "    this._init_toolbar(this);\n",
       "\n",
       "    var fig = this;\n",
       "\n",
       "    this.waiting = false;\n",
       "\n",
       "    this.ws.onopen = function () {\n",
       "        fig.send_message('supports_binary', { value: fig.supports_binary });\n",
       "        fig.send_message('send_image_mode', {});\n",
       "        if (fig.ratio !== 1) {\n",
       "            fig.send_message('set_device_pixel_ratio', {\n",
       "                device_pixel_ratio: fig.ratio,\n",
       "            });\n",
       "        }\n",
       "        fig.send_message('refresh', {});\n",
       "    };\n",
       "\n",
       "    this.imageObj.onload = function () {\n",
       "        if (fig.image_mode === 'full') {\n",
       "            // Full images could contain transparency (where diff images\n",
       "            // almost always do), so we need to clear the canvas so that\n",
       "            // there is no ghosting.\n",
       "            fig.context.clearRect(0, 0, fig.canvas.width, fig.canvas.height);\n",
       "        }\n",
       "        fig.context.drawImage(fig.imageObj, 0, 0);\n",
       "    };\n",
       "\n",
       "    this.imageObj.onunload = function () {\n",
       "        fig.ws.close();\n",
       "    };\n",
       "\n",
       "    this.ws.onmessage = this._make_on_message_function(this);\n",
       "\n",
       "    this.ondownload = ondownload;\n",
       "};\n",
       "\n",
       "mpl.figure.prototype._init_header = function () {\n",
       "    var titlebar = document.createElement('div');\n",
       "    titlebar.classList =\n",
       "        'ui-dialog-titlebar ui-widget-header ui-corner-all ui-helper-clearfix';\n",
       "    var titletext = document.createElement('div');\n",
       "    titletext.classList = 'ui-dialog-title';\n",
       "    titletext.setAttribute(\n",
       "        'style',\n",
       "        'width: 100%; text-align: center; padding: 3px;'\n",
       "    );\n",
       "    titlebar.appendChild(titletext);\n",
       "    this.root.appendChild(titlebar);\n",
       "    this.header = titletext;\n",
       "};\n",
       "\n",
       "mpl.figure.prototype._canvas_extra_style = function (_canvas_div) {};\n",
       "\n",
       "mpl.figure.prototype._root_extra_style = function (_canvas_div) {};\n",
       "\n",
       "mpl.figure.prototype._init_canvas = function () {\n",
       "    var fig = this;\n",
       "\n",
       "    var canvas_div = (this.canvas_div = document.createElement('div'));\n",
       "    canvas_div.setAttribute('tabindex', '0');\n",
       "    canvas_div.setAttribute(\n",
       "        'style',\n",
       "        'border: 1px solid #ddd;' +\n",
       "            'box-sizing: content-box;' +\n",
       "            'clear: both;' +\n",
       "            'min-height: 1px;' +\n",
       "            'min-width: 1px;' +\n",
       "            'outline: 0;' +\n",
       "            'overflow: hidden;' +\n",
       "            'position: relative;' +\n",
       "            'resize: both;' +\n",
       "            'z-index: 2;'\n",
       "    );\n",
       "\n",
       "    function on_keyboard_event_closure(name) {\n",
       "        return function (event) {\n",
       "            return fig.key_event(event, name);\n",
       "        };\n",
       "    }\n",
       "\n",
       "    canvas_div.addEventListener(\n",
       "        'keydown',\n",
       "        on_keyboard_event_closure('key_press')\n",
       "    );\n",
       "    canvas_div.addEventListener(\n",
       "        'keyup',\n",
       "        on_keyboard_event_closure('key_release')\n",
       "    );\n",
       "\n",
       "    this._canvas_extra_style(canvas_div);\n",
       "    this.root.appendChild(canvas_div);\n",
       "\n",
       "    var canvas = (this.canvas = document.createElement('canvas'));\n",
       "    canvas.classList.add('mpl-canvas');\n",
       "    canvas.setAttribute(\n",
       "        'style',\n",
       "        'box-sizing: content-box;' +\n",
       "            'pointer-events: none;' +\n",
       "            'position: relative;' +\n",
       "            'z-index: 0;'\n",
       "    );\n",
       "\n",
       "    this.context = canvas.getContext('2d');\n",
       "\n",
       "    var backingStore =\n",
       "        this.context.backingStorePixelRatio ||\n",
       "        this.context.webkitBackingStorePixelRatio ||\n",
       "        this.context.mozBackingStorePixelRatio ||\n",
       "        this.context.msBackingStorePixelRatio ||\n",
       "        this.context.oBackingStorePixelRatio ||\n",
       "        this.context.backingStorePixelRatio ||\n",
       "        1;\n",
       "\n",
       "    this.ratio = (window.devicePixelRatio || 1) / backingStore;\n",
       "\n",
       "    var rubberband_canvas = (this.rubberband_canvas = document.createElement(\n",
       "        'canvas'\n",
       "    ));\n",
       "    rubberband_canvas.setAttribute(\n",
       "        'style',\n",
       "        'box-sizing: content-box;' +\n",
       "            'left: 0;' +\n",
       "            'pointer-events: none;' +\n",
       "            'position: absolute;' +\n",
       "            'top: 0;' +\n",
       "            'z-index: 1;'\n",
       "    );\n",
       "\n",
       "    // Apply a ponyfill if ResizeObserver is not implemented by browser.\n",
       "    if (this.ResizeObserver === undefined) {\n",
       "        if (window.ResizeObserver !== undefined) {\n",
       "            this.ResizeObserver = window.ResizeObserver;\n",
       "        } else {\n",
       "            var obs = _JSXTOOLS_RESIZE_OBSERVER({});\n",
       "            this.ResizeObserver = obs.ResizeObserver;\n",
       "        }\n",
       "    }\n",
       "\n",
       "    this.resizeObserverInstance = new this.ResizeObserver(function (entries) {\n",
       "        // There's no need to resize if the WebSocket is not connected:\n",
       "        // - If it is still connecting, then we will get an initial resize from\n",
       "        //   Python once it connects.\n",
       "        // - If it has disconnected, then resizing will clear the canvas and\n",
       "        //   never get anything back to refill it, so better to not resize and\n",
       "        //   keep something visible.\n",
       "        if (fig.ws.readyState != 1) {\n",
       "            return;\n",
       "        }\n",
       "        var nentries = entries.length;\n",
       "        for (var i = 0; i < nentries; i++) {\n",
       "            var entry = entries[i];\n",
       "            var width, height;\n",
       "            if (entry.contentBoxSize) {\n",
       "                if (entry.contentBoxSize instanceof Array) {\n",
       "                    // Chrome 84 implements new version of spec.\n",
       "                    width = entry.contentBoxSize[0].inlineSize;\n",
       "                    height = entry.contentBoxSize[0].blockSize;\n",
       "                } else {\n",
       "                    // Firefox implements old version of spec.\n",
       "                    width = entry.contentBoxSize.inlineSize;\n",
       "                    height = entry.contentBoxSize.blockSize;\n",
       "                }\n",
       "            } else {\n",
       "                // Chrome <84 implements even older version of spec.\n",
       "                width = entry.contentRect.width;\n",
       "                height = entry.contentRect.height;\n",
       "            }\n",
       "\n",
       "            // Keep the size of the canvas and rubber band canvas in sync with\n",
       "            // the canvas container.\n",
       "            if (entry.devicePixelContentBoxSize) {\n",
       "                // Chrome 84 implements new version of spec.\n",
       "                canvas.setAttribute(\n",
       "                    'width',\n",
       "                    entry.devicePixelContentBoxSize[0].inlineSize\n",
       "                );\n",
       "                canvas.setAttribute(\n",
       "                    'height',\n",
       "                    entry.devicePixelContentBoxSize[0].blockSize\n",
       "                );\n",
       "            } else {\n",
       "                canvas.setAttribute('width', width * fig.ratio);\n",
       "                canvas.setAttribute('height', height * fig.ratio);\n",
       "            }\n",
       "            /* This rescales the canvas back to display pixels, so that it\n",
       "             * appears correct on HiDPI screens. */\n",
       "            canvas.style.width = width + 'px';\n",
       "            canvas.style.height = height + 'px';\n",
       "\n",
       "            rubberband_canvas.setAttribute('width', width);\n",
       "            rubberband_canvas.setAttribute('height', height);\n",
       "\n",
       "            // And update the size in Python. We ignore the initial 0/0 size\n",
       "            // that occurs as the element is placed into the DOM, which should\n",
       "            // otherwise not happen due to the minimum size styling.\n",
       "            if (width != 0 && height != 0) {\n",
       "                fig.request_resize(width, height);\n",
       "            }\n",
       "        }\n",
       "    });\n",
       "    this.resizeObserverInstance.observe(canvas_div);\n",
       "\n",
       "    function on_mouse_event_closure(name) {\n",
       "        /* User Agent sniffing is bad, but WebKit is busted:\n",
       "         * https://bugs.webkit.org/show_bug.cgi?id=144526\n",
       "         * https://bugs.webkit.org/show_bug.cgi?id=181818\n",
       "         * The worst that happens here is that they get an extra browser\n",
       "         * selection when dragging, if this check fails to catch them.\n",
       "         */\n",
       "        var UA = navigator.userAgent;\n",
       "        var isWebKit = /AppleWebKit/.test(UA) && !/Chrome/.test(UA);\n",
       "        if(isWebKit) {\n",
       "            return function (event) {\n",
       "                /* This prevents the web browser from automatically changing to\n",
       "                 * the text insertion cursor when the button is pressed. We\n",
       "                 * want to control all of the cursor setting manually through\n",
       "                 * the 'cursor' event from matplotlib */\n",
       "                event.preventDefault()\n",
       "                return fig.mouse_event(event, name);\n",
       "            };\n",
       "        } else {\n",
       "            return function (event) {\n",
       "                return fig.mouse_event(event, name);\n",
       "            };\n",
       "        }\n",
       "    }\n",
       "\n",
       "    canvas_div.addEventListener(\n",
       "        'mousedown',\n",
       "        on_mouse_event_closure('button_press')\n",
       "    );\n",
       "    canvas_div.addEventListener(\n",
       "        'mouseup',\n",
       "        on_mouse_event_closure('button_release')\n",
       "    );\n",
       "    canvas_div.addEventListener(\n",
       "        'dblclick',\n",
       "        on_mouse_event_closure('dblclick')\n",
       "    );\n",
       "    // Throttle sequential mouse events to 1 every 20ms.\n",
       "    canvas_div.addEventListener(\n",
       "        'mousemove',\n",
       "        on_mouse_event_closure('motion_notify')\n",
       "    );\n",
       "\n",
       "    canvas_div.addEventListener(\n",
       "        'mouseenter',\n",
       "        on_mouse_event_closure('figure_enter')\n",
       "    );\n",
       "    canvas_div.addEventListener(\n",
       "        'mouseleave',\n",
       "        on_mouse_event_closure('figure_leave')\n",
       "    );\n",
       "\n",
       "    canvas_div.addEventListener('wheel', function (event) {\n",
       "        if (event.deltaY < 0) {\n",
       "            event.step = 1;\n",
       "        } else {\n",
       "            event.step = -1;\n",
       "        }\n",
       "        on_mouse_event_closure('scroll')(event);\n",
       "    });\n",
       "\n",
       "    canvas_div.appendChild(canvas);\n",
       "    canvas_div.appendChild(rubberband_canvas);\n",
       "\n",
       "    this.rubberband_context = rubberband_canvas.getContext('2d');\n",
       "    this.rubberband_context.strokeStyle = '#000000';\n",
       "\n",
       "    this._resize_canvas = function (width, height, forward) {\n",
       "        if (forward) {\n",
       "            canvas_div.style.width = width + 'px';\n",
       "            canvas_div.style.height = height + 'px';\n",
       "        }\n",
       "    };\n",
       "\n",
       "    // Disable right mouse context menu.\n",
       "    canvas_div.addEventListener('contextmenu', function (_e) {\n",
       "        event.preventDefault();\n",
       "        return false;\n",
       "    });\n",
       "\n",
       "    function set_focus() {\n",
       "        canvas.focus();\n",
       "        canvas_div.focus();\n",
       "    }\n",
       "\n",
       "    window.setTimeout(set_focus, 100);\n",
       "};\n",
       "\n",
       "mpl.figure.prototype._init_toolbar = function () {\n",
       "    var fig = this;\n",
       "\n",
       "    var toolbar = document.createElement('div');\n",
       "    toolbar.classList = 'mpl-toolbar';\n",
       "    this.root.appendChild(toolbar);\n",
       "\n",
       "    function on_click_closure(name) {\n",
       "        return function (_event) {\n",
       "            return fig.toolbar_button_onclick(name);\n",
       "        };\n",
       "    }\n",
       "\n",
       "    function on_mouseover_closure(tooltip) {\n",
       "        return function (event) {\n",
       "            if (!event.currentTarget.disabled) {\n",
       "                return fig.toolbar_button_onmouseover(tooltip);\n",
       "            }\n",
       "        };\n",
       "    }\n",
       "\n",
       "    fig.buttons = {};\n",
       "    var buttonGroup = document.createElement('div');\n",
       "    buttonGroup.classList = 'mpl-button-group';\n",
       "    for (var toolbar_ind in mpl.toolbar_items) {\n",
       "        var name = mpl.toolbar_items[toolbar_ind][0];\n",
       "        var tooltip = mpl.toolbar_items[toolbar_ind][1];\n",
       "        var image = mpl.toolbar_items[toolbar_ind][2];\n",
       "        var method_name = mpl.toolbar_items[toolbar_ind][3];\n",
       "\n",
       "        if (!name) {\n",
       "            /* Instead of a spacer, we start a new button group. */\n",
       "            if (buttonGroup.hasChildNodes()) {\n",
       "                toolbar.appendChild(buttonGroup);\n",
       "            }\n",
       "            buttonGroup = document.createElement('div');\n",
       "            buttonGroup.classList = 'mpl-button-group';\n",
       "            continue;\n",
       "        }\n",
       "\n",
       "        var button = (fig.buttons[name] = document.createElement('button'));\n",
       "        button.classList = 'mpl-widget';\n",
       "        button.setAttribute('role', 'button');\n",
       "        button.setAttribute('aria-disabled', 'false');\n",
       "        button.addEventListener('click', on_click_closure(method_name));\n",
       "        button.addEventListener('mouseover', on_mouseover_closure(tooltip));\n",
       "\n",
       "        var icon_img = document.createElement('img');\n",
       "        icon_img.src = '_images/' + image + '.png';\n",
       "        icon_img.srcset = '_images/' + image + '_large.png 2x';\n",
       "        icon_img.alt = tooltip;\n",
       "        button.appendChild(icon_img);\n",
       "\n",
       "        buttonGroup.appendChild(button);\n",
       "    }\n",
       "\n",
       "    if (buttonGroup.hasChildNodes()) {\n",
       "        toolbar.appendChild(buttonGroup);\n",
       "    }\n",
       "\n",
       "    var fmt_picker = document.createElement('select');\n",
       "    fmt_picker.classList = 'mpl-widget';\n",
       "    toolbar.appendChild(fmt_picker);\n",
       "    this.format_dropdown = fmt_picker;\n",
       "\n",
       "    for (var ind in mpl.extensions) {\n",
       "        var fmt = mpl.extensions[ind];\n",
       "        var option = document.createElement('option');\n",
       "        option.selected = fmt === mpl.default_extension;\n",
       "        option.innerHTML = fmt;\n",
       "        fmt_picker.appendChild(option);\n",
       "    }\n",
       "\n",
       "    var status_bar = document.createElement('span');\n",
       "    status_bar.classList = 'mpl-message';\n",
       "    toolbar.appendChild(status_bar);\n",
       "    this.message = status_bar;\n",
       "};\n",
       "\n",
       "mpl.figure.prototype.request_resize = function (x_pixels, y_pixels) {\n",
       "    // Request matplotlib to resize the figure. Matplotlib will then trigger a resize in the client,\n",
       "    // which will in turn request a refresh of the image.\n",
       "    this.send_message('resize', { width: x_pixels, height: y_pixels });\n",
       "};\n",
       "\n",
       "mpl.figure.prototype.send_message = function (type, properties) {\n",
       "    properties['type'] = type;\n",
       "    properties['figure_id'] = this.id;\n",
       "    this.ws.send(JSON.stringify(properties));\n",
       "};\n",
       "\n",
       "mpl.figure.prototype.send_draw_message = function () {\n",
       "    if (!this.waiting) {\n",
       "        this.waiting = true;\n",
       "        this.ws.send(JSON.stringify({ type: 'draw', figure_id: this.id }));\n",
       "    }\n",
       "};\n",
       "\n",
       "mpl.figure.prototype.handle_save = function (fig, _msg) {\n",
       "    var format_dropdown = fig.format_dropdown;\n",
       "    var format = format_dropdown.options[format_dropdown.selectedIndex].value;\n",
       "    fig.ondownload(fig, format);\n",
       "};\n",
       "\n",
       "mpl.figure.prototype.handle_resize = function (fig, msg) {\n",
       "    var size = msg['size'];\n",
       "    if (size[0] !== fig.canvas.width || size[1] !== fig.canvas.height) {\n",
       "        fig._resize_canvas(size[0], size[1], msg['forward']);\n",
       "        fig.send_message('refresh', {});\n",
       "    }\n",
       "};\n",
       "\n",
       "mpl.figure.prototype.handle_rubberband = function (fig, msg) {\n",
       "    var x0 = msg['x0'] / fig.ratio;\n",
       "    var y0 = (fig.canvas.height - msg['y0']) / fig.ratio;\n",
       "    var x1 = msg['x1'] / fig.ratio;\n",
       "    var y1 = (fig.canvas.height - msg['y1']) / fig.ratio;\n",
       "    x0 = Math.floor(x0) + 0.5;\n",
       "    y0 = Math.floor(y0) + 0.5;\n",
       "    x1 = Math.floor(x1) + 0.5;\n",
       "    y1 = Math.floor(y1) + 0.5;\n",
       "    var min_x = Math.min(x0, x1);\n",
       "    var min_y = Math.min(y0, y1);\n",
       "    var width = Math.abs(x1 - x0);\n",
       "    var height = Math.abs(y1 - y0);\n",
       "\n",
       "    fig.rubberband_context.clearRect(\n",
       "        0,\n",
       "        0,\n",
       "        fig.canvas.width / fig.ratio,\n",
       "        fig.canvas.height / fig.ratio\n",
       "    );\n",
       "\n",
       "    fig.rubberband_context.strokeRect(min_x, min_y, width, height);\n",
       "};\n",
       "\n",
       "mpl.figure.prototype.handle_figure_label = function (fig, msg) {\n",
       "    // Updates the figure title.\n",
       "    fig.header.textContent = msg['label'];\n",
       "};\n",
       "\n",
       "mpl.figure.prototype.handle_cursor = function (fig, msg) {\n",
       "    fig.canvas_div.style.cursor = msg['cursor'];\n",
       "};\n",
       "\n",
       "mpl.figure.prototype.handle_message = function (fig, msg) {\n",
       "    fig.message.textContent = msg['message'];\n",
       "};\n",
       "\n",
       "mpl.figure.prototype.handle_draw = function (fig, _msg) {\n",
       "    // Request the server to send over a new figure.\n",
       "    fig.send_draw_message();\n",
       "};\n",
       "\n",
       "mpl.figure.prototype.handle_image_mode = function (fig, msg) {\n",
       "    fig.image_mode = msg['mode'];\n",
       "};\n",
       "\n",
       "mpl.figure.prototype.handle_history_buttons = function (fig, msg) {\n",
       "    for (var key in msg) {\n",
       "        if (!(key in fig.buttons)) {\n",
       "            continue;\n",
       "        }\n",
       "        fig.buttons[key].disabled = !msg[key];\n",
       "        fig.buttons[key].setAttribute('aria-disabled', !msg[key]);\n",
       "    }\n",
       "};\n",
       "\n",
       "mpl.figure.prototype.handle_navigate_mode = function (fig, msg) {\n",
       "    if (msg['mode'] === 'PAN') {\n",
       "        fig.buttons['Pan'].classList.add('active');\n",
       "        fig.buttons['Zoom'].classList.remove('active');\n",
       "    } else if (msg['mode'] === 'ZOOM') {\n",
       "        fig.buttons['Pan'].classList.remove('active');\n",
       "        fig.buttons['Zoom'].classList.add('active');\n",
       "    } else {\n",
       "        fig.buttons['Pan'].classList.remove('active');\n",
       "        fig.buttons['Zoom'].classList.remove('active');\n",
       "    }\n",
       "};\n",
       "\n",
       "mpl.figure.prototype.updated_canvas_event = function () {\n",
       "    // Called whenever the canvas gets updated.\n",
       "    this.send_message('ack', {});\n",
       "};\n",
       "\n",
       "// A function to construct a web socket function for onmessage handling.\n",
       "// Called in the figure constructor.\n",
       "mpl.figure.prototype._make_on_message_function = function (fig) {\n",
       "    return function socket_on_message(evt) {\n",
       "        if (evt.data instanceof Blob) {\n",
       "            var img = evt.data;\n",
       "            if (img.type !== 'image/png') {\n",
       "                /* FIXME: We get \"Resource interpreted as Image but\n",
       "                 * transferred with MIME type text/plain:\" errors on\n",
       "                 * Chrome.  But how to set the MIME type?  It doesn't seem\n",
       "                 * to be part of the websocket stream */\n",
       "                img.type = 'image/png';\n",
       "            }\n",
       "\n",
       "            /* Free the memory for the previous frames */\n",
       "            if (fig.imageObj.src) {\n",
       "                (window.URL || window.webkitURL).revokeObjectURL(\n",
       "                    fig.imageObj.src\n",
       "                );\n",
       "            }\n",
       "\n",
       "            fig.imageObj.src = (window.URL || window.webkitURL).createObjectURL(\n",
       "                img\n",
       "            );\n",
       "            fig.updated_canvas_event();\n",
       "            fig.waiting = false;\n",
       "            return;\n",
       "        } else if (\n",
       "            typeof evt.data === 'string' &&\n",
       "            evt.data.slice(0, 21) === 'data:image/png;base64'\n",
       "        ) {\n",
       "            fig.imageObj.src = evt.data;\n",
       "            fig.updated_canvas_event();\n",
       "            fig.waiting = false;\n",
       "            return;\n",
       "        }\n",
       "\n",
       "        var msg = JSON.parse(evt.data);\n",
       "        var msg_type = msg['type'];\n",
       "\n",
       "        // Call the  \"handle_{type}\" callback, which takes\n",
       "        // the figure and JSON message as its only arguments.\n",
       "        try {\n",
       "            var callback = fig['handle_' + msg_type];\n",
       "        } catch (e) {\n",
       "            console.log(\n",
       "                \"No handler for the '\" + msg_type + \"' message type: \",\n",
       "                msg\n",
       "            );\n",
       "            return;\n",
       "        }\n",
       "\n",
       "        if (callback) {\n",
       "            try {\n",
       "                // console.log(\"Handling '\" + msg_type + \"' message: \", msg);\n",
       "                callback(fig, msg);\n",
       "            } catch (e) {\n",
       "                console.log(\n",
       "                    \"Exception inside the 'handler_\" + msg_type + \"' callback:\",\n",
       "                    e,\n",
       "                    e.stack,\n",
       "                    msg\n",
       "                );\n",
       "            }\n",
       "        }\n",
       "    };\n",
       "};\n",
       "\n",
       "function getModifiers(event) {\n",
       "    var mods = [];\n",
       "    if (event.ctrlKey) {\n",
       "        mods.push('ctrl');\n",
       "    }\n",
       "    if (event.altKey) {\n",
       "        mods.push('alt');\n",
       "    }\n",
       "    if (event.shiftKey) {\n",
       "        mods.push('shift');\n",
       "    }\n",
       "    if (event.metaKey) {\n",
       "        mods.push('meta');\n",
       "    }\n",
       "    return mods;\n",
       "}\n",
       "\n",
       "/*\n",
       " * return a copy of an object with only non-object keys\n",
       " * we need this to avoid circular references\n",
       " * https://stackoverflow.com/a/24161582/3208463\n",
       " */\n",
       "function simpleKeys(original) {\n",
       "    return Object.keys(original).reduce(function (obj, key) {\n",
       "        if (typeof original[key] !== 'object') {\n",
       "            obj[key] = original[key];\n",
       "        }\n",
       "        return obj;\n",
       "    }, {});\n",
       "}\n",
       "\n",
       "mpl.figure.prototype.mouse_event = function (event, name) {\n",
       "    if (name === 'button_press') {\n",
       "        this.canvas.focus();\n",
       "        this.canvas_div.focus();\n",
       "    }\n",
       "\n",
       "    // from https://stackoverflow.com/q/1114465\n",
       "    var boundingRect = this.canvas.getBoundingClientRect();\n",
       "    var x = (event.clientX - boundingRect.left) * this.ratio;\n",
       "    var y = (event.clientY - boundingRect.top) * this.ratio;\n",
       "\n",
       "    this.send_message(name, {\n",
       "        x: x,\n",
       "        y: y,\n",
       "        button: event.button,\n",
       "        step: event.step,\n",
       "        modifiers: getModifiers(event),\n",
       "        guiEvent: simpleKeys(event),\n",
       "    });\n",
       "\n",
       "    return false;\n",
       "};\n",
       "\n",
       "mpl.figure.prototype._key_event_extra = function (_event, _name) {\n",
       "    // Handle any extra behaviour associated with a key event\n",
       "};\n",
       "\n",
       "mpl.figure.prototype.key_event = function (event, name) {\n",
       "    // Prevent repeat events\n",
       "    if (name === 'key_press') {\n",
       "        if (event.key === this._key) {\n",
       "            return;\n",
       "        } else {\n",
       "            this._key = event.key;\n",
       "        }\n",
       "    }\n",
       "    if (name === 'key_release') {\n",
       "        this._key = null;\n",
       "    }\n",
       "\n",
       "    var value = '';\n",
       "    if (event.ctrlKey && event.key !== 'Control') {\n",
       "        value += 'ctrl+';\n",
       "    }\n",
       "    else if (event.altKey && event.key !== 'Alt') {\n",
       "        value += 'alt+';\n",
       "    }\n",
       "    else if (event.shiftKey && event.key !== 'Shift') {\n",
       "        value += 'shift+';\n",
       "    }\n",
       "\n",
       "    value += 'k' + event.key;\n",
       "\n",
       "    this._key_event_extra(event, name);\n",
       "\n",
       "    this.send_message(name, { key: value, guiEvent: simpleKeys(event) });\n",
       "    return false;\n",
       "};\n",
       "\n",
       "mpl.figure.prototype.toolbar_button_onclick = function (name) {\n",
       "    if (name === 'download') {\n",
       "        this.handle_save(this, null);\n",
       "    } else {\n",
       "        this.send_message('toolbar_button', { name: name });\n",
       "    }\n",
       "};\n",
       "\n",
       "mpl.figure.prototype.toolbar_button_onmouseover = function (tooltip) {\n",
       "    this.message.textContent = tooltip;\n",
       "};\n",
       "\n",
       "///////////////// REMAINING CONTENT GENERATED BY embed_js.py /////////////////\n",
       "// prettier-ignore\n",
       "var _JSXTOOLS_RESIZE_OBSERVER=function(A){var t,i=new WeakMap,n=new WeakMap,a=new WeakMap,r=new WeakMap,o=new Set;function s(e){if(!(this instanceof s))throw new TypeError(\"Constructor requires 'new' operator\");i.set(this,e)}function h(){throw new TypeError(\"Function is not a constructor\")}function c(e,t,i,n){e=0 in arguments?Number(arguments[0]):0,t=1 in arguments?Number(arguments[1]):0,i=2 in arguments?Number(arguments[2]):0,n=3 in arguments?Number(arguments[3]):0,this.right=(this.x=this.left=e)+(this.width=i),this.bottom=(this.y=this.top=t)+(this.height=n),Object.freeze(this)}function d(){t=requestAnimationFrame(d);var s=new WeakMap,p=new Set;o.forEach((function(t){r.get(t).forEach((function(i){var r=t instanceof window.SVGElement,o=a.get(t),d=r?0:parseFloat(o.paddingTop),f=r?0:parseFloat(o.paddingRight),l=r?0:parseFloat(o.paddingBottom),u=r?0:parseFloat(o.paddingLeft),g=r?0:parseFloat(o.borderTopWidth),m=r?0:parseFloat(o.borderRightWidth),w=r?0:parseFloat(o.borderBottomWidth),b=u+f,F=d+l,v=(r?0:parseFloat(o.borderLeftWidth))+m,W=g+w,y=r?0:t.offsetHeight-W-t.clientHeight,E=r?0:t.offsetWidth-v-t.clientWidth,R=b+v,z=F+W,M=r?t.width:parseFloat(o.width)-R-E,O=r?t.height:parseFloat(o.height)-z-y;if(n.has(t)){var k=n.get(t);if(k[0]===M&&k[1]===O)return}n.set(t,[M,O]);var S=Object.create(h.prototype);S.target=t,S.contentRect=new c(u,d,M,O),s.has(i)||(s.set(i,[]),p.add(i)),s.get(i).push(S)}))})),p.forEach((function(e){i.get(e).call(e,s.get(e),e)}))}return s.prototype.observe=function(i){if(i instanceof window.Element){r.has(i)||(r.set(i,new Set),o.add(i),a.set(i,window.getComputedStyle(i)));var n=r.get(i);n.has(this)||n.add(this),cancelAnimationFrame(t),t=requestAnimationFrame(d)}},s.prototype.unobserve=function(i){if(i instanceof window.Element&&r.has(i)){var n=r.get(i);n.has(this)&&(n.delete(this),n.size||(r.delete(i),o.delete(i))),n.size||r.delete(i),o.size||cancelAnimationFrame(t)}},A.DOMRectReadOnly=c,A.ResizeObserver=s,A.ResizeObserverEntry=h,A}; // eslint-disable-line\n",
       "mpl.toolbar_items = [[\"Home\", \"Reset original view\", \"fa fa-home\", \"home\"], [\"Back\", \"Back to previous view\", \"fa fa-arrow-left\", \"back\"], [\"Forward\", \"Forward to next view\", \"fa fa-arrow-right\", \"forward\"], [\"\", \"\", \"\", \"\"], [\"Pan\", \"Left button pans, Right button zooms\\nx/y fixes axis, CTRL fixes aspect\", \"fa fa-arrows\", \"pan\"], [\"Zoom\", \"Zoom to rectangle\\nx/y fixes axis\", \"fa fa-square-o\", \"zoom\"], [\"\", \"\", \"\", \"\"], [\"Download\", \"Download plot\", \"fa fa-floppy-o\", \"download\"]];\n",
       "\n",
       "mpl.extensions = [\"eps\", \"jpeg\", \"pgf\", \"pdf\", \"png\", \"ps\", \"raw\", \"svg\", \"tif\", \"webp\"];\n",
       "\n",
       "mpl.default_extension = \"png\";/* global mpl */\n",
       "\n",
       "var comm_websocket_adapter = function (comm) {\n",
       "    // Create a \"websocket\"-like object which calls the given IPython comm\n",
       "    // object with the appropriate methods. Currently this is a non binary\n",
       "    // socket, so there is still some room for performance tuning.\n",
       "    var ws = {};\n",
       "\n",
       "    ws.binaryType = comm.kernel.ws.binaryType;\n",
       "    ws.readyState = comm.kernel.ws.readyState;\n",
       "    function updateReadyState(_event) {\n",
       "        if (comm.kernel.ws) {\n",
       "            ws.readyState = comm.kernel.ws.readyState;\n",
       "        } else {\n",
       "            ws.readyState = 3; // Closed state.\n",
       "        }\n",
       "    }\n",
       "    comm.kernel.ws.addEventListener('open', updateReadyState);\n",
       "    comm.kernel.ws.addEventListener('close', updateReadyState);\n",
       "    comm.kernel.ws.addEventListener('error', updateReadyState);\n",
       "\n",
       "    ws.close = function () {\n",
       "        comm.close();\n",
       "    };\n",
       "    ws.send = function (m) {\n",
       "        //console.log('sending', m);\n",
       "        comm.send(m);\n",
       "    };\n",
       "    // Register the callback with on_msg.\n",
       "    comm.on_msg(function (msg) {\n",
       "        //console.log('receiving', msg['content']['data'], msg);\n",
       "        var data = msg['content']['data'];\n",
       "        if (data['blob'] !== undefined) {\n",
       "            data = {\n",
       "                data: new Blob(msg['buffers'], { type: data['blob'] }),\n",
       "            };\n",
       "        }\n",
       "        // Pass the mpl event to the overridden (by mpl) onmessage function.\n",
       "        ws.onmessage(data);\n",
       "    });\n",
       "    return ws;\n",
       "};\n",
       "\n",
       "mpl.mpl_figure_comm = function (comm, msg) {\n",
       "    // This is the function which gets called when the mpl process\n",
       "    // starts-up an IPython Comm through the \"matplotlib\" channel.\n",
       "\n",
       "    var id = msg.content.data.id;\n",
       "    // Get hold of the div created by the display call when the Comm\n",
       "    // socket was opened in Python.\n",
       "    var element = document.getElementById(id);\n",
       "    var ws_proxy = comm_websocket_adapter(comm);\n",
       "\n",
       "    function ondownload(figure, _format) {\n",
       "        window.open(figure.canvas.toDataURL());\n",
       "    }\n",
       "\n",
       "    var fig = new mpl.figure(id, ws_proxy, ondownload, element);\n",
       "\n",
       "    // Call onopen now - mpl needs it, as it is assuming we've passed it a real\n",
       "    // web socket which is closed, not our websocket->open comm proxy.\n",
       "    ws_proxy.onopen();\n",
       "\n",
       "    fig.parent_element = element;\n",
       "    fig.cell_info = mpl.find_output_cell(\"<div id='\" + id + \"'></div>\");\n",
       "    if (!fig.cell_info) {\n",
       "        console.error('Failed to find cell for figure', id, fig);\n",
       "        return;\n",
       "    }\n",
       "    fig.cell_info[0].output_area.element.on(\n",
       "        'cleared',\n",
       "        { fig: fig },\n",
       "        fig._remove_fig_handler\n",
       "    );\n",
       "};\n",
       "\n",
       "mpl.figure.prototype.handle_close = function (fig, msg) {\n",
       "    var width = fig.canvas.width / fig.ratio;\n",
       "    fig.cell_info[0].output_area.element.off(\n",
       "        'cleared',\n",
       "        fig._remove_fig_handler\n",
       "    );\n",
       "    fig.resizeObserverInstance.unobserve(fig.canvas_div);\n",
       "\n",
       "    // Update the output cell to use the data from the current canvas.\n",
       "    fig.push_to_output();\n",
       "    var dataURL = fig.canvas.toDataURL();\n",
       "    // Re-enable the keyboard manager in IPython - without this line, in FF,\n",
       "    // the notebook keyboard shortcuts fail.\n",
       "    IPython.keyboard_manager.enable();\n",
       "    fig.parent_element.innerHTML =\n",
       "        '<img src=\"' + dataURL + '\" width=\"' + width + '\">';\n",
       "    fig.close_ws(fig, msg);\n",
       "};\n",
       "\n",
       "mpl.figure.prototype.close_ws = function (fig, msg) {\n",
       "    fig.send_message('closing', msg);\n",
       "    // fig.ws.close()\n",
       "};\n",
       "\n",
       "mpl.figure.prototype.push_to_output = function (_remove_interactive) {\n",
       "    // Turn the data on the canvas into data in the output cell.\n",
       "    var width = this.canvas.width / this.ratio;\n",
       "    var dataURL = this.canvas.toDataURL();\n",
       "    this.cell_info[1]['text/html'] =\n",
       "        '<img src=\"' + dataURL + '\" width=\"' + width + '\">';\n",
       "};\n",
       "\n",
       "mpl.figure.prototype.updated_canvas_event = function () {\n",
       "    // Tell IPython that the notebook contents must change.\n",
       "    IPython.notebook.set_dirty(true);\n",
       "    this.send_message('ack', {});\n",
       "    var fig = this;\n",
       "    // Wait a second, then push the new image to the DOM so\n",
       "    // that it is saved nicely (might be nice to debounce this).\n",
       "    setTimeout(function () {\n",
       "        fig.push_to_output();\n",
       "    }, 1000);\n",
       "};\n",
       "\n",
       "mpl.figure.prototype._init_toolbar = function () {\n",
       "    var fig = this;\n",
       "\n",
       "    var toolbar = document.createElement('div');\n",
       "    toolbar.classList = 'btn-toolbar';\n",
       "    this.root.appendChild(toolbar);\n",
       "\n",
       "    function on_click_closure(name) {\n",
       "        return function (_event) {\n",
       "            return fig.toolbar_button_onclick(name);\n",
       "        };\n",
       "    }\n",
       "\n",
       "    function on_mouseover_closure(tooltip) {\n",
       "        return function (event) {\n",
       "            if (!event.currentTarget.disabled) {\n",
       "                return fig.toolbar_button_onmouseover(tooltip);\n",
       "            }\n",
       "        };\n",
       "    }\n",
       "\n",
       "    fig.buttons = {};\n",
       "    var buttonGroup = document.createElement('div');\n",
       "    buttonGroup.classList = 'btn-group';\n",
       "    var button;\n",
       "    for (var toolbar_ind in mpl.toolbar_items) {\n",
       "        var name = mpl.toolbar_items[toolbar_ind][0];\n",
       "        var tooltip = mpl.toolbar_items[toolbar_ind][1];\n",
       "        var image = mpl.toolbar_items[toolbar_ind][2];\n",
       "        var method_name = mpl.toolbar_items[toolbar_ind][3];\n",
       "\n",
       "        if (!name) {\n",
       "            /* Instead of a spacer, we start a new button group. */\n",
       "            if (buttonGroup.hasChildNodes()) {\n",
       "                toolbar.appendChild(buttonGroup);\n",
       "            }\n",
       "            buttonGroup = document.createElement('div');\n",
       "            buttonGroup.classList = 'btn-group';\n",
       "            continue;\n",
       "        }\n",
       "\n",
       "        button = fig.buttons[name] = document.createElement('button');\n",
       "        button.classList = 'btn btn-default';\n",
       "        button.href = '#';\n",
       "        button.title = name;\n",
       "        button.innerHTML = '<i class=\"fa ' + image + ' fa-lg\"></i>';\n",
       "        button.addEventListener('click', on_click_closure(method_name));\n",
       "        button.addEventListener('mouseover', on_mouseover_closure(tooltip));\n",
       "        buttonGroup.appendChild(button);\n",
       "    }\n",
       "\n",
       "    if (buttonGroup.hasChildNodes()) {\n",
       "        toolbar.appendChild(buttonGroup);\n",
       "    }\n",
       "\n",
       "    // Add the status bar.\n",
       "    var status_bar = document.createElement('span');\n",
       "    status_bar.classList = 'mpl-message pull-right';\n",
       "    toolbar.appendChild(status_bar);\n",
       "    this.message = status_bar;\n",
       "\n",
       "    // Add the close button to the window.\n",
       "    var buttongrp = document.createElement('div');\n",
       "    buttongrp.classList = 'btn-group inline pull-right';\n",
       "    button = document.createElement('button');\n",
       "    button.classList = 'btn btn-mini btn-primary';\n",
       "    button.href = '#';\n",
       "    button.title = 'Stop Interaction';\n",
       "    button.innerHTML = '<i class=\"fa fa-power-off icon-remove icon-large\"></i>';\n",
       "    button.addEventListener('click', function (_evt) {\n",
       "        fig.handle_close(fig, {});\n",
       "    });\n",
       "    button.addEventListener(\n",
       "        'mouseover',\n",
       "        on_mouseover_closure('Stop Interaction')\n",
       "    );\n",
       "    buttongrp.appendChild(button);\n",
       "    var titlebar = this.root.querySelector('.ui-dialog-titlebar');\n",
       "    titlebar.insertBefore(buttongrp, titlebar.firstChild);\n",
       "};\n",
       "\n",
       "mpl.figure.prototype._remove_fig_handler = function (event) {\n",
       "    var fig = event.data.fig;\n",
       "    if (event.target !== this) {\n",
       "        // Ignore bubbled events from children.\n",
       "        return;\n",
       "    }\n",
       "    fig.close_ws(fig, {});\n",
       "};\n",
       "\n",
       "mpl.figure.prototype._root_extra_style = function (el) {\n",
       "    el.style.boxSizing = 'content-box'; // override notebook setting of border-box.\n",
       "};\n",
       "\n",
       "mpl.figure.prototype._canvas_extra_style = function (el) {\n",
       "    // this is important to make the div 'focusable\n",
       "    el.setAttribute('tabindex', 0);\n",
       "    // reach out to IPython and tell the keyboard manager to turn it's self\n",
       "    // off when our div gets focus\n",
       "\n",
       "    // location in version 3\n",
       "    if (IPython.notebook.keyboard_manager) {\n",
       "        IPython.notebook.keyboard_manager.register_events(el);\n",
       "    } else {\n",
       "        // location in version 2\n",
       "        IPython.keyboard_manager.register_events(el);\n",
       "    }\n",
       "};\n",
       "\n",
       "mpl.figure.prototype._key_event_extra = function (event, _name) {\n",
       "    // Check for shift+enter\n",
       "    if (event.shiftKey && event.which === 13) {\n",
       "        this.canvas_div.blur();\n",
       "        // select the cell after this one\n",
       "        var index = IPython.notebook.find_cell_index(this.cell_info[0]);\n",
       "        IPython.notebook.select(index + 1);\n",
       "    }\n",
       "};\n",
       "\n",
       "mpl.figure.prototype.handle_save = function (fig, _msg) {\n",
       "    fig.ondownload(fig, null);\n",
       "};\n",
       "\n",
       "mpl.find_output_cell = function (html_output) {\n",
       "    // Return the cell and output element which can be found *uniquely* in the notebook.\n",
       "    // Note - this is a bit hacky, but it is done because the \"notebook_saving.Notebook\"\n",
       "    // IPython event is triggered only after the cells have been serialised, which for\n",
       "    // our purposes (turning an active figure into a static one), is too late.\n",
       "    var cells = IPython.notebook.get_cells();\n",
       "    var ncells = cells.length;\n",
       "    for (var i = 0; i < ncells; i++) {\n",
       "        var cell = cells[i];\n",
       "        if (cell.cell_type === 'code') {\n",
       "            for (var j = 0; j < cell.output_area.outputs.length; j++) {\n",
       "                var data = cell.output_area.outputs[j];\n",
       "                if (data.data) {\n",
       "                    // IPython >= 3 moved mimebundle to data attribute of output\n",
       "                    data = data.data;\n",
       "                }\n",
       "                if (data['text/html'] === html_output) {\n",
       "                    return [cell, data, j];\n",
       "                }\n",
       "            }\n",
       "        }\n",
       "    }\n",
       "};\n",
       "\n",
       "// Register the function which deals with the matplotlib target/channel.\n",
       "// The kernel may be null if the page has been refreshed.\n",
       "if (IPython.notebook.kernel !== null) {\n",
       "    IPython.notebook.kernel.comm_manager.register_target(\n",
       "        'matplotlib',\n",
       "        mpl.mpl_figure_comm\n",
       "    );\n",
       "}\n"
      ],
      "text/plain": [
       "<IPython.core.display.Javascript object>"
      ]
     },
     "metadata": {},
     "output_type": "display_data"
    },
    {
     "data": {
      "text/html": [
       "<img src=\"data:image/png;base64,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\" width=\"1000\">"
      ],
      "text/plain": [
       "<IPython.core.display.HTML object>"
      ]
     },
     "metadata": {},
     "output_type": "display_data"
    }
   ],
   "source": [
    "view(result)"
   ]
  },
  {
   "cell_type": "markdown",
   "metadata": {},
   "source": [
    "## Self-reading"
   ]
  },
  {
   "cell_type": "markdown",
   "metadata": {},
   "source": [
    "- https://realpython.com/pointers-in-python/?fbclid=IwAR0cNGOTG3oL6-7gqZXgzGllS6FYHxjBMK8yrMT0SzW433yo87Vfc0SbxyY\n",
    "- https://mmazurek.dev/for-vs-list-comprehension-vs-map/?fbclid=IwAR1X8YDJE864J-umb05N_BjMtOvQyNDfFE_R8iO3A6tF7KcOA-is0ad-uj0"
   ]
  },
  {
   "cell_type": "code",
   "execution_count": null,
   "metadata": {},
   "outputs": [],
   "source": []
  }
 ],
 "metadata": {
  "celltoolbar": "Slideshow",
  "kernelspec": {
   "display_name": "Python 3 (ipykernel)",
   "language": "python",
   "name": "python3"
  },
  "language_info": {
   "codemirror_mode": {
    "name": "ipython",
    "version": 3
   },
   "file_extension": ".py",
   "mimetype": "text/x-python",
   "name": "python",
   "nbconvert_exporter": "python",
   "pygments_lexer": "ipython3",
   "version": "3.10.11"
  }
 },
 "nbformat": 4,
 "nbformat_minor": 2
}
