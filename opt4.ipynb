{
 "cells": [
  {
   "cell_type": "markdown",
   "id": "db7ff1c7",
   "metadata": {},
   "source": [
    "## Why Type More? Simplify Your Prints with Just print()"
   ]
  },
  {
   "cell_type": "code",
   "execution_count": null,
   "id": "76254105",
   "metadata": {},
   "outputs": [],
   "source": [
    "## Bad\n",
    "print(\"\")\n",
    "\n",
    "## Good\n",
    "\n",
    "print()"
   ]
  },
  {
   "cell_type": "markdown",
   "id": "61181c16",
   "metadata": {},
   "source": [
    "## Boost File Writing Efficiency: Use .writelines() Instead of Multiple .write() Calls"
   ]
  },
  {
   "cell_type": "code",
   "execution_count": null,
   "id": "c9a6f582",
   "metadata": {},
   "outputs": [],
   "source": [
    "## Bad\n",
    "lines = [\"line 1\", \"line 2\", \"line 3\"] \n",
    "with open(\"file\", \"w\") as f: \n",
    "    for line in lines: \n",
    "        f.write(line + \"\\n\")\n",
    "\n",
    "## Good \n",
    "lines = [\"line \", \"line 2\", \"line 3\"]\n",
    "with open(\"file\") as f: \n",
    "    f.writelines(lines)"
   ]
  },
  {
   "cell_type": "markdown",
   "id": "2d89277f",
   "metadata": {},
   "source": [
    "## When comparing a value to multiple options, use `in` instead of numerous `or` checks"
   ]
  },
  {
   "cell_type": "code",
   "execution_count": null,
   "id": "63053f89",
   "metadata": {},
   "outputs": [],
   "source": [
    "## Bad\n",
    "if x == \"abc\" or x == \"mno\" or x == \"xyz\": \n",
    "    pass\n",
    "\n",
    "## Good\n",
    "if x in (\"abc\", \"mno\", \"xyz\"): \n",
    "    pass"
   ]
  },
  {
   "cell_type": "markdown",
   "id": "7e5edee3",
   "metadata": {},
   "source": [
    "## Simplify Inline if Statements with a Single or Expression"
   ]
  },
  {
   "cell_type": "code",
   "execution_count": null,
   "id": "f1b27cda",
   "metadata": {},
   "outputs": [],
   "source": [
    "# Bad\n",
    "z = x if x else y\n",
    "\n",
    "\n",
    "## Good\n",
    "z = x or y"
   ]
  },
  {
   "cell_type": "markdown",
   "id": "9f0e49e0",
   "metadata": {},
   "source": [
    "## Quick and Easy Key Checking in Dictionaries"
   ]
  },
  {
   "cell_type": "code",
   "execution_count": null,
   "id": "d778609b",
   "metadata": {},
   "outputs": [],
   "source": [
    "## Bad\n",
    "d = {\"key\": \"value\"} if \"key\" in d.keys():\n",
    "\n",
    "## Good\n",
    "d = {\"key\": \"value\"} if \"key\" in d:\n",
    "    …"
   ]
  },
  {
   "cell_type": "markdown",
   "id": "918b47ec",
   "metadata": {},
   "source": [
    "## Streamline Equality Checks with a Comparison Chain"
   ]
  },
  {
   "cell_type": "code",
   "execution_count": null,
   "id": "5be4dd62",
   "metadata": {},
   "outputs": [],
   "source": [
    "## Bad\n",
    "if x == y and x == z: \n",
    "    pass\n",
    "\n",
    "\n",
    "## A Good one\n",
    "if x == y == z: \n",
    "    pass"
   ]
  },
  {
   "cell_type": "markdown",
   "id": "c951f153",
   "metadata": {},
   "source": [
    "## Never leave your except block empty"
   ]
  },
  {
   "cell_type": "code",
   "execution_count": null,
   "id": "13b019a4",
   "metadata": {},
   "outputs": [],
   "source": [
    "## Bad\n",
    "try:\n",
    "    file = open(\"data.txt\", \"r\")\n",
    "    # Perform some operations with the file\n",
    "except:\n",
    "    # Error handling\n",
    "    pass\n",
    "\n",
    "\n",
    "## Good\n",
    "try:\n",
    "    file = open(\"data.txt\", \"r\")\n",
    "    # Perform some operations with the file\n",
    "    # ...\n",
    "    file.close()\n",
    "except FileNotFoundError:\n",
    "    print(\"File not found!\")\n",
    "except IOError as e:\n",
    "    print(\"Error occurred while handling the file:\", str(e))"
   ]
  },
  {
   "cell_type": "markdown",
   "id": "c94b46d0",
   "metadata": {},
   "source": [
    "## Finding the Most Common Elements in a List"
   ]
  },
  {
   "cell_type": "code",
   "execution_count": null,
   "id": "4c5edf1b",
   "metadata": {},
   "outputs": [],
   "source": [
    "from collections import Counter\n",
    "most_common = Counter(your_list).most_common(1)"
   ]
  },
  {
   "cell_type": "code",
   "execution_count": null,
   "id": "c5f56df8",
   "metadata": {},
   "outputs": [],
   "source": []
  },
  {
   "cell_type": "code",
   "execution_count": null,
   "id": "a435c1d9",
   "metadata": {},
   "outputs": [],
   "source": []
  },
  {
   "cell_type": "code",
   "execution_count": null,
   "id": "0728df53",
   "metadata": {},
   "outputs": [],
   "source": []
  },
  {
   "cell_type": "code",
   "execution_count": null,
   "id": "fa823f71",
   "metadata": {},
   "outputs": [],
   "source": []
  }
 ],
 "metadata": {
  "kernelspec": {
   "display_name": "Python 3 (ipykernel)",
   "language": "python",
   "name": "python3"
  },
  "language_info": {
   "codemirror_mode": {
    "name": "ipython",
    "version": 3
   },
   "file_extension": ".py",
   "mimetype": "text/x-python",
   "name": "python",
   "nbconvert_exporter": "python",
   "pygments_lexer": "ipython3",
   "version": "3.10.11"
  }
 },
 "nbformat": 4,
 "nbformat_minor": 5
}
