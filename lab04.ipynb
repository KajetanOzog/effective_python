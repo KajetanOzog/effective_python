{
 "cells": [
  {
   "cell_type": "markdown",
   "metadata": {},
   "source": [
    "## Lab 04"
   ]
  },
  {
   "cell_type": "markdown",
   "metadata": {},
   "source": [
    "## Zadanie 1 (Igor Sieradzki)"
   ]
  },
  {
   "cell_type": "markdown",
   "metadata": {},
   "source": [
    "Funkcja <t>flow_rate</i> do modyfikacji"
   ]
  },
  {
   "cell_type": "code",
   "execution_count": 1,
   "metadata": {
    "collapsed": true
   },
   "outputs": [],
   "source": [
    "def flow_rate(weight, time, period=1, units_per_kg=1):\n",
    "    \"\"\" Funkcja wylicza ile wagi produktu przybyło/ubyło w jednostce czasu \"\"\"\n",
    "    return (weight / time) * period * units_per_kg\n",
    "\n",
    "weight = 0.5\n",
    "time = 3"
   ]
  },
  {
   "cell_type": "code",
   "execution_count": 2,
   "metadata": {
    "collapsed": true
   },
   "outputs": [
    {
     "name": "stdout",
     "output_type": "stream",
     "text": [
      "0.167 kg per second\n"
     ]
    }
   ],
   "source": [
    "flow = flow_rate(weight, time)\n",
    "print(\"{0:.3} kg per second\".format(flow))"
   ]
  },
  {
   "cell_type": "code",
   "execution_count": 3,
   "metadata": {
    "collapsed": true
   },
   "outputs": [
    {
     "ename": "SyntaxError",
     "evalue": "invalid syntax (3635264092.py, line 1)",
     "output_type": "error",
     "traceback": [
      "\u001b[0;36m  Cell \u001b[0;32mIn[3], line 1\u001b[0;36m\u001b[0m\n\u001b[0;31m    Zmodyfikuj funckje <i>flow_rate</i> tak, aby poniższe wywołania działały poprawnie.\u001b[0m\n\u001b[0m               ^\u001b[0m\n\u001b[0;31mSyntaxError\u001b[0m\u001b[0;31m:\u001b[0m invalid syntax\n"
     ]
    }
   ],
   "source": [
    "Zmodyfikuj funckje <i>flow_rate</i> tak, aby poniższe wywołania działały poprawnie."
   ]
  },
  {
   "cell_type": "code",
   "execution_count": 4,
   "metadata": {
    "collapsed": true
   },
   "outputs": [
    {
     "name": "stdout",
     "output_type": "stream",
     "text": [
      "10000.0 grams per minute\n"
     ]
    }
   ],
   "source": [
    "flow = flow_rate(weight, time, period=60, units_per_kg=1000)\n",
    "print(\"{} grams per minute\".format(flow))"
   ]
  },
  {
   "cell_type": "code",
   "execution_count": 5,
   "metadata": {
    "collapsed": true
   },
   "outputs": [
    {
     "name": "stdout",
     "output_type": "stream",
     "text": [
      "0.167 kg per second\n"
     ]
    }
   ],
   "source": [
    "flow = flow_rate(weight, time, period=1, units_per_kg=1)\n",
    "print(\"{0:.3} kg per second\".format(flow))"
   ]
  },
  {
   "cell_type": "code",
   "execution_count": 6,
   "metadata": {
    "collapsed": true
   },
   "outputs": [
    {
     "name": "stdout",
     "output_type": "stream",
     "text": [
      "0.167 grams per minute\n"
     ]
    }
   ],
   "source": [
    "flow = flow_rate(weight, time)\n",
    "print(\"{0:.3} grams per minute\".format(flow))"
   ]
  },
  {
   "cell_type": "markdown",
   "metadata": {},
   "source": [
    "Wyjaśnić czemu poniższe rzucanie błędu jest porządane"
   ]
  },
  {
   "cell_type": "code",
   "execution_count": 7,
   "metadata": {
    "collapsed": true
   },
   "outputs": [],
   "source": [
    "try:\n",
    "    flow = flow_rate(weight, time, 3600, 2.2)\n",
    "except TypeError:\n",
    "    print(True)\n",
    "#Ponieważ argumenty pozycyjne muszą zostać przekazane z nazwą"
   ]
  },
  {
   "cell_type": "markdown",
   "metadata": {},
   "source": [
    "## Zadanie 2 (Igor Sieradzki)"
   ]
  },
  {
   "cell_type": "markdown",
   "metadata": {},
   "source": [
    "Dopisz definicje dekoratora _timeit_, który wypisze na wyjscie standardowe czas wywołania udekorowanej funckji np.\n",
    "\n",
    "```\n",
    "@timeit\n",
    "def foo(x):\n",
    "    return x**2\n",
    "    \n",
    "r = foo(2)\n",
    "```\n",
    "wypize: <br>\n",
    "    `Function foo took: 0.00001 seconds` <br>\n",
    "oraz zwróci 4"
   ]
  },
  {
   "cell_type": "code",
   "execution_count": 18,
   "metadata": {
    "collapsed": true
   },
   "outputs": [
    {
     "name": "stdout",
     "output_type": "stream",
     "text": [
      "Function foo took: 0.055675506591796875 seconds\n",
      "Function foo took: 0.04542875289916992 seconds\n",
      "Function foo took: 6.4373016357421875e-06 seconds\n"
     ]
    }
   ],
   "source": [
    "from time import time\n",
    "\n",
    "def timeit(func):\n",
    "    \"\"\" Wypisuje czas wywołania udekorowanej funckji \"\"\"\n",
    "    def wrapper(*args, **kwargs):\n",
    "        start = time()\n",
    "        result = func(*args, **kwargs)\n",
    "        print(f\"Function foo took: {time() - start} seconds\")\n",
    "        return result\n",
    "    return wrapper\n",
    "\n",
    "@timeit\n",
    "def squares_list(n):\n",
    "    squares = []\n",
    "    for i in range(n):\n",
    "        squares.append(i ** 2)\n",
    "    return squares\n",
    "\n",
    "@timeit\n",
    "def squares_comprehension(n):\n",
    "    return [i ** 2 for i in range(n)]\n",
    "\n",
    "@timeit\n",
    "def squares_map(n):\n",
    "    return map(lambda x: x**2, range(n))\n",
    "\n",
    "n = 1000000\n",
    "l = squares_list(n)\n",
    "c = squares_comprehension(n)\n",
    "m = squares_map(n)"
   ]
  },
  {
   "cell_type": "markdown",
   "metadata": {},
   "source": [
    "## Zadanie 3 (Igor Sieradzki)"
   ]
  },
  {
   "cell_type": "markdown",
   "metadata": {},
   "source": [
    "Dopisz definicje dekoratora _derivate_ wg. instrukcji w _docstringu_"
   ]
  },
  {
   "cell_type": "code",
   "execution_count": 8,
   "metadata": {
    "collapsed": true
   },
   "outputs": [
    {
     "name": "stdout",
     "output_type": "stream",
     "text": [
      "True\n",
      "True\n",
      "True\n",
      "True\n",
      "794.3872257455951 794.3772257457447 \t True\n",
      "473276.3931155204 473276.38258762937 \t True\n",
      "462.67051512622857 462.66051512699045 \t True\n",
      "160541.0711839795 160541.06419317913 \t True\n",
      "735.4836498940131 735.4736498967782 \t True\n",
      "405691.12673401827 405691.1172693665 \t True\n",
      "695.6196776474826 695.6096776476887 \t True\n",
      "362904.62687611574 362904.6177278411 \t True\n",
      "1475.6602064939216 1475.6502064915412 \t True\n",
      "1633157.6645374296 1633157.6489388961 \t True\n",
      "1360.615654051071 1360.6056540557995 \t True\n",
      "1388435.8286857605 1388435.8093864575 \t True\n",
      "60.09294681505253 60.08294681504856 \t True\n",
      "2707.4712746980367 2707.4703734849654 \t True\n",
      "697.4077025210136 697.3977025220535 \t True\n",
      "364772.67593145365 364772.66661227896 \t True\n",
      "1822.697065374814 1822.6870653845804 \t True\n",
      "2491641.116142273 2491641.10374019 \t True\n",
      "250.1013616392811 250.09136163899458 \t True\n",
      "46909.27064511924 46909.26687483478 \t True\n",
      "1930.040505854413 1930.0305058544127 \t True\n",
      "2793763.3395195007 2793763.31514648 \t True\n",
      "1293.214004096808 1293.204004094873 \t True\n",
      "1254282.4625968933 1254282.447155259 \t True\n",
      "1980.729412974324 1980.719412968911 \t True\n",
      "2942437.076568603 2942437.0446839305 \t True\n",
      "526.786241964146 526.7762419657307 \t True\n",
      "208119.91430819032 208119.90682465356 \t True\n",
      "212.82906266969803 212.8190626697344 \t True\n",
      "33968.96827034652 33968.965076718254 \t True\n",
      "316.59010211515124 316.58010211543376 \t True\n",
      "75167.22562722862 75167.22079156384 \t True\n",
      "1406.4328759268392 1406.4228759264588 \t True\n",
      "1483518.999814987 1483518.9794469385 \t True\n",
      "1539.3839174415916 1539.3739174496072 \t True\n",
      "1777254.0569305418 1777254.043293113 \t True\n",
      "1637.6145532238297 1637.604553216581 \t True\n",
      "2011311.5310668943 2011311.5045367584 \t True\n",
      "1796.3141841581091 1796.3041841652844 \t True\n",
      "2420031.5594673157 2420031.541537281 \t True\n"
     ]
    }
   ],
   "source": [
    "import sys\n",
    "sys.float_info.epsilon # epsilon maszynowy\n",
    "\n",
    "\n",
    "def derivate(epsilon=None):\n",
    "     \"\"\"\n",
    "    Zwraca pochodną funkcji w punkcie, wg. wzoru f'(x) = [f(x+h) - f(x)]/h, \n",
    "    gdzie h jest parametrem dekoratora, jeśli nie zostanie podany, należy przyjąć 1000 * epsilon maszynowy\n",
    "    \"\"\"\n",
    "     epsilon = epsilon if epsilon is not None else 1000 * sys.float_info.epsilon\n",
    "     def decorator(func):\n",
    "        def wrapper(*args, **kwargs):\n",
    "            return (func(args[0] + epsilon) - func(args[0])) / epsilon\n",
    "        return wrapper\n",
    "     return decorator\n",
    "\n",
    "@derivate(0.01)\n",
    "def f(x):\n",
    "    return x*x\n",
    "\n",
    "@derivate(0.00001)\n",
    "def g(x):\n",
    "    return x*x*x+3\n",
    "\n",
    "def test(a, b, eps=1):\n",
    "    return abs(round(a)-round(b)) < eps\n",
    "\n",
    "print(test(f(100), 200.0))\n",
    "print(round(f(0)) == 0.0)\n",
    "\n",
    "print(test(g(100), 30000.0))\n",
    "print(round(g(0)) == 0.0)\n",
    "\n",
    "from random import random\n",
    "for x in [random()*1000. for _ in range(20)]:\n",
    "    print(f(x), 2*x, '\\t', test(f(x), 2*x))\n",
    "    print(g(x), 3*x**2, '\\t', test(g(x), 3*x**2))"
   ]
  },
  {
   "cell_type": "markdown",
   "metadata": {},
   "source": [
    "## Zadanie 4 (Igor Sieradzki)"
   ]
  },
  {
   "cell_type": "markdown",
   "metadata": {},
   "source": [
    "Dopisz definicje dekoratora _accepts_ wg. instrukcji w _docstringu_"
   ]
  },
  {
   "cell_type": "code",
   "execution_count": 9,
   "metadata": {
    "collapsed": true
   },
   "outputs": [
    {
     "name": "stdout",
     "output_type": "stream",
     "text": [
      "True\n",
      "True\n",
      "True\n",
      "True\n",
      "True\n",
      "True\n"
     ]
    }
   ],
   "source": [
    "def accepts(*types):\n",
    "    \"\"\"Sprawdza czy udekorowanej funckji zostały podane odpowiednie parametry zdefiniowane \n",
    "       w argumentach dekoratora\"\"\"\n",
    "    def decorator(func):\n",
    "        def wrapper(*args, **kwargs):\n",
    "            if any([1 for arg in args if type(arg) not in types]):\n",
    "                raise TypeError\n",
    "            result = func(*args, **kwargs)\n",
    "            return result\n",
    "        return wrapper\n",
    "    return decorator\n",
    "\n",
    "\n",
    "@accepts(str)\n",
    "def capitalize(word):\n",
    "    return word[0].upper() + word[1:]\n",
    "\n",
    "print(capitalize('ola') == 'Ola')\n",
    "\n",
    "try:\n",
    "    capitalize(2)\n",
    "except TypeError:\n",
    "    print(True)\n",
    "\n",
    "@accepts(float, int)\n",
    "def static_pow(base, exp):\n",
    "    return base ** exp \n",
    "\n",
    "print(static_pow(2., 2) == 4.)\n",
    "print(static_pow(2., exp=2) == 4.)\n",
    "print(static_pow(base=2., exp=2) == 4.)\n",
    "\n",
    "try:\n",
    "    static_pow('x', 10)\n",
    "except TypeError:\n",
    "    print(True)\n",
    "    \n",
    "try:\n",
    "    static_pow(2, 2.2)\n",
    "except TypeError:\n",
    "    print(True)"
   ]
  },
  {
   "cell_type": "markdown",
   "metadata": {},
   "source": [
    "## Zadanie 5 (Igor Sieradzki)"
   ]
  },
  {
   "cell_type": "markdown",
   "metadata": {},
   "source": [
    "Dopisz definicje dekoratora _returns_ wg. instrukcji w _docstringu_"
   ]
  },
  {
   "cell_type": "code",
   "execution_count": 10,
   "metadata": {
    "collapsed": true
   },
   "outputs": [
    {
     "name": "stdout",
     "output_type": "stream",
     "text": [
      "True\n",
      "True\n",
      "True\n",
      "True\n"
     ]
    }
   ],
   "source": [
    "def returns(*types):\n",
    "    \"\"\"Sprawdza czy udekorowana funkcja zwraca poprawne argumenty, zdefiniowane w parametrach dekoratora\"\"\"\n",
    "    def decorator(func):\n",
    "        def wrapper(*args, **kwargs):\n",
    "            result = func(*args, **kwargs)\n",
    "            if (types is tuple and result is not tuple) or any([1 for re in result if type(re) not in types]):\n",
    "                raise TypeError\n",
    "            else:\n",
    "                return result\n",
    "        return wrapper\n",
    "    return decorator\n",
    "\n",
    "\n",
    "@returns(str)\n",
    "def str_only_identity(word):\n",
    "    return word\n",
    "\n",
    "print(str_only_identity('hello') == 'hello')\n",
    "\n",
    "try:\n",
    "    str_only_identity(10)\n",
    "except TypeError:\n",
    "    print(True)\n",
    "    \n",
    "@returns(int, int)\n",
    "def split_indices(x):\n",
    "    return x[0], x[1]\n",
    "\n",
    "print(split_indices(x=[6,9]) == (6,9))\n",
    "\n",
    "try:\n",
    "    split_indices('AB')\n",
    "except TypeError:\n",
    "    print(True)"
   ]
  },
  {
   "cell_type": "markdown",
   "metadata": {},
   "source": [
    "## Zadanie 6 (Igor Sieradzki)\n",
    "Stwórz dekorator cached służący do cachowania wywołań dowolnej funkcji, tzn. chcemy by:\n",
    "* wywołanie funkcji z określonymi argumentami miało miejsce tylko raz\n",
    "* funkcja mogła przyjmować dowolną liczbę nazwanych i nienazwanych argumentów\n",
    "* nie musi reagować poprawnie na domyślne argumenty, tzn. wywołanie funkcji z domyślnymi argumentami a podanie dokładnie takich samych może być traktowane jako dwa różne wywołania\n",
    "* na opakowanej funkcji można wywołać `.cache_reset()`, który usunie cache z pamięci\n",
    "* wywołanie `.cache_status()` zwraca string z opisem w postaci: <br>\n",
    "    `Function FUNCTION_NAME called X times, evaluated Y times`"
   ]
  },
  {
   "cell_type": "code",
   "execution_count": 11,
   "metadata": {
    "collapsed": true
   },
   "outputs": [
    {
     "name": "stdout",
     "output_type": "stream",
     "text": [
      "True\n",
      "True\n",
      "True\n",
      "True\n",
      "True\n",
      "True\n"
     ]
    }
   ],
   "source": [
    "from random import random\n",
    "from functools import wraps\n",
    "\n",
    "def cached(f):\n",
    "    f.cache = dict()\n",
    "    f.called = 0\n",
    "    f.evaluated = 0\n",
    "    def cache_reset():\n",
    "        f.cache.clear()\n",
    "\n",
    "    def cache_status():\n",
    "        return f\"Function {f.__name__} called {f.called} times, evaluated {f.evaluated} times\"\n",
    "    \n",
    "    f.cache_reset = cache_reset\n",
    "    f.cache_status = cache_status\n",
    "\n",
    "    @wraps(f)\n",
    "    def wrapper(*args, **kwargs):\n",
    "        f.called += 1\n",
    "        if f.cache.get((args, tuple(sorted(kwargs)))) is None:\n",
    "            f.evaluated += 1\n",
    "            f.cache[(args, tuple(sorted(kwargs)))] = f(*args, **kwargs)\n",
    "        return f.cache.get((args, tuple(sorted(kwargs)))) \n",
    "    return wrapper\n",
    "\n",
    "@cached\n",
    "def foo(x, y=1, z=4):\n",
    "    return random()\n",
    "        \n",
    "print(foo(3) == foo(3))\n",
    "print(foo(4) == foo(4))\n",
    "print(foo(3, z=-1, y=3) == foo(3, y=3, z=-1))\n",
    "print(foo(3) != foo(x=3))\n",
    "a = foo(3)\n",
    "foo.cache_reset()\n",
    "print(a != foo(3))\n",
    "print(foo.cache_status() == 'Function foo called 10 times, evaluated 5 times')"
   ]
  },
  {
   "cell_type": "markdown",
   "metadata": {},
   "source": [
    "## Zadanie 7 (Krzysztof Hajto)"
   ]
  },
  {
   "cell_type": "markdown",
   "metadata": {},
   "source": [
    "Napisz dekorator który będzie robić n-krotne złożenie funkcji, gdzie n jest parametrem dekoratora"
   ]
  },
  {
   "cell_type": "code",
   "execution_count": 12,
   "metadata": {
    "collapsed": true
   },
   "outputs": [
    {
     "name": "stdout",
     "output_type": "stream",
     "text": [
      "True\n",
      "True\n",
      "True\n"
     ]
    }
   ],
   "source": [
    "def zlozenie(n):\n",
    "    def decorator(func):\n",
    "        def wrapper(*args, **kwargs):\n",
    "            result = args[0]\n",
    "            for i in range(n):\n",
    "                result = func(result)\n",
    "            return result\n",
    "        return wrapper\n",
    "    return decorator\n",
    "\n",
    "@zlozenie(3)\n",
    "def f1(x):\n",
    "    return x+1\n",
    "\n",
    "@zlozenie(2)\n",
    "def f2(x):\n",
    "    return x*x\n",
    "\n",
    "@zlozenie(5)\n",
    "def f3(word):\n",
    "    return \"\".join(chr(ord(l)+1) for l in word)\n",
    "\n",
    "print(f1(2)==5)\n",
    "print(f2(3)==81)\n",
    "print(f3(\"alamakota\")==\"fqfrfptyf\")"
   ]
  },
  {
   "cell_type": "markdown",
   "metadata": {},
   "source": [
    "## Zadanie 8 (Krzysztof Hajto)"
   ]
  },
  {
   "cell_type": "markdown",
   "metadata": {},
   "source": [
    "Python nie ma wbudowanej instrukcji switch. Ale posiada anonimowe funkcje oraz słowniki. Zaimplementuj poniższy switch w postaci słownika funkcji.\n",
    "`\n",
    "int my_function(x, y) {\n",
    "\n",
    "\n",
    "    switch(x) {\n",
    "        case 1: return y*y;\n",
    "        case 2: return x+y;\n",
    "        case 3: return x*y;\n",
    "        case 4: return 0;\n",
    "    }\n",
    "}\n",
    "`\n",
    "\n",
    "PS. Nigdy nie róbcie tego w faktycznym kodzie :)"
   ]
  },
  {
   "cell_type": "code",
   "execution_count": 14,
   "metadata": {
    "collapsed": true
   },
   "outputs": [
    {
     "name": "stdout",
     "output_type": "stream",
     "text": [
      "True\n",
      "True\n",
      "True\n",
      "True\n"
     ]
    }
   ],
   "source": [
    "def my_function(x, y):\n",
    "    dict = {\n",
    "        1: lambda x,y : y**2,\n",
    "        2: lambda x,y : x+y,\n",
    "        3: lambda x,y : x*y,\n",
    "        4: lambda x,y: 0 \n",
    "        }\n",
    "    return dict[x](x, y)\n",
    "\n",
    "print(my_function(1,3)==9)\n",
    "print(my_function(2,4)==6)\n",
    "print(my_function(3,1)==3)\n",
    "print(my_function(4,9)==0)"
   ]
  }
 ],
 "metadata": {
  "kernelspec": {
   "display_name": "EF_Python",
   "language": "python",
   "name": "python3"
  },
  "language_info": {
   "codemirror_mode": {
    "name": "ipython",
    "version": 3
   },
   "file_extension": ".py",
   "mimetype": "text/x-python",
   "name": "python",
   "nbconvert_exporter": "python",
   "pygments_lexer": "ipython3",
   "version": "3.12.7"
  }
 },
 "nbformat": 4,
 "nbformat_minor": 2
}
