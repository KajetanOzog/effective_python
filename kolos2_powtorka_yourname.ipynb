{
 "cells": [
  {
   "cell_type": "code",
   "execution_count": 10,
   "metadata": {},
   "outputs": [],
   "source": [
    "import numpy as np\n",
    "import matplotlib.pyplot as plt\n",
    "import pandas as pd\n",
    "import seaborn as sns"
   ]
  },
  {
   "cell_type": "markdown",
   "metadata": {},
   "source": [
    "Question 1.\n",
    "\n",
    "Numpy \n",
    "\n",
    "a. Stwórz 2-wymiarową numpy array o wymiarach `(3, 3)` wypełnionej losowymi liczbami całkowitymi [1, 10]. Wyprintuj i oblicz sumę w każdym rzędzie.\n",
    "\n",
    "b. Mając 2-wymiarową numpy array, zastąp wszystkie elementy większe niż podana wartość, tą właśnie wartością. Przykładowo dla `[[1, 2, 3], [4, 5, 6], [7, 8, 9]]` oraz wartości 5 wynikiem powinno być `[[1, 2, 3], [4, 5, 5], [5, 5, 5]]`\n",
    "\n",
    "c. Napisz dla 2-wymiarowej tablicy funkcję, która zwraca minima lokalne - czyli takie wartości, które są mniejsze od sąsiadów po lewej,prawej, na górze i na dole. Zwróc wszystkie takie indexy."
   ]
  },
  {
   "cell_type": "code",
   "execution_count": 7,
   "metadata": {},
   "outputs": [
    {
     "name": "stdout",
     "output_type": "stream",
     "text": [
      "[[1 2 4]\n",
      " [2 1 1]\n",
      " [7 4 2]]\n",
      "[ 7  4 13]\n"
     ]
    }
   ],
   "source": [
    "x = np.random.randint(1, 11, 9).reshape(3,3)\n",
    "print(x)\n",
    "print(np.sum(x, axis=1))"
   ]
  },
  {
   "cell_type": "code",
   "execution_count": 9,
   "metadata": {},
   "outputs": [
    {
     "name": "stdout",
     "output_type": "stream",
     "text": [
      "[[1 2 3]\n",
      " [4 5 5]\n",
      " [5 5 5]]\n"
     ]
    }
   ],
   "source": [
    "def replace(x, A):\n",
    "    bigger_than_x = np.argwhere(A > x)\n",
    "    for index in bigger_than_x:\n",
    "        A[index[0], index[1]] = x\n",
    "    return A\n",
    "A = np.asarray([[1, 2, 3], [4, 5, 6], [7, 8, 9]])\n",
    "print(replace(5, A))"
   ]
  },
  {
   "cell_type": "code",
   "execution_count": 11,
   "metadata": {},
   "outputs": [
    {
     "data": {
      "text/plain": [
       "<matplotlib.image.AxesImage at 0x1d9713cf800>"
      ]
     },
     "execution_count": 11,
     "metadata": {},
     "output_type": "execute_result"
    },
    {
     "data": {
      "image/png": "[encoded data removed]",
      "text/plain": [
       "<Figure size 640x480 with 1 Axes>"
      ]
     },
     "metadata": {},
     "output_type": "display_data"
    }
   ],
   "source": []
  },
  {
   "cell_type": "markdown",
   "metadata": {},
   "source": [
    "Question 2.\n",
    "\n",
    "Pandas\n",
    "\n",
    "Stwórz DataFrame z poniższymi danymi: `{'Name': ['Anna', 'Bartosz', 'Cezary'], 'Age': [22, 35, 58], 'City': ['Warszawa', 'Kraków', 'Gdańsk']}`. Wyprintuj DataFrame.\n",
    "\n",
    "a. Dodaj kolumnę o nazwie 'Age Group', która będzie zawierała wartości `['Young', 'Adult', 'Senior']` w zależności od wieku: odpowiednio <30, 30-50, 50+.\n",
    "\n",
    "b. Napisz funkcje, która przyjmuję df, nazwę kolumny i sortuje według tej kolumny.\n",
    "\n",
    "c. Napisz funkcję, która przyjmuje DataFrame oraz nazwę kolumny, a następnie zwraca DataFrame z wierszami, które mają najczęściej występującą wartość w tej kolumnie. Użyj tej funkcji, aby znaleźć wiersze z najczęściej występującym wiekiem w DataFrame."
   ]
  },
  {
   "cell_type": "code",
   "execution_count": 3,
   "metadata": {},
   "outputs": [
    {
     "name": "stdout",
     "output_type": "stream",
     "text": [
      "      Name  Age      City\n",
      "0     Anna   22  Warszawa\n",
      "1  Bartosz   35    Kraków\n",
      "2   Cezary   58    Gdańsk\n"
     ]
    }
   ],
   "source": []
  },
  {
   "cell_type": "markdown",
   "metadata": {},
   "source": [
    "Question 3.\n",
    "\n",
    "Pyplot\n",
    "\n",
    "a. Wyplotuj w ładny sposób ten array 3x3 z pierwszego problemu. Ciemność/siła koloru ma być proporcjonalna do wartości w danej komórce. Dodaj colorbar jako legenda.\n",
    "\n",
    "b. Stwórz wykres rozrzutu dla danych `x` oraz `y` będących losowymi liczbami z przedziału [0, 1]. Dodaj kolorowanie punktów na podstawie ich wartości (np norma albo inna metryka) oraz pasek kolorów. Użyj seaborn jak możesz.\n",
    "\n",
    "c. Stwórz wykres 3D dla danych `x`, `y` oraz `z` będących losowymi liczbami z przedziału [0, 1]. Dodaj kolorowanie punktów na podstawie normy. Zrób tak, żeby początek układu współrzędnych był w przeciwległym rogu (najpierw sprawdź jak to będzie wyglądało, potem sprawdź którą oś trzeba zmodyfikować)"
   ]
  },
  {
   "cell_type": "code",
   "execution_count": 13,
   "metadata": {},
   "outputs": [
    {
     "data": {
      "image/png": "[encoded data removed]",
      "text/plain": [
       "<Figure size 640x480 with 1 Axes>"
      ]
     },
     "metadata": {},
     "output_type": "display_data"
    }
   ],
   "source": [
    "x = np.random.randint(1, 11, 9).reshape(3,3)\n",
    "plt.imshow(x)\n",
    "plt.show()"
   ]
  },
  {
   "cell_type": "code",
   "execution_count": null,
   "metadata": {},
   "outputs": [],
   "source": []
  }
 ],
 "metadata": {
  "kernelspec": {
   "display_name": "ef_python",
   "language": "python",
   "name": "python3"
  },
  "language_info": {
   "codemirror_mode": {
    "name": "ipython",
    "version": 3
   },
   "file_extension": ".py",
   "mimetype": "text/x-python",
   "name": "python",
   "nbconvert_exporter": "python",
   "pygments_lexer": "ipython3",
   "version": "3.12.5"
  }
 },
 "nbformat": 4,
 "nbformat_minor": 2
}
