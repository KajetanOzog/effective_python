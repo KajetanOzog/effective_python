{
 "cells": [
  {
   "cell_type": "markdown",
   "metadata": {},
   "source": [
    "podpisz się: Kajetan Ożóg # [ 0.5pkt ]"
   ]
  },
  {
   "cell_type": "code",
   "execution_count": null,
   "metadata": {},
   "outputs": [],
   "source": [
    "# imports if any needed"
   ]
  },
  {
   "cell_type": "markdown",
   "metadata": {},
   "source": [
    "a. funkcja w pythonie przyjmująca listę stringów i klucz zwracająca tylko te słowa które są anagranami [ 1pkt; bonus: 0.5pkt za 1linijke ]"
   ]
  },
  {
   "cell_type": "code",
   "execution_count": null,
   "metadata": {},
   "outputs": [
    {
     "name": "stdout",
     "output_type": "stream",
     "text": [
      "['krasa', 'Arska', 'raska']\n"
     ]
    }
   ],
   "source": [
    "def find_anagrams(words, target):\n",
    "    return [w for w in words if sorted(w.upper()) == sorted(target.upper())]\n",
    "\n",
    "print(find_anagrams([\"krasa\", \"Arska\", \"raska\", \"dadadads\"], \"sarka\"))"
   ]
  },
  {
   "cell_type": "markdown",
   "metadata": {},
   "source": [
    "b. funkcja przyjmująca cel i listę liczb całkowitych zwracająca długość najdłuższej podlisty z sumą równą celowi. [ 2pkt ]"
   ]
  },
  {
   "cell_type": "code",
   "execution_count": null,
   "metadata": {},
   "outputs": [
    {
     "name": "stdout",
     "output_type": "stream",
     "text": [
      "[5]\n",
      "0\n",
      "False\n",
      "0\n",
      "True\n"
     ]
    }
   ],
   "source": [
    "def max_length_subarray(nums, target):\n",
    "    max = 0\n",
    "    if len(nums) == 1:\n",
    "        return 1\n",
    "    for i in range(len(nums)):\n",
    "        for j in range(i, len(nums)):\n",
    "            if sum(nums[i:j]) == target and max < j - i:\n",
    "                max = j - i\n",
    "    print(max)\n",
    "    return max\n",
    "\n",
    "print(max_length_subarray([5], 5) == 1)\n",
    "print(max_length_subarray([1, 2, 3, 4, 5], 11) == 0)"
   ]
  },
  {
   "cell_type": "markdown",
   "metadata": {},
   "source": [
    "c. działamy na interwałach: chcemy połączyć przedziały tak, żeby . Przykład: dla [[1, 3], [2, 6], [8, 10], [10, 18]] wypluć [[1, 6], [8, 18]]. Powodzenia! [ 2pkt ]"
   ]
  },
  {
   "cell_type": "code",
   "execution_count": null,
   "metadata": {},
   "outputs": [
    {
     "name": "stdout",
     "output_type": "stream",
     "text": [
      "[[1, 3], [2, 6], [8, 10], [10, 18]]\n"
     ]
    }
   ],
   "source": [
    "def merge_intervals(intervals):\n",
    "    intervals = sorted(intervals)\n",
    "    przedzialy = list()\n",
    "    przedzial = intervals[0]\n",
    "    for i in intervals:\n",
    "        if \n",
    "\n",
    "\n",
    "print(merge_intervals([[1, 3], [10, 18], [2, 6], [8, 10]]))"
   ]
  },
  {
   "cell_type": "code",
   "execution_count": null,
   "metadata": {},
   "outputs": [],
   "source": []
  }
 ],
 "metadata": {
  "kernelspec": {
   "display_name": "ef_python",
   "language": "python",
   "name": "python3"
  },
  "language_info": {
   "codemirror_mode": {
    "name": "ipython",
    "version": 3
   },
   "file_extension": ".py",
   "mimetype": "text/x-python",
   "name": "python",
   "nbconvert_exporter": "python",
   "pygments_lexer": "ipython3",
   "version": "3.12.5"
  }
 },
 "nbformat": 4,
 "nbformat_minor": 2
}
