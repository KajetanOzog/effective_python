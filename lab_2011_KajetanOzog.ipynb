{
 "cells": [
  {
   "cell_type": "markdown",
   "metadata": {},
   "source": [
    "Przygotowanie do kolokwium. 30min czasu powinno być wystarczające."
   ]
  },
  {
   "cell_type": "markdown",
   "metadata": {},
   "source": [
    "Możecie przed przyszłym tygodniem zrobić jeszcze zestaw regexowy z githuba oraz przećwiczyć jedno zadanko z dekoratora."
   ]
  },
  {
   "cell_type": "code",
   "execution_count": 1,
   "metadata": {},
   "outputs": [],
   "source": [
    "# imports\n",
    "from functools import reduce\n",
    "import itertools as it\n",
    "import re"
   ]
  },
  {
   "cell_type": "markdown",
   "metadata": {},
   "source": [
    "## String"
   ]
  },
  {
   "cell_type": "markdown",
   "metadata": {},
   "source": [
    "### Zad 1"
   ]
  },
  {
   "cell_type": "markdown",
   "metadata": {},
   "source": [
    "Mamy dwa stringi a, b. b jest dluższy od a o jeden znak i powstał w wyniku dodania tego znaku do a i pomieszaniu. Znajdź ten znak. Można spróbować w 1 linijce"
   ]
  },
  {
   "cell_type": "code",
   "execution_count": 2,
   "metadata": {},
   "outputs": [],
   "source": [
    "def find_difference(a, b):\n",
    "    assert len(a) + 1 == len(b)\n",
    "    return [i for i in b if i not in a][0]"
   ]
  },
  {
   "cell_type": "code",
   "execution_count": 3,
   "metadata": {},
   "outputs": [],
   "source": [
    "a = \"znajdzmnie\"\n",
    "b = \"ijndzxmaenz\"\n",
    "assert find_difference(a, b) == \"x\""
   ]
  },
  {
   "cell_type": "markdown",
   "metadata": {},
   "source": [
    "## List"
   ]
  },
  {
   "cell_type": "markdown",
   "metadata": {},
   "source": [
    "### Zad 2"
   ]
  },
  {
   "cell_type": "markdown",
   "metadata": {},
   "source": [
    "Wyprostuj listę. W jednej linii."
   ]
  },
  {
   "cell_type": "code",
   "execution_count": 4,
   "metadata": {},
   "outputs": [],
   "source": [
    "def flatten_array(arr):\n",
    "    return(reduce(lambda x, y: x + flatten_array(y) if type(y) == list else x + [y], arr, []))"
   ]
  },
  {
   "cell_type": "code",
   "execution_count": 5,
   "metadata": {},
   "outputs": [],
   "source": [
    "nested_list = [1, [2, 3, [4, 5]], [6, [7, 8]], 9, [10]]\n",
    "out = [1, 2, 3, 4, 5, 6, 7, 8, 9, 10]\n",
    "assert out == flatten_array(nested_list)"
   ]
  },
  {
   "cell_type": "markdown",
   "metadata": {},
   "source": [
    "## Algo"
   ]
  },
  {
   "cell_type": "markdown",
   "metadata": {},
   "source": [
    "### Zad 3"
   ]
  },
  {
   "cell_type": "markdown",
   "metadata": {},
   "source": [
    "Znajdź k-ty najmniejszy dzielnik liczby n. Zoptymalizuj kod - w najgorszej opcji O(n)"
   ]
  },
  {
   "cell_type": "code",
   "execution_count": 6,
   "metadata": {},
   "outputs": [],
   "source": [
    "def find_kth_div(n, k):\n",
    "    #return [i  for i in range(1, n) if n % i == 0][k - 1] O(n)\n",
    "    divisors = []\n",
    "    for i in range(1, int(n ** 0.5) + 1):\n",
    "        if n % i == 0:\n",
    "            divisors.extend([i, n // i])\n",
    "    return sorted(divisors)[k-1] if k <= len(divisors) else -1 # to jest chyba O(sqrt(n) * log(sqrt(n))) da sie chyba na dwie tablice zrobic w O(sqrt(n)) "
   ]
  },
  {
   "cell_type": "code",
   "execution_count": 7,
   "metadata": {},
   "outputs": [],
   "source": [
    "n, k = 12, 3\n",
    "out = 3\n",
    "assert out == find_kth_div(n, k) # [1,2,*3*,4,6,12]"
   ]
  },
  {
   "cell_type": "markdown",
   "metadata": {},
   "source": [
    "## Regex"
   ]
  },
  {
   "cell_type": "markdown",
   "metadata": {},
   "source": [
    "The backslash (\\) is used to escape characters so that they are treated as literal characters instead of special characters.\n",
    "\n",
    "The caret (^) is used to match the start of a string.\n",
    "\n",
    "The dollar sign ($) is used to match the end of a string.\n",
    "\n",
    "The period (.) is used to match any single character.\n",
    "\n",
    "The asterisk (*) is used to match zero or more characters.\n",
    "\n",
    "The plus sign (+) is used to match one or more characters.\n",
    "\n",
    "The question mark (?) is used to match zero or one character.\n",
    "\n",
    "The vertical bar (|) is used to match one of two characters.\n",
    "\n",
    "The square brackets ([ and ]) are used to match a character set."
   ]
  },
  {
   "cell_type": "markdown",
   "metadata": {},
   "source": [
    "### Example"
   ]
  },
  {
   "cell_type": "code",
   "execution_count": 8,
   "metadata": {},
   "outputs": [
    {
     "name": "stdout",
     "output_type": "stream",
     "text": [
      "['45.99', '1.50', '2,', '49']\n"
     ]
    }
   ],
   "source": [
    "# Sample text \n",
    "text = \"The price of the book is $45.99 and the price of the pen is $1.50. Is the price of this notebook 2,49zł correct?\" \n",
    "# Regular expression pattern to find all numbers (including decimals) \n",
    "pattern = r'\\d+\\.\\d+|\\d+\\,|\\d+' \n",
    "# Find all matches in the text \n",
    "matches = re.findall(pattern, text) \n",
    "# Print the matches print\n",
    "print(matches)"
   ]
  },
  {
   "cell_type": "markdown",
   "metadata": {},
   "source": [
    "### Rozgrzewka"
   ]
  },
  {
   "cell_type": "markdown",
   "metadata": {},
   "source": [
    "Co złapie poniższe wyrażenie? \n",
    "\n",
    "pattern = r'\\d+'\n",
    "\n",
    "spróbuj wykminić a potem sprawdź!"
   ]
  },
  {
   "cell_type": "code",
   "execution_count": 9,
   "metadata": {},
   "outputs": [],
   "source": [
    "#liczba"
   ]
  },
  {
   "cell_type": "markdown",
   "metadata": {},
   "source": [
    "### Zad 4"
   ]
  },
  {
   "cell_type": "markdown",
   "metadata": {},
   "source": [
    "Znajdź taki pattern który wyłapuje słowa, które zaczynają się z dużej litery i mają conajmniej 2 znaki"
   ]
  },
  {
   "cell_type": "code",
   "execution_count": 10,
   "metadata": {},
   "outputs": [],
   "source": [
    "def get_wordsstartingwithcapletter(data):\n",
    "    print(re.findall(r'\\b[A-Z][a-zA-Z0-9]{2,}(?=\\s|\\b)', data))\n",
    "    return re.findall(r'\\b[A-Z][a-zA-Z0-9]{2,}(?=\\s|\\b)', data)"
   ]
  },
  {
   "cell_type": "code",
   "execution_count": 11,
   "metadata": {},
   "outputs": [
    {
     "name": "stdout",
     "output_type": "stream",
     "text": [
      "['How', 'Doin']\n",
      "['How', 'Doin']\n"
     ]
    }
   ],
   "source": [
    "data = \"How you Doin m Y friend\"\n",
    "out = ['How', 'Doin']\n",
    "assert out == get_wordsstartingwithcapletter(data)\n",
    "data = \"How you Doin m Y frIend\"\n",
    "out = ['How', 'Doin']\n",
    "assert out == get_wordsstartingwithcapletter(data)"
   ]
  },
  {
   "cell_type": "markdown",
   "metadata": {},
   "source": [
    "Jeśli ostatni unit test nie przejdzie to postaraj się wrócić i naprawić. Ale nie ma dramy jak nie uda się."
   ]
  },
  {
   "cell_type": "markdown",
   "metadata": {},
   "source": [
    "### Zad 5"
   ]
  },
  {
   "cell_type": "markdown",
   "metadata": {},
   "source": [
    "Efektywnie wydobądź wszystkie liczby z tekstu używając regular expression i list comprehension. Załóź, że Twoje dane to lista stringów."
   ]
  },
  {
   "cell_type": "code",
   "execution_count": 12,
   "metadata": {},
   "outputs": [],
   "source": [
    "def extract_nums(data):\n",
    "    print(reduce(lambda x, y: x + [float(i) for i in re.findall(r'-*\\d+\\.\\d+|-*\\d+' ,y)], data, []))\n",
    "    return reduce(lambda x, y: x + [float(i) for i in re.findall(r'-*\\d+\\.\\d+|-*\\d+' ,y)], data, [])"
   ]
  },
  {
   "cell_type": "code",
   "execution_count": 13,
   "metadata": {},
   "outputs": [
    {
     "name": "stdout",
     "output_type": "stream",
     "text": [
      "[23.5, 1.0, 1013.25, 500.0, 7.4]\n"
     ]
    }
   ],
   "source": [
    "text_data = [\n",
    "    \"Temperature: 23.5°C on Day 1\",\n",
    "    \"Pressure: 1013.25 hPa\",\n",
    "    \"Volume: 500ml with pH 7.4\"\n",
    "]\n",
    "out = [23.5, 1.0, 1013.25, 500.0, 7.4]\n",
    "assert out == extract_nums(text_data)"
   ]
  },
  {
   "cell_type": "code",
   "execution_count": 14,
   "metadata": {},
   "outputs": [],
   "source": [
    "# PS: do not worry about:\n",
    "# extract_nums([\"1,000.50 and 2.5e3\"])"
   ]
  },
  {
   "cell_type": "markdown",
   "metadata": {},
   "source": [
    "### Zad 6"
   ]
  },
  {
   "cell_type": "markdown",
   "metadata": {},
   "source": [
    "Znajdź regex który wyłapuje polskie kody pocztowe których suma równa się 21\n",
    "\n",
    "https://pl.wikipedia.org/wiki/Kody_pocztowe_w_Polsce\n",
    "\n",
    "TLDR: dwie pierwsze cyfry potem myślnik potem trzy cyfry."
   ]
  },
  {
   "cell_type": "code",
   "execution_count": 15,
   "metadata": {},
   "outputs": [],
   "source": [
    "def find_codeposts(data):\n",
    "    print([i for i in data if re.match(r'^\\d{2}-\\d{3}$', i) and sum(map(lambda x: int(x), i[:2] + i[3:])) == 21])\n",
    "    return [i for i in data if re.match(r'^\\d{2}-\\d{3}$', i) and sum(map(lambda x: int(x), i[:2] + i[3:])) == 21]"
   ]
  },
  {
   "cell_type": "code",
   "execution_count": 16,
   "metadata": {},
   "outputs": [
    {
     "name": "stdout",
     "output_type": "stream",
     "text": [
      "['03-918']\n"
     ]
    }
   ],
   "source": [
    "some_codeposts = [\"12-345\", \"99-999\", \"21-123\", \"11-910\", \"03-918\"] \n",
    "valid_strings = find_codeposts(some_codeposts) "
   ]
  },
  {
   "cell_type": "markdown",
   "metadata": {},
   "source": [
    "## Tests"
   ]
  },
  {
   "cell_type": "code",
   "execution_count": 17,
   "metadata": {},
   "outputs": [],
   "source": [
    "import unittest"
   ]
  },
  {
   "cell_type": "code",
   "execution_count": 18,
   "metadata": {},
   "outputs": [],
   "source": [
    "class TestFindDifference(unittest.TestCase):\n",
    "\n",
    "    def test_single_character_difference(self):\n",
    "        self.assertEqual(find_difference(\"abcd\", \"abcde\"), \"e\")\n",
    "        self.assertEqual(find_difference(\"helloworld\", \"2lololhwedr\"), \"2\")\n",
    "        self.assertEqual(find_difference(\"helloworld\", \"woldloherlA\"), \"A\")\n",
    "\n",
    "    def test_different_order(self):\n",
    "        self.assertEqual(find_difference(\"abcd\", \"eabcd\"), \"e\")\n",
    "\n",
    "    def test_repeated_characters(self):\n",
    "        self.assertEqual(find_difference(\"aabbcc\", \"aabbccd\"), \"d\")\n",
    "\n",
    "    def test_empty_string(self):\n",
    "        self.assertEqual(find_difference(\"\", \"a\"), \"a\")\n",
    "\n",
    "    def test_special_characters(self):\n",
    "        self.assertEqual(find_difference(\"!@#\", \"!@#$\"), \"$\")\n",
    "\n",
    "    def test_given_test(self):\n",
    "        self.assertEqual(find_difference(\"znajdzmnie\", \"midxnenazjz\"), \"x\")\n",
    "        self.assertEqual(find_difference(\"znajdzmnie\", \"midnenazjzx\"), \"x\")\n",
    "        self.assertEqual(find_difference(\"znajdzmnie\", \"znjemxnidza\"), \"x\")\n",
    "        self.assertEqual(find_difference(\"znajdzmnie\", \"xznjemnidza\"), \"x\")\n"
   ]
  },
  {
   "cell_type": "code",
   "execution_count": 19,
   "metadata": {},
   "outputs": [],
   "source": [
    "class TestFlattenFunction(unittest.TestCase):\n",
    "\n",
    "    def test_flatten_simple(self):\n",
    "        self.assertEqual(flatten_array([1, 2, 3]), [1, 2, 3])\n",
    "\n",
    "    def test_flatten_nested(self):\n",
    "        self.assertEqual(flatten_array([1, [2, 3], 4]), [1, 2, 3, 4])\n",
    "\n",
    "    def test_flatten_deeply_nested(self):\n",
    "        self.assertEqual(flatten_array([1, [2, [3, [4, 5]]], 6]), [1, 2, 3, 4, 5, 6])\n",
    "\n",
    "    def test_flatten_empty_list(self):\n",
    "        self.assertEqual(flatten_array([]), [])\n",
    "\n",
    "    def test_flatten_mixed_types(self):\n",
    "        self.assertEqual(flatten_array([1, 'a', [2, 'b', [3, 'c']]]), [1, 'a', 2, 'b', 3, 'c'])"
   ]
  },
  {
   "cell_type": "code",
   "execution_count": 20,
   "metadata": {},
   "outputs": [],
   "source": [
    "class TestFindKthDiv(unittest.TestCase):\n",
    "\n",
    "    def test_kth_divisor_provided(self):\n",
    "        self.assertEqual(find_kth_div(12, 1), 1)\n",
    "        self.assertEqual(find_kth_div(12, 2), 2)\n",
    "        self.assertEqual(find_kth_div(12, 3), 3)\n",
    "        self.assertEqual(find_kth_div(12, 4), 4)\n",
    "        self.assertEqual(find_kth_div(12, 5), 6)\n",
    "        self.assertEqual(find_kth_div(12, 6), 12)\n",
    "\n",
    "    def test_kth_divisor_does_not_exist(self):\n",
    "        self.assertEqual(find_kth_div(12, 7), -1)\n",
    "\n",
    "    def test_first_divisor(self):\n",
    "        self.assertEqual(find_kth_div(15, 1), 1)\n",
    "\n",
    "    def test_last_divisor(self):\n",
    "        self.assertEqual(find_kth_div(15, 4), 15)\n",
    "\n",
    "    def test_prime_number(self):\n",
    "        self.assertEqual(find_kth_div(13, 2), 13)\n",
    "\n",
    "    def test_large_number(self):\n",
    "        self.assertEqual(find_kth_div(100, 5), 10)\n",
    "\n",
    "    def test_single_divisor(self):\n",
    "        self.assertEqual(find_kth_div(1, 1), 1)\n",
    "\n",
    "    # def test_zero_divisor(self):\n",
    "    #     self.assertEqual(find_kth_div(0, 1), -1)"
   ]
  },
  {
   "cell_type": "code",
   "execution_count": 21,
   "metadata": {},
   "outputs": [],
   "source": [
    "class TestGetWordsStartingWithCapLetter(unittest.TestCase):\n",
    "\n",
    "    def test_single_word(self):\n",
    "        self.assertEqual(get_wordsstartingwithcapletter(\"Hello world\"), [\"Hello\"])\n",
    "\n",
    "    def test_multiple_words(self):\n",
    "        self.assertEqual(get_wordsstartingwithcapletter(\"Hello World from Python\"), [\"Hello\", \"World\", \"Python\"])\n",
    "\n",
    "    def test_no_capital_words(self):\n",
    "        self.assertEqual(get_wordsstartingwithcapletter(\"hello world\"), [])\n",
    "\n",
    "    def test_mixed_case_words(self):\n",
    "        self.assertEqual(get_wordsstartingwithcapletter(\"hello World from python\"), [\"World\"])\n",
    "\n",
    "    def test_special_characters(self):\n",
    "        self.assertEqual(get_wordsstartingwithcapletter(\"Hello, World! This is a Test.\"), [\"Hello\", \"World\", \"This\", \"Test\"])"
   ]
  },
  {
   "cell_type": "code",
   "execution_count": 22,
   "metadata": {},
   "outputs": [],
   "source": [
    "class TestExtractNums(unittest.TestCase):\n",
    "\n",
    "    def test_single_number(self):\n",
    "        self.assertEqual(extract_nums([\"The price is 45.99\"]), [45.99])\n",
    "\n",
    "    def test_multiple_numbers(self):\n",
    "        self.assertEqual(extract_nums([\"The temperatures are 23.5, 18.2, and 30.0\"]), [23.5, 18.2, 30.0])\n",
    "\n",
    "    def test_negative_numbers(self):\n",
    "        self.assertEqual(extract_nums([\"The values are -10, -20.5, and 30\"]), [-10.0, -20.5, 30.0])\n",
    "\n",
    "    def test_no_numbers(self):\n",
    "        self.assertEqual(extract_nums([\"No numbers here!\"]), [])\n",
    "\n",
    "    def test_mixed_text(self):\n",
    "        self.assertEqual(extract_nums([\"The price is $45.99 and the discount is 5.5%\"]), [45.99, 5.5])\n",
    "\n",
    "    def test_numbers_with_units(self):\n",
    "        self.assertEqual(extract_nums([\"Height: 180cm, Weight: 75kg\"]), [180.0, 75.0])\n",
    "\n",
    "    # def test_numbers_in_different_formats(self):\n",
    "    #     self.assertEqual(extract_nums([\"1,000.50 and 2.5e3\"]), [1000.50, 2.5])\n",
    "\n",
    "    def test_numbers_with_spaces(self):\n",
    "        self.assertEqual(extract_nums([\"The values are  10  ,  20.5  , and  30\"]), [10.0, 20.5, 30.0])\n",
    "\n",
    "    def test_numbers_with_special_characters(self):\n",
    "        self.assertEqual(extract_nums([\"The values are $10.5, €20.75, and £30.00\"]), [10.5, 20.75, 30.0])\n",
    "\n",
    "    def test_empty_string(self):\n",
    "        self.assertEqual(extract_nums([\"\"]), [])\n"
   ]
  },
  {
   "cell_type": "code",
   "execution_count": 23,
   "metadata": {},
   "outputs": [],
   "source": [
    "class TestFindCodepostsStrings(unittest.TestCase):\n",
    "\n",
    "    def test_invalid(self):\n",
    "        self.assertEqual(find_codeposts([\"123-45\"]), [])\n",
    "        self.assertEqual(find_codeposts([\"abc-def\", \"12-34a\", \"123-45\"]), [])\n",
    "\n",
    "    def test_sum_21(self):\n",
    "        self.assertEqual(find_codeposts([\"72-345\"]), [\"72-345\"])\n",
    "\n",
    "    def test_sum_not_21(self):\n",
    "        self.assertEqual(find_codeposts([\"12-344\"]), [])\n",
    "\n",
    "    def test_multiple_valid_strings(self):\n",
    "        self.assertEqual(find_codeposts([\"12-345\", \"21-123\", \"03-918\"]), [\"03-918\"])\n",
    "\n",
    "    def test_mixed_valid_and_invalid(self):\n",
    "        self.assertEqual(find_codeposts([\"1234-5\", \"12-345\", \"039-18\", \"03-918\", \"21-123\"]), [\"03-918\"])\n",
    "\n",
    "    def test_empty_list(self):\n",
    "        self.assertEqual(find_codeposts([]), [])\n",
    "\n",
    "    def test_no_valid_strings(self):\n",
    "        self.assertEqual(find_codeposts([\"99999\", \"8888-8\"]), [])\n",
    "\n",
    "    def test_special_characters(self):\n",
    "        self.assertEqual(find_codeposts([\"12-345!\", \"21-123#\"]), [])\n",
    "\n",
    "    def test_leading_zeros(self):\n",
    "        self.assertEqual(find_codeposts([\"03-918\", \"00-921\"]), [\"03-918\"])"
   ]
  },
  {
   "cell_type": "code",
   "execution_count": 177,
   "metadata": {},
   "outputs": [
    {
     "name": "stderr",
     "output_type": "stream",
     "text": [
      "test_empty_string (__main__.TestExtractNums.test_empty_string) ... ok\n",
      "test_mixed_text (__main__.TestExtractNums.test_mixed_text) ... ok\n",
      "test_multiple_numbers (__main__.TestExtractNums.test_multiple_numbers) ... ok\n",
      "test_negative_numbers (__main__.TestExtractNums.test_negative_numbers) ... ok\n",
      "test_no_numbers (__main__.TestExtractNums.test_no_numbers) ... ok\n",
      "test_numbers_with_spaces (__main__.TestExtractNums.test_numbers_with_spaces) ... ok\n",
      "test_numbers_with_special_characters (__main__.TestExtractNums.test_numbers_with_special_characters) ... ok\n",
      "test_numbers_with_units (__main__.TestExtractNums.test_numbers_with_units) ... ok\n",
      "test_single_number (__main__.TestExtractNums.test_single_number) ... ok\n",
      "test_empty_list (__main__.TestFindCodepostsStrings.test_empty_list) ... ok\n",
      "test_invalid (__main__.TestFindCodepostsStrings.test_invalid) ... ok\n",
      "test_leading_zeros (__main__.TestFindCodepostsStrings.test_leading_zeros) ... ok\n",
      "test_mixed_valid_and_invalid (__main__.TestFindCodepostsStrings.test_mixed_valid_and_invalid) ... ok\n",
      "test_multiple_valid_strings (__main__.TestFindCodepostsStrings.test_multiple_valid_strings) ... ok\n",
      "test_no_valid_strings (__main__.TestFindCodepostsStrings.test_no_valid_strings) ... ok\n",
      "test_special_characters (__main__.TestFindCodepostsStrings.test_special_characters) ... ok\n",
      "test_sum_21 (__main__.TestFindCodepostsStrings.test_sum_21) ... ok\n",
      "test_sum_not_21 (__main__.TestFindCodepostsStrings.test_sum_not_21) ... ok\n",
      "test_different_order (__main__.TestFindDifference.test_different_order) ... ok\n",
      "test_empty_string (__main__.TestFindDifference.test_empty_string) ... ok\n",
      "test_given_test (__main__.TestFindDifference.test_given_test) ... ok\n",
      "test_repeated_characters (__main__.TestFindDifference.test_repeated_characters) ... ok\n",
      "test_single_character_difference (__main__.TestFindDifference.test_single_character_difference) ... ok\n",
      "test_special_characters (__main__.TestFindDifference.test_special_characters) ... ok\n",
      "test_first_divisor (__main__.TestFindKthDiv.test_first_divisor) ... ok\n",
      "test_kth_divisor_does_not_exist (__main__.TestFindKthDiv.test_kth_divisor_does_not_exist) ... ok\n",
      "test_kth_divisor_provided (__main__.TestFindKthDiv.test_kth_divisor_provided) ... ok\n",
      "test_large_number (__main__.TestFindKthDiv.test_large_number) ... ok\n",
      "test_last_divisor (__main__.TestFindKthDiv.test_last_divisor) ... ok\n",
      "test_prime_number (__main__.TestFindKthDiv.test_prime_number) ... ok\n",
      "test_single_divisor (__main__.TestFindKthDiv.test_single_divisor) ... ok\n",
      "test_flatten_deeply_nested (__main__.TestFlattenFunction.test_flatten_deeply_nested) ... ok\n",
      "test_flatten_empty_list (__main__.TestFlattenFunction.test_flatten_empty_list) ... ok\n",
      "test_flatten_mixed_types (__main__.TestFlattenFunction.test_flatten_mixed_types) ... ok\n",
      "test_flatten_nested (__main__.TestFlattenFunction.test_flatten_nested) ... ok\n",
      "test_flatten_simple (__main__.TestFlattenFunction.test_flatten_simple) ... ok\n",
      "test_mixed_case_words (__main__.TestGetWordsStartingWithCapLetter.test_mixed_case_words) ... ok\n",
      "test_multiple_words (__main__.TestGetWordsStartingWithCapLetter.test_multiple_words) ... ok\n",
      "test_no_capital_words (__main__.TestGetWordsStartingWithCapLetter.test_no_capital_words) ... ok\n",
      "test_single_word (__main__.TestGetWordsStartingWithCapLetter.test_single_word) ... ok\n",
      "test_special_characters (__main__.TestGetWordsStartingWithCapLetter.test_special_characters) ... ok\n",
      "\n",
      "----------------------------------------------------------------------\n",
      "Ran 41 tests in 0.083s\n",
      "\n",
      "OK\n"
     ]
    },
    {
     "name": "stdout",
     "output_type": "stream",
     "text": [
      "[]\n",
      "[45.99, 5.5]\n",
      "[23.5, 18.2, 30.0]\n",
      "[-10.0, -20.5, 30.0]\n",
      "[]\n",
      "[10.0, 20.5, 30.0]\n",
      "[10.5, 20.75, 30.0]\n",
      "[180.0, 75.0]\n",
      "[45.99]\n",
      "[]\n",
      "[]\n",
      "[]\n",
      "['03-918']\n",
      "['03-918']\n",
      "['03-918']\n",
      "[]\n",
      "[]\n",
      "['72-345']\n",
      "[]\n",
      "['World']\n",
      "['Hello', 'World', 'Python']\n",
      "[]\n",
      "['Hello']\n",
      "['Hello', 'World', 'This', 'Test']\n"
     ]
    }
   ],
   "source": [
    "res = unittest.main(argv=[''], verbosity=3, exit=False)"
   ]
  },
  {
   "cell_type": "code",
   "execution_count": null,
   "metadata": {},
   "outputs": [],
   "source": []
  }
 ],
 "metadata": {
  "kernelspec": {
   "display_name": "ef_python",
   "language": "python",
   "name": "python3"
  },
  "language_info": {
   "codemirror_mode": {
    "name": "ipython",
    "version": 3
   },
   "file_extension": ".py",
   "mimetype": "text/x-python",
   "name": "python",
   "nbconvert_exporter": "python",
   "pygments_lexer": "ipython3",
   "version": "3.12.5"
  }
 },
 "nbformat": 4,
 "nbformat_minor": 2
}
