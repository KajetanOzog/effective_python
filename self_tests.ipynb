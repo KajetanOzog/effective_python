{
 "cells": [
  {
   "cell_type": "markdown",
   "metadata": {},
   "source": [
    "# Przykłady do part 007 #"
   ]
  },
  {
   "cell_type": "code",
   "execution_count": 23,
   "metadata": {},
   "outputs": [
    {
     "name": "stdout",
     "output_type": "stream",
     "text": [
      "<class 'type'>\n",
      "<class '__main__.MyClass'>\n"
     ]
    }
   ],
   "source": [
    "class MyClass:\n",
    "    def __init__(self, value):\n",
    "        self.value = value\n",
    "\n",
    "# Definiowanie klasy\n",
    "print(type(MyClass))  # Obiekt klasy MyClass\n",
    "\n",
    "# Tworzenie instancji\n",
    "instance = MyClass(42)\n",
    "print(type(instance))"
   ]
  },
  {
   "cell_type": "code",
   "execution_count": 25,
   "metadata": {},
   "outputs": [
    {
     "name": "stdout",
     "output_type": "stream",
     "text": [
      "From new\n",
      "<class '__main__.RectPointt'>\n",
      "(0, 0)\n",
      "{}\n",
      "From init\n",
      "<__main__.RectPointt object at 0x7faa4456ae40>\n",
      "From new\n",
      "<class '__main__.RectPointt'>\n",
      "(1, 0)\n",
      "{}\n",
      "From init\n",
      "<__main__.RectPointt object at 0x7faa4453fb90>\n",
      "From new\n",
      "<class '__main__.RectPointt'>\n",
      "(1, 1)\n",
      "{}\n",
      "From init\n",
      "<__main__.RectPointt object at 0x7faa44365400>\n",
      "From new\n",
      "<class '__main__.RectPointt'>\n",
      "(0, 1)\n",
      "{}\n",
      "From init\n",
      "<__main__.RectPointt object at 0x7faa44569df0>\n"
     ]
    },
    {
     "ename": "ValueError",
     "evalue": "Cannot create more objects",
     "output_type": "error",
     "traceback": [
      "\u001b[0;31m---------------------------------------------------------------------------\u001b[0m",
      "\u001b[0;31mValueError\u001b[0m                                Traceback (most recent call last)",
      "Cell \u001b[0;32mIn[25], line 28\u001b[0m\n\u001b[1;32m     26\u001b[0m p3 \u001b[38;5;241m=\u001b[39m RectPointt(\u001b[38;5;241m1\u001b[39m,\u001b[38;5;241m1\u001b[39m)\n\u001b[1;32m     27\u001b[0m p4 \u001b[38;5;241m=\u001b[39m RectPointt(\u001b[38;5;241m0\u001b[39m,\u001b[38;5;241m1\u001b[39m)\n\u001b[0;32m---> 28\u001b[0m p5 \u001b[38;5;241m=\u001b[39m \u001b[43mRectPointt\u001b[49m\u001b[43m(\u001b[49m\u001b[38;5;241;43m0\u001b[39;49m\u001b[43m,\u001b[49m\u001b[38;5;241;43m1\u001b[39;49m\u001b[43m)\u001b[49m\n",
      "Cell \u001b[0;32mIn[25], line 21\u001b[0m, in \u001b[0;36mRectPointt.__new__\u001b[0;34m(cls, *args, **kwargs)\u001b[0m\n\u001b[1;32m     19\u001b[0m \u001b[38;5;28;01mdef\u001b[39;00m \u001b[38;5;21m__new__\u001b[39m(\u001b[38;5;28mcls\u001b[39m,\u001b[38;5;241m*\u001b[39margs,\u001b[38;5;241m*\u001b[39m\u001b[38;5;241m*\u001b[39mkwargs):\n\u001b[1;32m     20\u001b[0m     \u001b[38;5;28;01mif\u001b[39;00m (\u001b[38;5;28mcls\u001b[39m\u001b[38;5;241m.\u001b[39mInst_created \u001b[38;5;241m>\u001b[39m\u001b[38;5;241m=\u001b[39m \u001b[38;5;28mcls\u001b[39m\u001b[38;5;241m.\u001b[39mMAX_Inst):\n\u001b[0;32m---> 21\u001b[0m         \u001b[38;5;28;01mraise\u001b[39;00m \u001b[38;5;167;01mValueError\u001b[39;00m(\u001b[38;5;124m\"\u001b[39m\u001b[38;5;124mCannot create more objects\u001b[39m\u001b[38;5;124m\"\u001b[39m)\n\u001b[1;32m     22\u001b[0m     \u001b[38;5;28mcls\u001b[39m\u001b[38;5;241m.\u001b[39mInst_created \u001b[38;5;241m+\u001b[39m\u001b[38;5;241m=\u001b[39m \u001b[38;5;241m1\u001b[39m\n\u001b[1;32m     23\u001b[0m     \u001b[38;5;28;01mreturn\u001b[39;00m \u001b[38;5;28msuper\u001b[39m()\u001b[38;5;241m.\u001b[39m\u001b[38;5;21m__new__\u001b[39m(\u001b[38;5;28mcls\u001b[39m, \u001b[38;5;241m*\u001b[39margs, \u001b[38;5;241m*\u001b[39m\u001b[38;5;241m*\u001b[39mkwargs)\n",
      "\u001b[0;31mValueError\u001b[0m: Cannot create more objects"
     ]
    }
   ],
   "source": [
    "class Point():\n",
    "    def __new__(cls,*args,**kwargs):\n",
    "        print(\"From new\")\n",
    "        print(cls)\n",
    "        print(args)\n",
    "        print(kwargs)\n",
    "        # create our object and return it\n",
    "        obj = super().__new__(cls)\n",
    "        return obj\n",
    "    def __init__(self, x = 0, y = 0):\n",
    "        print(\"From init\")\n",
    "        print(self)\n",
    "        self.x = x\n",
    "        self.y = y\n",
    "\n",
    "class RectPointt(Point):\n",
    "    MAX_Inst = 4\n",
    "    Inst_created = 0\n",
    "    def __new__(cls,*args,**kwargs):\n",
    "        if (cls.Inst_created >= cls.MAX_Inst):\n",
    "            raise ValueError(\"Cannot create more objects\")\n",
    "        cls.Inst_created += 1\n",
    "        return super().__new__(cls, *args, **kwargs)\n",
    "p1 = RectPointt(0, 0)\n",
    "p2 = RectPointt(1,0)\n",
    "p3 = RectPointt(1,1)\n",
    "p4 = RectPointt(0,1)\n",
    "p5 = RectPointt(0,1)"
   ]
  },
  {
   "cell_type": "code",
   "execution_count": null,
   "metadata": {},
   "outputs": [
    {
     "data": {
      "text/plain": [
       "True"
      ]
     },
     "execution_count": 30,
     "metadata": {},
     "output_type": "execute_result"
    }
   ],
   "source": [
    "_singleton = None\n",
    "\n",
    "class Example:\n",
    "    def __new__(cls):\n",
    "        global _singleton\n",
    "\n",
    "        if _singleton is None:\n",
    "            _singleton = super(Example, cls).__new__(cls) # super(Example, cls). pozwala na zaczecie szukania w hiererhi dziedziczenia od Example\n",
    "\n",
    "        return _singleton\n",
    "\n",
    "a = Example()\n",
    "b = Example()\n",
    "a is b"
   ]
  },
  {
   "cell_type": "code",
   "execution_count": 31,
   "metadata": {},
   "outputs": [
    {
     "data": {
      "text/plain": [
       "int"
      ]
     },
     "execution_count": 31,
     "metadata": {},
     "output_type": "execute_result"
    }
   ],
   "source": [
    "class Example:\n",
    "    def __new__(cls):\n",
    "        return 3\n",
    "\n",
    "type(Example())"
   ]
  },
  {
   "cell_type": "code",
   "execution_count": 12,
   "metadata": {},
   "outputs": [
    {
     "name": "stdout",
     "output_type": "stream",
     "text": [
      "<bound method Pizza.eat_slice of 4\" pizza>\n",
      "Oh no! Out of pizza\n",
      "None\n"
     ]
    },
    {
     "data": {
      "text/plain": [
       "4\" pizza"
      ]
     },
     "execution_count": 12,
     "metadata": {},
     "output_type": "execute_result"
    }
   ],
   "source": [
    "class Pizza:\n",
    "    def __init__(self, radius, toppings, slices=8):\n",
    "        self.radius = radius\n",
    "        self.toppings = toppings\n",
    "        self.slices_left = slices\n",
    "    def eat_slice(self):\n",
    "        if self.slices_left > 0:\n",
    "            print(\"0\")\n",
    "            self.slices_left -= 1\n",
    "        else:\n",
    "            print(\"Oh no! Out of pizza\")\n",
    "    def __repr__(self):\n",
    "        return '{}\" pizza'.format(self.radius)\n",
    "\n",
    "p = Pizza(14, (\"Pepperoni\", \"Olives\"), slices=12)\n",
    "method = p.eat_slice\n",
    "p.radius = 4\n",
    "print(p.eat_slice)\n",
    "p.slices_left = 0\n",
    "method.__self__\n",
    "print(method.__func__(p))\n",
    "method.__self__"
   ]
  },
  {
   "cell_type": "code",
   "execution_count": 15,
   "metadata": {},
   "outputs": [
    {
     "name": "stdout",
     "output_type": "stream",
     "text": [
      "Canine\n",
      "Canine\n",
      "Astro\n",
      "Mr. Peanut Butter\n",
      "Marian\n",
      "Canine\n",
      "Marian\n",
      "Darek\n"
     ]
    }
   ],
   "source": [
    "class Dog:\n",
    "    kind = 'Canine' # class variable shared by all instances\n",
    "    \n",
    "    def __init__(self, name):\n",
    "        self.name = name # instance variable unique to each instance\n",
    "        \n",
    "a = Dog('Astro')\n",
    "pb = Dog('Mr. Peanut Butter')\n",
    "\n",
    "print(a.kind)      # 'Canine' (shared by all dogs)\n",
    "print(pb.kind)    # 'Canine' (shared by all dogs)\n",
    "print(a.name)   # 'Astro' (unique to a)\n",
    "print(pb.name) # 'Mr. Peanut Butter' (unique to pb)\n",
    "a.kind = \"Marian\"\n",
    "print(a.kind)\n",
    "print(pb.kind)\n",
    "Dog.kind = \"Darek\"\n",
    "print(a.kind)\n",
    "print(pb.kind)"
   ]
  },
  {
   "cell_type": "code",
   "execution_count": 19,
   "metadata": {},
   "outputs": [
    {
     "name": "stdout",
     "output_type": "stream",
     "text": [
      "['roll over', 'play dead']\n",
      "['roll over', 'play dead']\n",
      "['roll over', 'play dead']\n",
      "[]\n",
      "[]\n",
      "[]\n"
     ]
    }
   ],
   "source": [
    "class Dog:\n",
    "    tricks = []\n",
    "    def __init__(self, name):\n",
    "        self.name = name\n",
    "    def add_trick(self, trick):\n",
    "        self.tricks.append(trick)\n",
    "d = Dog('Fido')\n",
    "e = Dog('Buddy')\n",
    "d.add_trick('roll over')\n",
    "e.add_trick('play dead')\n",
    "print(d.tricks)\n",
    "print(e.tricks)\n",
    "print(Dog.tricks)\n",
    "Dog.tricks = []\n",
    "print(d.tricks)\n",
    "print(e.tricks)\n",
    "print(Dog.tricks)"
   ]
  },
  {
   "cell_type": "code",
   "execution_count": 20,
   "metadata": {},
   "outputs": [
    {
     "data": {
      "text/plain": [
       "['roll over', 'play dead']"
      ]
     },
     "execution_count": 20,
     "metadata": {},
     "output_type": "execute_result"
    }
   ],
   "source": [
    "class Dog:\n",
    "    # Let's try a default argument!\n",
    "    def __init__(self, name='', tricks=[]):\n",
    "        self.name = name\n",
    "        self.tricks = tricks\n",
    "    def add_trick(self, trick):\n",
    "        self.tricks.append(trick)\n",
    "d = Dog('Fido')\n",
    "e = Dog('Buddy')\n",
    "d.add_trick('roll over')\n",
    "e.add_trick('play dead')\n",
    "d.tricks"
   ]
  },
  {
   "cell_type": "code",
   "execution_count": 21,
   "metadata": {},
   "outputs": [
    {
     "data": {
      "text/plain": [
       "['play dead']"
      ]
     },
     "execution_count": 21,
     "metadata": {},
     "output_type": "execute_result"
    }
   ],
   "source": [
    "class Dog:\n",
    "    def __init__(self, name):\n",
    "        self.name = name\n",
    "        self.tricks = [] # New list for each dog\n",
    "    def add_trick(self, trick):\n",
    "        self.tricks.append(trick)\n",
    "\n",
    "d = Dog('Fido')\n",
    "e = Dog('Buddy')\n",
    "d.add_trick('roll over')\n",
    "e.add_trick('play dead')\n",
    "d.tricks # => ['roll over']\n",
    "e.tricks # => ['play dead']"
   ]
  },
  {
   "cell_type": "code",
   "execution_count": 23,
   "metadata": {},
   "outputs": [
    {
     "name": "stdout",
     "output_type": "stream",
     "text": [
      "unnamed\n"
     ]
    }
   ],
   "source": [
    "class Cat:\n",
    "    def __init__(self, name='unnamed'):\n",
    "        self.name = name\n",
    "    def __print_my_name(self):\n",
    "        print(self.name)\n",
    "tom = Cat()\n",
    "tom._Cat__print_my_name()"
   ]
  },
  {
   "cell_type": "markdown",
   "metadata": {},
   "source": [
    "### __contains__ ###"
   ]
  },
  {
   "cell_type": "code",
   "execution_count": 25,
   "metadata": {},
   "outputs": [
    {
     "name": "stdout",
     "output_type": "stream",
     "text": [
      "True\n"
     ]
    }
   ],
   "source": [
    "class MagicClass:\n",
    "    def __init__(self, data):\n",
    "        self.data = data\n",
    "        \n",
    "    def __contains__(self, key):\n",
    "        return key in self.data\n",
    "obj = MagicClass([1, 2, 3])\n",
    "print(2 in obj)  # True\n"
   ]
  },
  {
   "cell_type": "markdown",
   "metadata": {},
   "source": [
    "### __add__ ###"
   ]
  },
  {
   "cell_type": "code",
   "execution_count": 26,
   "metadata": {},
   "outputs": [
    {
     "name": "stdout",
     "output_type": "stream",
     "text": [
      "15\n"
     ]
    }
   ],
   "source": [
    "class MagicClass:\n",
    "    def __init__(self, value):\n",
    "        self.value = value\n",
    "        \n",
    "    def __add__(self, other):\n",
    "        return MagicClass(self.value + other.value)\n",
    "\n",
    "obj1 = MagicClass(5)\n",
    "obj2 = MagicClass(10)\n",
    "result = obj1 + obj2\n",
    "print(result.value)"
   ]
  },
  {
   "cell_type": "markdown",
   "metadata": {},
   "source": [
    "### __iter__ , __next__ ###"
   ]
  },
  {
   "cell_type": "code",
   "execution_count": 1,
   "metadata": {},
   "outputs": [
    {
     "name": "stdout",
     "output_type": "stream",
     "text": [
      "1\n",
      "2\n",
      "3\n",
      "-------------\n",
      "1\n",
      "2\n",
      "3\n"
     ]
    },
    {
     "ename": "StopIteration",
     "evalue": "",
     "output_type": "error",
     "traceback": [
      "\u001b[0;31m---------------------------------------------------------------------------\u001b[0m",
      "\u001b[0;31mStopIteration\u001b[0m                             Traceback (most recent call last)",
      "Cell \u001b[0;32mIn[1], line 26\u001b[0m\n\u001b[1;32m     24\u001b[0m \u001b[38;5;28mprint\u001b[39m(\u001b[38;5;28mnext\u001b[39m(iterator))  \u001b[38;5;66;03m# Output: 2\u001b[39;00m\n\u001b[1;32m     25\u001b[0m \u001b[38;5;28mprint\u001b[39m(\u001b[38;5;28mnext\u001b[39m(iterator)) \n\u001b[0;32m---> 26\u001b[0m \u001b[38;5;28mprint\u001b[39m(\u001b[38;5;28;43mnext\u001b[39;49m\u001b[43m(\u001b[49m\u001b[43miterator\u001b[49m\u001b[43m)\u001b[49m)\n",
      "Cell \u001b[0;32mIn[1], line 15\u001b[0m, in \u001b[0;36mMagicClass.__next__\u001b[0;34m(self)\u001b[0m\n\u001b[1;32m     13\u001b[0m     \u001b[38;5;28;01mreturn\u001b[39;00m result\n\u001b[1;32m     14\u001b[0m \u001b[38;5;28;01melse\u001b[39;00m:\n\u001b[0;32m---> 15\u001b[0m     \u001b[38;5;28;01mraise\u001b[39;00m \u001b[38;5;167;01mStopIteration\u001b[39;00m\n",
      "\u001b[0;31mStopIteration\u001b[0m: "
     ]
    }
   ],
   "source": [
    "class MagicClass:\n",
    "    def __init__(self, data):\n",
    "        self.data = data\n",
    "        \n",
    "    def __iter__(self):\n",
    "        self.index = 0\n",
    "        return self\n",
    "        \n",
    "    def __next__(self):\n",
    "        if self.index < len(self.data):\n",
    "            result = self.data[self.index]\n",
    "            self.index += 1\n",
    "            return result\n",
    "        else:\n",
    "            raise StopIteration\n",
    "\n",
    "obj = MagicClass([1, 2, 3])\n",
    "for item in obj:\n",
    "    print(item)\n",
    "print(\"-------------\")\n",
    "obj = MagicClass([1, 2, 3])\n",
    "iterator = iter(obj)\n",
    "print(next(iterator))  # Output: 1\n",
    "print(next(iterator))  # Output: 2\n",
    "print(next(iterator)) \n",
    "print(next(iterator))"
   ]
  },
  {
   "cell_type": "markdown",
   "metadata": {},
   "source": [
    "### __getitem__ ###"
   ]
  },
  {
   "cell_type": "code",
   "execution_count": 3,
   "metadata": {},
   "outputs": [
    {
     "name": "stdout",
     "output_type": "stream",
     "text": [
      "20\n"
     ]
    }
   ],
   "source": [
    "class MagicClass:\n",
    "    def __init__(self, data):\n",
    "        self.data = data\n",
    "        \n",
    "    def __getitem__(self, key):\n",
    "        return self.data[key]\n",
    "\n",
    "obj = MagicClass([10, 20, 30])\n",
    "print(obj[1])"
   ]
  },
  {
   "cell_type": "markdown",
   "metadata": {},
   "source": [
    "### __len__ ###"
   ]
  },
  {
   "cell_type": "code",
   "execution_count": 4,
   "metadata": {},
   "outputs": [
    {
     "name": "stdout",
     "output_type": "stream",
     "text": [
      "3\n"
     ]
    }
   ],
   "source": [
    "class MagicClass:\n",
    "    def __init__(self, data):\n",
    "        self.data = data\n",
    "        \n",
    "    def __len__(self):\n",
    "        return len(self.data)\n",
    "\n",
    "obj = MagicClass([10, 20, 30])\n",
    "print(len(obj)) "
   ]
  },
  {
   "cell_type": "markdown",
   "metadata": {},
   "source": [
    "### __lt__ ###"
   ]
  },
  {
   "cell_type": "code",
   "execution_count": 5,
   "metadata": {},
   "outputs": [
    {
     "name": "stdout",
     "output_type": "stream",
     "text": [
      "True\n"
     ]
    }
   ],
   "source": [
    "class MagicClass:\n",
    "    def __init__(self, value):\n",
    "        self.value = value\n",
    "        \n",
    "    def __lt__(self, other):\n",
    "        return self.value < other.value\n",
    "\n",
    "obj1 = MagicClass(5)\n",
    "obj2 = MagicClass(10)\n",
    "print(obj1 < obj2)  # Output: True\n"
   ]
  },
  {
   "cell_type": "markdown",
   "metadata": {},
   "source": [
    "### __eq__ ###"
   ]
  },
  {
   "cell_type": "code",
   "execution_count": 6,
   "metadata": {},
   "outputs": [
    {
     "name": "stdout",
     "output_type": "stream",
     "text": [
      "True\n",
      "False\n"
     ]
    }
   ],
   "source": [
    "class MagicClass:\n",
    "    def __init__(self, value):\n",
    "        self.value = value\n",
    "        \n",
    "    def __eq__(self, other):\n",
    "        return self.value == other.value\n",
    "\n",
    "obj1 = MagicClass(10)\n",
    "obj2 = MagicClass(10)\n",
    "obj3 = MagicClass(20)\n",
    "print(obj1 == obj2)  # Output: True\n",
    "print(obj1 == obj3)  # Output: False\n"
   ]
  },
  {
   "cell_type": "markdown",
   "metadata": {},
   "source": [
    "### __str__ ###"
   ]
  },
  {
   "cell_type": "code",
   "execution_count": 7,
   "metadata": {},
   "outputs": [
    {
     "name": "stdout",
     "output_type": "stream",
     "text": [
      "MagicClass with value 10\n"
     ]
    }
   ],
   "source": [
    "class MagicClass:\n",
    "    def __init__(self, value):\n",
    "        self.value = value\n",
    "        \n",
    "    def __str__(self):\n",
    "        return f\"MagicClass with value {self.value}\"\n",
    "\n",
    "obj = MagicClass(10)\n",
    "print(obj)  # Output: MagicClass with value 10\n"
   ]
  },
  {
   "cell_type": "markdown",
   "metadata": {},
   "source": [
    "### __repr__ ###"
   ]
  },
  {
   "cell_type": "code",
   "execution_count": 9,
   "metadata": {},
   "outputs": [
    {
     "name": "stdout",
     "output_type": "stream",
     "text": [
      "MagicClass(10)\n"
     ]
    }
   ],
   "source": [
    "class MagicClass:\n",
    "    def __init__(self, value):\n",
    "        self.value = value\n",
    "        \n",
    "    def __repr__(self):\n",
    "        return f\"MagicClass({self.value!r})\"\n",
    "\n",
    "obj = MagicClass(10)\n",
    "print(repr(obj))  # Output: MagicClass(10)\n"
   ]
  },
  {
   "cell_type": "code",
   "execution_count": 10,
   "metadata": {},
   "outputs": [
    {
     "name": "stdout",
     "output_type": "stream",
     "text": [
      "Wykonuję kod w try\n",
      "Zawsze się wykonam - blok finally!\n"
     ]
    },
    {
     "ename": "ZeroDivisionError",
     "evalue": "division by zero",
     "output_type": "error",
     "traceback": [
      "\u001b[0;31m---------------------------------------------------------------------------\u001b[0m",
      "\u001b[0;31mZeroDivisionError\u001b[0m                         Traceback (most recent call last)",
      "Cell \u001b[0;32mIn[10], line 11\u001b[0m\n\u001b[1;32m      8\u001b[0m     \u001b[38;5;28;01mfinally\u001b[39;00m:\n\u001b[1;32m      9\u001b[0m         \u001b[38;5;28mprint\u001b[39m(\u001b[38;5;124m\"\u001b[39m\u001b[38;5;124mZawsze się wykonam - blok finally!\u001b[39m\u001b[38;5;124m\"\u001b[39m)\n\u001b[0;32m---> 11\u001b[0m \u001b[43mtest_function\u001b[49m\u001b[43m(\u001b[49m\u001b[43m)\u001b[49m\n",
      "Cell \u001b[0;32mIn[10], line 5\u001b[0m, in \u001b[0;36mtest_function\u001b[0;34m()\u001b[0m\n\u001b[1;32m      3\u001b[0m     \u001b[38;5;28mprint\u001b[39m(\u001b[38;5;124m\"\u001b[39m\u001b[38;5;124mWykonuję kod w try\u001b[39m\u001b[38;5;124m\"\u001b[39m)\n\u001b[1;32m      4\u001b[0m     \u001b[38;5;66;03m# Tu powodujemy wyjątek, który nie jest obsługiwany\u001b[39;00m\n\u001b[0;32m----> 5\u001b[0m     result \u001b[38;5;241m=\u001b[39m \u001b[38;5;241;43m10\u001b[39;49m\u001b[43m \u001b[49m\u001b[38;5;241;43m/\u001b[39;49m\u001b[43m \u001b[49m\u001b[38;5;241;43m0\u001b[39;49m  \u001b[38;5;66;03m# ZeroDivisionError\u001b[39;00m\n\u001b[1;32m      6\u001b[0m \u001b[38;5;28;01mexcept\u001b[39;00m \u001b[38;5;167;01mValueError\u001b[39;00m:\n\u001b[1;32m      7\u001b[0m     \u001b[38;5;28mprint\u001b[39m(\u001b[38;5;124m\"\u001b[39m\u001b[38;5;124mBłąd: niewłaściwa wartość\u001b[39m\u001b[38;5;124m\"\u001b[39m)\n",
      "\u001b[0;31mZeroDivisionError\u001b[0m: division by zero"
     ]
    }
   ],
   "source": [
    "def test_function():\n",
    "    try:\n",
    "        print(\"Wykonuję kod w try\")\n",
    "        # Tu powodujemy wyjątek, który nie jest obsługiwany\n",
    "        result = 10 / 0  # ZeroDivisionError\n",
    "    except ValueError:\n",
    "        print(\"Błąd: niewłaściwa wartość\")\n",
    "    finally:\n",
    "        print(\"Zawsze się wykonam - blok finally!\")\n",
    "\n",
    "test_function()\n"
   ]
  },
  {
   "cell_type": "code",
   "execution_count": null,
   "metadata": {},
   "outputs": [],
   "source": []
  }
 ],
 "metadata": {
  "kernelspec": {
   "display_name": "EF_Python",
   "language": "python",
   "name": "python3"
  },
  "language_info": {
   "codemirror_mode": {
    "name": "ipython",
    "version": 3
   },
   "file_extension": ".py",
   "mimetype": "text/x-python",
   "name": "python",
   "nbconvert_exporter": "python",
   "pygments_lexer": "ipython3",
   "version": "3.12.7"
  }
 },
 "nbformat": 4,
 "nbformat_minor": 2
}
