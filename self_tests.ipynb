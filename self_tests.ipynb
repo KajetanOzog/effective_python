{
 "cells": [
  {
   "cell_type": "code",
   "execution_count": 10,
   "metadata": {},
   "outputs": [],
   "source": [
    "def decorator(f):\n",
    "    f.counter = 0  # Initialize a counter for each function\n",
    "    def wrapper(*args, **kwargs):\n",
    "        wrapper.counter += 1  # Increment the counter for the specific function\n",
    "        result = f(*args, **kwargs)\n",
    "        print(f\"{f.__name__} has been called {wrapper.counter} times\")\n",
    "        return result\n",
    "    wrapper.counter = 0  # Initialize the counter for this specific wrapper\n",
    "    return wrapper\n"
   ]
  },
  {
   "cell_type": "code",
   "execution_count": 9,
   "metadata": {},
   "outputs": [
    {
     "name": "stdout",
     "output_type": "stream",
     "text": [
      "['A', 'L', 'A', ' ', 'M', 'A', ' ', 'K', 'O', 'T', 'A']\n"
     ]
    }
   ],
   "source": [
    "print(list(map(lambda x: x.upper(), 'ala ma kota')))"
   ]
  },
  {
   "cell_type": "code",
   "execution_count": null,
   "metadata": {},
   "outputs": [],
   "source": []
  }
 ],
 "metadata": {
  "kernelspec": {
   "display_name": "EF_Python",
   "language": "python",
   "name": "python3"
  },
  "language_info": {
   "codemirror_mode": {
    "name": "ipython",
    "version": 3
   },
   "file_extension": ".py",
   "mimetype": "text/x-python",
   "name": "python",
   "nbconvert_exporter": "python",
   "pygments_lexer": "ipython3",
   "version": "3.12.7"
  }
 },
 "nbformat": 4,
 "nbformat_minor": 2
}
