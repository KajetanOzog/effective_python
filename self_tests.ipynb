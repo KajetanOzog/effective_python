{
 "cells": [
  {
   "cell_type": "code",
   "execution_count": 10,
   "metadata": {},
   "outputs": [],
   "source": [
    "def decorator(f):\n",
    "    f.counter = 0  # Initialize a counter for each function\n",
    "    def wrapper(*args, **kwargs):\n",
    "        wrapper.counter += 1  # Increment the counter for the specific function\n",
    "        result = f(*args, **kwargs)\n",
    "        print(f\"{f.__name__} has been called {wrapper.counter} times\")\n",
    "        return result\n",
    "    wrapper.counter = 0  # Initialize the counter for this specific wrapper\n",
    "    return wrapper\n"
   ]
  },
  {
   "cell_type": "code",
   "execution_count": 11,
   "metadata": {},
   "outputs": [
    {
     "name": "stdout",
     "output_type": "stream",
     "text": [
      "g has been called 1 times\n",
      "g has been called 2 times\n",
      "t has been called 1 times\n",
      "t has been called 2 times\n"
     ]
    }
   ],
   "source": [
    "@decorator\n",
    "def g():\n",
    "    pass\n",
    "\n",
    "@decorator\n",
    "def t():\n",
    "    pass\n",
    "g()\n",
    "g()\n",
    "t()\n",
    "t()"
   ]
  },
  {
   "cell_type": "code",
   "execution_count": null,
   "metadata": {},
   "outputs": [],
   "source": []
  }
 ],
 "metadata": {
  "kernelspec": {
   "display_name": "EF_Python",
   "language": "python",
   "name": "python3"
  },
  "language_info": {
   "codemirror_mode": {
    "name": "ipython",
    "version": 3
   },
   "file_extension": ".py",
   "mimetype": "text/x-python",
   "name": "python",
   "nbconvert_exporter": "python",
   "pygments_lexer": "ipython3",
   "version": "3.12.7"
  }
 },
 "nbformat": 4,
 "nbformat_minor": 2
}
