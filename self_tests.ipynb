{
 "cells": [
  {
   "cell_type": "code",
   "execution_count": 9,
   "metadata": {},
   "outputs": [
    {
     "name": "stdout",
     "output_type": "stream",
     "text": [
      "0 1 1\n",
      "0 2 1\n",
      "0 2 2\n",
      "0 3 1\n",
      "0 3 2\n",
      "0 3 3\n",
      "1 2 1\n",
      "1 3 1\n",
      "1 3 2\n",
      "2 3 1\n"
     ]
    }
   ],
   "source": [
    "for j in range(3):\n",
    "    for k in range(j + 1, 4):\n",
    "        for l in range(1, k+1):\n",
    "            if j + l <= k:\n",
    "                print(j, k, l)\n"
   ]
  },
  {
   "cell_type": "code",
   "execution_count": null,
   "metadata": {},
   "outputs": [],
   "source": []
  }
 ],
 "metadata": {
  "kernelspec": {
   "display_name": "EF_Python",
   "language": "python",
   "name": "python3"
  },
  "language_info": {
   "codemirror_mode": {
    "name": "ipython",
    "version": 3
   },
   "file_extension": ".py",
   "mimetype": "text/x-python",
   "name": "python",
   "nbconvert_exporter": "python",
   "pygments_lexer": "ipython3",
   "version": "3.12.7"
  }
 },
 "nbformat": 4,
 "nbformat_minor": 2
}
